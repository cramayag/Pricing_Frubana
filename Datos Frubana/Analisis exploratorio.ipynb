{
 "cells": [
  {
   "cell_type": "markdown",
   "id": "ebf1820b-ede9-4b04-87d2-0ced57f00c44",
   "metadata": {},
   "source": [
    "## Librerias y Funciones\n",
    "\n",
    "Primero vamos a llamar las librerías que vamos a usar"
   ]
  },
  {
   "cell_type": "code",
   "execution_count": 1,
   "id": "5be37a1d-36c5-4bd3-8272-63adf0f47069",
   "metadata": {},
   "outputs": [],
   "source": [
    "import pickle\n",
    "import numpy as np\n",
    "import pandas as pd\n",
    "import os\n",
    "import datetime\n",
    "import seaborn as sns"
   ]
  },
  {
   "cell_type": "markdown",
   "id": "55ee9f8a-4ef9-4095-88cd-9a4bd22c66a3",
   "metadata": {},
   "source": [
    "Algunas funciones que hemos creado para describir nuestras bases de datos."
   ]
  },
  {
   "cell_type": "code",
   "execution_count": 2,
   "id": "98581f72-88bf-41e0-b8ac-09b098e54773",
   "metadata": {},
   "outputs": [],
   "source": [
    "def mostrar_dimensiones(_df):\n",
    "    size = _df.size\n",
    "    shape = _df.shape\n",
    "    df_ndim = _df.ndim\n",
    "    return print(\"\"\"Dimensiones de la tabla: \\nTamaño = {}\\nForma = {}\\nForma[0] x Forma[1] = {}\n",
    "                 \\nDimensiones de la tabla = {}\\n\\nDescripcion de las columnas de la tabla:\\n\"\"\".\n",
    "          format(size, shape, shape[0]*shape[1],df_ndim)), _df.info()\n",
    "\n",
    "def crear_calidad(_df):\n",
    "    completitud = []\n",
    "    for i in list(_df.columns):\n",
    "        vacios = _df[(_df[i]==\"\")|(_df[i].isna())|(_df[i].isnull())]\n",
    "        count_vacios = len(vacios)\n",
    "        medida = round((1-(count_vacios/len(_df)))*100,2)\n",
    "        completitud.append([i,medida])\n",
    "    \n",
    "    calidad_df = pd.DataFrame(completitud, columns = ['Columna','Completitud de Col(%)'])\n",
    "    unicidad=[]\n",
    "    distintivo=[]\n",
    "    type_col = []\n",
    "    Moda= []\n",
    "    for j in list(_df.columns):\n",
    "        unico = len(_df[_df[j].duplicated()==False])\n",
    "        temp_df = _df[_df[j].duplicated()==True]\n",
    "        distinto = len(temp_df[j].unique())\n",
    "        unicidad.append(unico-distinto)\n",
    "        distintivo.append(distinto)\n",
    "        type_col.append(_df[j].dtypes)\n",
    "        Moda.append(_df[j].mode()[0])\n",
    "    \n",
    "    calidad_df['# Unicos']=unicidad\n",
    "    calidad_df['# Distintos']=distintivo\n",
    "    calidad_df['Tipo de Columna']=type_col\n",
    "    calidad_df['Moda']=Moda\n",
    "    \n",
    "    return calidad_df\n",
    "\n",
    "def calidad_num(_df):\n",
    "    var_numericas = _df.describe().transpose()\n",
    "    var_numericas.reset_index(inplace=True)\n",
    "    var_numericas = var_numericas.rename(columns={'index':'Columna'})\n",
    "    cal_df = crear_calidad(_df)\n",
    "\n",
    "    descriptivos_num = cal_df.merge(var_numericas, on='Columna', how='left')\n",
    "    descriptivos_num = descriptivos_num.replace(np.nan, '',regex=True)\n",
    " #   descriptivos_num = descriptivos_num[(descriptivos_num['Tipo de Columna']=='int32')|(descriptivos_num['Tipo de Columna']=='float64')]\n",
    "    \n",
    "    return descriptivos_num\n",
    "\n",
    "def pareto_entry(_col,_df):\n",
    "    cuenta = []\n",
    "    unicos = []\n",
    "    porcentaje = []\n",
    "    for i in list(_df[_col].unique()):\n",
    "        tempy = pd.DataFrame(_df[_col])\n",
    "        cuenta.append(tempy[tempy[_col]==i].count()[0])\n",
    "        unicos.append(i)\n",
    "        porcentaje.append(round(tempy[tempy[_col]==i].count()[0]/len(_df),3)*100)\n",
    "    \n",
    "    pareto_df = pd.DataFrame(unicos, columns=[_col])\n",
    "    pareto_df['Count'] = cuenta\n",
    "    pareto_df['Percentage'] = porcentaje\n",
    "    pareto_df = pareto_df.sort_values(by=['Count'], ascending=False)\n",
    "    pareto_df['Cum_Percentage'] = round(100*(pareto_df['Count'].cumsum()/pareto_df['Count'].sum()),1)\n",
    "    \n",
    "    return pareto_df"
   ]
  },
  {
   "cell_type": "markdown",
   "id": "a21c9f33-4be4-480a-87bf-c42b84147beb",
   "metadata": {},
   "source": [
    "## Lectura de los datos\n",
    "\n",
    "Procedemos a la lectura de nuestros datos."
   ]
  },
  {
   "cell_type": "code",
   "execution_count": 3,
   "id": "be9c5e9a-de03-406c-958c-c506a5cf716a",
   "metadata": {},
   "outputs": [],
   "source": [
    "forecastLocation = \"Datos Frubana\\df_forecast_uniandes.pkl\"\n",
    "comprasLocation = \"Datos Frubana\\BAQ_compras.csv\"\n",
    "productosLocation = \"Datos Frubana\\Products_BAQ.csv\"\n",
    "wastePercentageLocation = \"Datos Frubana\\waste_percentage_by_age.csv\"\n",
    "ventasLocationFolder = os.listdir(\"Datos Frubana\\\\ventas\")\n",
    "ventasLocation = \"Datos Frubana\\\\ventas\""
   ]
  },
  {
   "cell_type": "code",
   "execution_count": 4,
   "id": "6fbf01e0-8128-4442-8d2a-40100a5f5c24",
   "metadata": {},
   "outputs": [],
   "source": [
    "compras = pd.read_csv(comprasLocation)\n",
    "productos = pd.read_csv(productosLocation)\n",
    "wastePercentageAge = pd.read_csv(wastePercentageLocation)"
   ]
  },
  {
   "cell_type": "code",
   "execution_count": 5,
   "id": "2b501f2f-cd5a-46fe-bfcb-8d6b7a5c66e1",
   "metadata": {},
   "outputs": [],
   "source": [
    "with open (forecastLocation, 'rb') as file:\n",
    "    forecast = pickle.load(file)\n",
    "\n",
    "ventas = pd.DataFrame()    \n",
    "for i in ventasLocationFolder:\n",
    "    with open(ventasLocation + \"\\\\\" + i, 'rb') as file:\n",
    "        venticas = pickle.load(file)\n",
    "    ventas = pd.concat([ventas, venticas])"
   ]
  },
  {
   "cell_type": "markdown",
   "id": "a2b535cb-44ed-46a1-8047-f9cd6e47446c",
   "metadata": {},
   "source": [
    "### 1. Ventas\n",
    "\n",
    "Comenzaremos por diagnosticar nuestra base de datos de ventas."
   ]
  },
  {
   "cell_type": "code",
   "execution_count": 6,
   "id": "90f58133-ad27-4478-b450-b27609169462",
   "metadata": {},
   "outputs": [
    {
     "data": {
      "text/html": [
       "<div>\n",
       "<style scoped>\n",
       "    .dataframe tbody tr th:only-of-type {\n",
       "        vertical-align: middle;\n",
       "    }\n",
       "\n",
       "    .dataframe tbody tr th {\n",
       "        vertical-align: top;\n",
       "    }\n",
       "\n",
       "    .dataframe thead th {\n",
       "        text-align: right;\n",
       "    }\n",
       "</style>\n",
       "<table border=\"1\" class=\"dataframe\">\n",
       "  <thead>\n",
       "    <tr style=\"text-align: right;\">\n",
       "      <th></th>\n",
       "      <th>nro_orden</th>\n",
       "      <th>fecha</th>\n",
       "      <th>producto</th>\n",
       "      <th>cantidad</th>\n",
       "      <th>precio</th>\n",
       "      <th>descuento</th>\n",
       "      <th>customer_id</th>\n",
       "      <th>sku</th>\n",
       "      <th>product_id</th>\n",
       "      <th>product_quantity_x_step_unit</th>\n",
       "      <th>product_step_unit</th>\n",
       "      <th>product_unit</th>\n",
       "      <th>sku_parent</th>\n",
       "      <th>month</th>\n",
       "    </tr>\n",
       "  </thead>\n",
       "  <tbody>\n",
       "    <tr>\n",
       "      <th>184</th>\n",
       "      <td>18120194</td>\n",
       "      <td>2023-01-03</td>\n",
       "      <td>Papa Blanca Sucia Tamaño Mixto Kg</td>\n",
       "      <td>10.0000</td>\n",
       "      <td>2750.0000</td>\n",
       "      <td>46750.0000</td>\n",
       "      <td>1f1b98af-ee04-4849-a6cf-4fecdf7dba50</td>\n",
       "      <td>BAQ-FRU1-CAT6-234:304:750:770</td>\n",
       "      <td>770</td>\n",
       "      <td>100.0000</td>\n",
       "      <td>10.00</td>\n",
       "      <td>Kilogram</td>\n",
       "      <td>No value</td>\n",
       "      <td>1</td>\n",
       "    </tr>\n",
       "    <tr>\n",
       "      <th>204</th>\n",
       "      <td>18131510</td>\n",
       "      <td>2023-01-03</td>\n",
       "      <td>Tomate Chonto Extramaduro Mixto Kg</td>\n",
       "      <td>1.0000</td>\n",
       "      <td>4998.0000</td>\n",
       "      <td>1499.4000</td>\n",
       "      <td>8c868951-e6d6-4d63-9592-d4b08ec43f3c</td>\n",
       "      <td>BAQ-FRU1-CAT104105-73423:168376:168377:92108</td>\n",
       "      <td>92108</td>\n",
       "      <td>2.0000</td>\n",
       "      <td>2.00</td>\n",
       "      <td>Kilogram</td>\n",
       "      <td>No value</td>\n",
       "      <td>1</td>\n",
       "    </tr>\n",
       "  </tbody>\n",
       "</table>\n",
       "</div>"
      ],
      "text/plain": [
       "    nro_orden      fecha                            producto cantidad  \\\n",
       "184  18120194 2023-01-03   Papa Blanca Sucia Tamaño Mixto Kg  10.0000   \n",
       "204  18131510 2023-01-03  Tomate Chonto Extramaduro Mixto Kg   1.0000   \n",
       "\n",
       "        precio   descuento                           customer_id  \\\n",
       "184  2750.0000  46750.0000  1f1b98af-ee04-4849-a6cf-4fecdf7dba50   \n",
       "204  4998.0000   1499.4000  8c868951-e6d6-4d63-9592-d4b08ec43f3c   \n",
       "\n",
       "                                              sku product_id  \\\n",
       "184                 BAQ-FRU1-CAT6-234:304:750:770        770   \n",
       "204  BAQ-FRU1-CAT104105-73423:168376:168377:92108      92108   \n",
       "\n",
       "    product_quantity_x_step_unit product_step_unit product_unit sku_parent  \\\n",
       "184                     100.0000             10.00     Kilogram   No value   \n",
       "204                       2.0000              2.00     Kilogram   No value   \n",
       "\n",
       "     month  \n",
       "184      1  \n",
       "204      1  "
      ]
     },
     "execution_count": 6,
     "metadata": {},
     "output_type": "execute_result"
    }
   ],
   "source": [
    "ventas.head(2)"
   ]
  },
  {
   "cell_type": "code",
   "execution_count": 7,
   "id": "fed3e892-ea36-4a64-bef2-c1a4b74c9be8",
   "metadata": {},
   "outputs": [
    {
     "name": "stdout",
     "output_type": "stream",
     "text": [
      "Dimensiones de la tabla: \n",
      "Tamaño = 7030156\n",
      "Forma = (502154, 14)\n",
      "Forma[0] x Forma[1] = 7030156\n",
      "                 \n",
      "Dimensiones de la tabla = 2\n",
      "\n",
      "Descripcion de las columnas de la tabla:\n",
      "\n",
      "<class 'pandas.core.frame.DataFrame'>\n",
      "Index: 502154 entries, 184 to 35393\n",
      "Data columns (total 14 columns):\n",
      " #   Column                        Non-Null Count   Dtype         \n",
      "---  ------                        --------------   -----         \n",
      " 0   nro_orden                     502154 non-null  object        \n",
      " 1   fecha                         502154 non-null  datetime64[ns]\n",
      " 2   producto                      502154 non-null  object        \n",
      " 3   cantidad                      502154 non-null  object        \n",
      " 4   precio                        502154 non-null  object        \n",
      " 5   descuento                     502154 non-null  object        \n",
      " 6   customer_id                   502154 non-null  object        \n",
      " 7   sku                           502154 non-null  object        \n",
      " 8   product_id                    502154 non-null  object        \n",
      " 9   product_quantity_x_step_unit  502154 non-null  object        \n",
      " 10  product_step_unit             502154 non-null  object        \n",
      " 11  product_unit                  502154 non-null  object        \n",
      " 12  sku_parent                    502154 non-null  object        \n",
      " 13  month                         502154 non-null  int64         \n",
      "dtypes: datetime64[ns](1), int64(1), object(12)\n",
      "memory usage: 57.5+ MB\n"
     ]
    },
    {
     "data": {
      "text/plain": [
       "(None, None)"
      ]
     },
     "execution_count": 7,
     "metadata": {},
     "output_type": "execute_result"
    }
   ],
   "source": [
    "mostrar_dimensiones(ventas)"
   ]
  },
  {
   "cell_type": "markdown",
   "id": "e2bd3849-a221-4bda-95a8-327829a9ee1a",
   "metadata": {},
   "source": [
    "Nos aseguramos de obtener los tipos de datos correctos para cada columna."
   ]
  },
  {
   "cell_type": "code",
   "execution_count": 8,
   "id": "51708540-d734-4586-b844-ee47f12113bb",
   "metadata": {},
   "outputs": [],
   "source": [
    "ventasCopy = ventas.copy()"
   ]
  },
  {
   "cell_type": "markdown",
   "id": "51b46703-8938-4307-a063-fd6442a88e77",
   "metadata": {},
   "source": [
    "### 2. Compras\n",
    "\n",
    "Ahora diagnosticaremos la base de datos de compras."
   ]
  },
  {
   "cell_type": "code",
   "execution_count": 9,
   "id": "22d26320-850a-48f8-8cc7-a24752563574",
   "metadata": {},
   "outputs": [
    {
     "data": {
      "text/html": [
       "<div>\n",
       "<style scoped>\n",
       "    .dataframe tbody tr th:only-of-type {\n",
       "        vertical-align: middle;\n",
       "    }\n",
       "\n",
       "    .dataframe tbody tr th {\n",
       "        vertical-align: top;\n",
       "    }\n",
       "\n",
       "    .dataframe thead th {\n",
       "        text-align: right;\n",
       "    }\n",
       "</style>\n",
       "<table border=\"1\" class=\"dataframe\">\n",
       "  <thead>\n",
       "    <tr style=\"text-align: right;\">\n",
       "      <th></th>\n",
       "      <th>warehouse_code</th>\n",
       "      <th>region_code</th>\n",
       "      <th>id</th>\n",
       "      <th>delivery_date</th>\n",
       "      <th>product_id</th>\n",
       "      <th>sku</th>\n",
       "      <th>name</th>\n",
       "      <th>supplier_id</th>\n",
       "      <th>price</th>\n",
       "      <th>quantity</th>\n",
       "    </tr>\n",
       "  </thead>\n",
       "  <tbody>\n",
       "    <tr>\n",
       "      <th>0</th>\n",
       "      <td>BAQ</td>\n",
       "      <td>BAQ</td>\n",
       "      <td>8475266</td>\n",
       "      <td>2022-09-08</td>\n",
       "      <td>660</td>\n",
       "      <td>BAQ-FRU1-CAT1-111:277:659:660</td>\n",
       "      <td>Granadilla Estándar - Kg</td>\n",
       "      <td>61</td>\n",
       "      <td>5950.0</td>\n",
       "      <td>5.0</td>\n",
       "    </tr>\n",
       "    <tr>\n",
       "      <th>1</th>\n",
       "      <td>BAQ</td>\n",
       "      <td>BAQ</td>\n",
       "      <td>8554498</td>\n",
       "      <td>2022-09-12</td>\n",
       "      <td>660</td>\n",
       "      <td>BAQ-FRU1-CAT1-111:277:659:660</td>\n",
       "      <td>Granadilla Estándar - Kg</td>\n",
       "      <td>61</td>\n",
       "      <td>5950.0</td>\n",
       "      <td>8.0</td>\n",
       "    </tr>\n",
       "  </tbody>\n",
       "</table>\n",
       "</div>"
      ],
      "text/plain": [
       "  warehouse_code region_code       id delivery_date  product_id  \\\n",
       "0            BAQ         BAQ  8475266    2022-09-08         660   \n",
       "1            BAQ         BAQ  8554498    2022-09-12         660   \n",
       "\n",
       "                             sku                      name  supplier_id  \\\n",
       "0  BAQ-FRU1-CAT1-111:277:659:660  Granadilla Estándar - Kg           61   \n",
       "1  BAQ-FRU1-CAT1-111:277:659:660  Granadilla Estándar - Kg           61   \n",
       "\n",
       "    price  quantity  \n",
       "0  5950.0       5.0  \n",
       "1  5950.0       8.0  "
      ]
     },
     "execution_count": 9,
     "metadata": {},
     "output_type": "execute_result"
    }
   ],
   "source": [
    "compras.head(2)"
   ]
  },
  {
   "cell_type": "code",
   "execution_count": 10,
   "id": "78747ce2-1eaf-404e-b093-74a6bb54cd70",
   "metadata": {},
   "outputs": [
    {
     "name": "stdout",
     "output_type": "stream",
     "text": [
      "Dimensiones de la tabla: \n",
      "Tamaño = 51030\n",
      "Forma = (5103, 10)\n",
      "Forma[0] x Forma[1] = 51030\n",
      "                 \n",
      "Dimensiones de la tabla = 2\n",
      "\n",
      "Descripcion de las columnas de la tabla:\n",
      "\n",
      "<class 'pandas.core.frame.DataFrame'>\n",
      "RangeIndex: 5103 entries, 0 to 5102\n",
      "Data columns (total 10 columns):\n",
      " #   Column          Non-Null Count  Dtype  \n",
      "---  ------          --------------  -----  \n",
      " 0   warehouse_code  5103 non-null   object \n",
      " 1   region_code     5103 non-null   object \n",
      " 2   id              5103 non-null   int64  \n",
      " 3   delivery_date   5103 non-null   object \n",
      " 4   product_id      5103 non-null   int64  \n",
      " 5   sku             5103 non-null   object \n",
      " 6   name            5103 non-null   object \n",
      " 7   supplier_id     5103 non-null   int64  \n",
      " 8   price           5103 non-null   float64\n",
      " 9   quantity        5103 non-null   float64\n",
      "dtypes: float64(2), int64(3), object(5)\n",
      "memory usage: 398.8+ KB\n"
     ]
    },
    {
     "data": {
      "text/plain": [
       "(None, None)"
      ]
     },
     "execution_count": 10,
     "metadata": {},
     "output_type": "execute_result"
    }
   ],
   "source": [
    "mostrar_dimensiones(compras)"
   ]
  },
  {
   "cell_type": "code",
   "execution_count": 11,
   "id": "eedba2d5-6a60-4c8e-add8-3375e50556cb",
   "metadata": {},
   "outputs": [
    {
     "data": {
      "text/html": [
       "<div>\n",
       "<style scoped>\n",
       "    .dataframe tbody tr th:only-of-type {\n",
       "        vertical-align: middle;\n",
       "    }\n",
       "\n",
       "    .dataframe tbody tr th {\n",
       "        vertical-align: top;\n",
       "    }\n",
       "\n",
       "    .dataframe thead th {\n",
       "        text-align: right;\n",
       "    }\n",
       "</style>\n",
       "<table border=\"1\" class=\"dataframe\">\n",
       "  <thead>\n",
       "    <tr style=\"text-align: right;\">\n",
       "      <th></th>\n",
       "      <th>Columna</th>\n",
       "      <th>Completitud de Col(%)</th>\n",
       "      <th># Unicos</th>\n",
       "      <th># Distintos</th>\n",
       "      <th>Tipo de Columna</th>\n",
       "      <th>Moda</th>\n",
       "    </tr>\n",
       "  </thead>\n",
       "  <tbody>\n",
       "    <tr>\n",
       "      <th>0</th>\n",
       "      <td>warehouse_code</td>\n",
       "      <td>100.0</td>\n",
       "      <td>0</td>\n",
       "      <td>1</td>\n",
       "      <td>object</td>\n",
       "      <td>BAQ</td>\n",
       "    </tr>\n",
       "    <tr>\n",
       "      <th>1</th>\n",
       "      <td>region_code</td>\n",
       "      <td>100.0</td>\n",
       "      <td>0</td>\n",
       "      <td>1</td>\n",
       "      <td>object</td>\n",
       "      <td>BAQ</td>\n",
       "    </tr>\n",
       "    <tr>\n",
       "      <th>2</th>\n",
       "      <td>id</td>\n",
       "      <td>100.0</td>\n",
       "      <td>5103</td>\n",
       "      <td>0</td>\n",
       "      <td>int64</td>\n",
       "      <td>7741513</td>\n",
       "    </tr>\n",
       "    <tr>\n",
       "      <th>3</th>\n",
       "      <td>delivery_date</td>\n",
       "      <td>100.0</td>\n",
       "      <td>30</td>\n",
       "      <td>308</td>\n",
       "      <td>object</td>\n",
       "      <td>2023-01-30</td>\n",
       "    </tr>\n",
       "    <tr>\n",
       "      <th>4</th>\n",
       "      <td>product_id</td>\n",
       "      <td>100.0</td>\n",
       "      <td>15</td>\n",
       "      <td>137</td>\n",
       "      <td>int64</td>\n",
       "      <td>770</td>\n",
       "    </tr>\n",
       "    <tr>\n",
       "      <th>5</th>\n",
       "      <td>sku</td>\n",
       "      <td>100.0</td>\n",
       "      <td>15</td>\n",
       "      <td>137</td>\n",
       "      <td>object</td>\n",
       "      <td>BAQ-FRU1-CAT6-234:304:750:770</td>\n",
       "    </tr>\n",
       "    <tr>\n",
       "      <th>6</th>\n",
       "      <td>name</td>\n",
       "      <td>100.0</td>\n",
       "      <td>15</td>\n",
       "      <td>137</td>\n",
       "      <td>object</td>\n",
       "      <td>Papa Blanca Sucia Tamaño Mixto - KG</td>\n",
       "    </tr>\n",
       "    <tr>\n",
       "      <th>7</th>\n",
       "      <td>supplier_id</td>\n",
       "      <td>100.0</td>\n",
       "      <td>28</td>\n",
       "      <td>113</td>\n",
       "      <td>int64</td>\n",
       "      <td>383</td>\n",
       "    </tr>\n",
       "    <tr>\n",
       "      <th>8</th>\n",
       "      <td>price</td>\n",
       "      <td>100.0</td>\n",
       "      <td>351</td>\n",
       "      <td>278</td>\n",
       "      <td>float64</td>\n",
       "      <td>2000.0</td>\n",
       "    </tr>\n",
       "    <tr>\n",
       "      <th>9</th>\n",
       "      <td>quantity</td>\n",
       "      <td>100.0</td>\n",
       "      <td>339</td>\n",
       "      <td>288</td>\n",
       "      <td>float64</td>\n",
       "      <td>10.0</td>\n",
       "    </tr>\n",
       "  </tbody>\n",
       "</table>\n",
       "</div>"
      ],
      "text/plain": [
       "          Columna  Completitud de Col(%)  # Unicos  # Distintos  \\\n",
       "0  warehouse_code                  100.0         0            1   \n",
       "1     region_code                  100.0         0            1   \n",
       "2              id                  100.0      5103            0   \n",
       "3   delivery_date                  100.0        30          308   \n",
       "4      product_id                  100.0        15          137   \n",
       "5             sku                  100.0        15          137   \n",
       "6            name                  100.0        15          137   \n",
       "7     supplier_id                  100.0        28          113   \n",
       "8           price                  100.0       351          278   \n",
       "9        quantity                  100.0       339          288   \n",
       "\n",
       "  Tipo de Columna                                 Moda  \n",
       "0          object                                  BAQ  \n",
       "1          object                                  BAQ  \n",
       "2           int64                              7741513  \n",
       "3          object                           2023-01-30  \n",
       "4           int64                                  770  \n",
       "5          object        BAQ-FRU1-CAT6-234:304:750:770  \n",
       "6          object  Papa Blanca Sucia Tamaño Mixto - KG  \n",
       "7           int64                                  383  \n",
       "8         float64                               2000.0  \n",
       "9         float64                                 10.0  "
      ]
     },
     "execution_count": 11,
     "metadata": {},
     "output_type": "execute_result"
    }
   ],
   "source": [
    "crear_calidad(compras)"
   ]
  },
  {
   "cell_type": "markdown",
   "id": "db319304-fd55-48a4-8a3a-401ccf2b287b",
   "metadata": {},
   "source": [
    "### 3. Waste Percentage Age"
   ]
  },
  {
   "cell_type": "code",
   "execution_count": 12,
   "id": "487e049c-e669-47d2-a593-1fde21080d6b",
   "metadata": {},
   "outputs": [
    {
     "data": {
      "text/html": [
       "<div>\n",
       "<style scoped>\n",
       "    .dataframe tbody tr th:only-of-type {\n",
       "        vertical-align: middle;\n",
       "    }\n",
       "\n",
       "    .dataframe tbody tr th {\n",
       "        vertical-align: top;\n",
       "    }\n",
       "\n",
       "    .dataframe thead th {\n",
       "        text-align: right;\n",
       "    }\n",
       "</style>\n",
       "<table border=\"1\" class=\"dataframe\">\n",
       "  <thead>\n",
       "    <tr style=\"text-align: right;\">\n",
       "      <th></th>\n",
       "      <th>shelf life</th>\n",
       "      <th>age</th>\n",
       "      <th>waste_percentage (%)</th>\n",
       "    </tr>\n",
       "  </thead>\n",
       "  <tbody>\n",
       "    <tr>\n",
       "      <th>0</th>\n",
       "      <td>1</td>\n",
       "      <td>1</td>\n",
       "      <td>50.28</td>\n",
       "    </tr>\n",
       "    <tr>\n",
       "      <th>1</th>\n",
       "      <td>1</td>\n",
       "      <td>2</td>\n",
       "      <td>75.27</td>\n",
       "    </tr>\n",
       "  </tbody>\n",
       "</table>\n",
       "</div>"
      ],
      "text/plain": [
       "   shelf life  age  waste_percentage (%)\n",
       "0           1    1                 50.28\n",
       "1           1    2                 75.27"
      ]
     },
     "execution_count": 12,
     "metadata": {},
     "output_type": "execute_result"
    }
   ],
   "source": [
    "wastePercentageAge.head(2)"
   ]
  },
  {
   "cell_type": "code",
   "execution_count": 13,
   "id": "bdf5bc55-77d1-4474-a54f-e688bf08403b",
   "metadata": {},
   "outputs": [
    {
     "name": "stdout",
     "output_type": "stream",
     "text": [
      "Dimensiones de la tabla: \n",
      "Tamaño = 23763\n",
      "Forma = (7921, 3)\n",
      "Forma[0] x Forma[1] = 23763\n",
      "                 \n",
      "Dimensiones de la tabla = 2\n",
      "\n",
      "Descripcion de las columnas de la tabla:\n",
      "\n",
      "<class 'pandas.core.frame.DataFrame'>\n",
      "RangeIndex: 7921 entries, 0 to 7920\n",
      "Data columns (total 3 columns):\n",
      " #   Column                Non-Null Count  Dtype  \n",
      "---  ------                --------------  -----  \n",
      " 0   shelf life            7921 non-null   int64  \n",
      " 1   age                   7921 non-null   int64  \n",
      " 2   waste_percentage (%)  7921 non-null   float64\n",
      "dtypes: float64(1), int64(2)\n",
      "memory usage: 185.8 KB\n"
     ]
    },
    {
     "data": {
      "text/plain": [
       "(None, None)"
      ]
     },
     "execution_count": 13,
     "metadata": {},
     "output_type": "execute_result"
    }
   ],
   "source": [
    "mostrar_dimensiones(wastePercentageAge)"
   ]
  },
  {
   "cell_type": "code",
   "execution_count": 14,
   "id": "fc46dd28-c9f9-419a-adaf-b400aac13063",
   "metadata": {},
   "outputs": [
    {
     "data": {
      "text/html": [
       "<div>\n",
       "<style scoped>\n",
       "    .dataframe tbody tr th:only-of-type {\n",
       "        vertical-align: middle;\n",
       "    }\n",
       "\n",
       "    .dataframe tbody tr th {\n",
       "        vertical-align: top;\n",
       "    }\n",
       "\n",
       "    .dataframe thead th {\n",
       "        text-align: right;\n",
       "    }\n",
       "</style>\n",
       "<table border=\"1\" class=\"dataframe\">\n",
       "  <thead>\n",
       "    <tr style=\"text-align: right;\">\n",
       "      <th></th>\n",
       "      <th>Columna</th>\n",
       "      <th>Completitud de Col(%)</th>\n",
       "      <th># Unicos</th>\n",
       "      <th># Distintos</th>\n",
       "      <th>Tipo de Columna</th>\n",
       "      <th>Moda</th>\n",
       "    </tr>\n",
       "  </thead>\n",
       "  <tbody>\n",
       "    <tr>\n",
       "      <th>0</th>\n",
       "      <td>shelf life</td>\n",
       "      <td>100.0</td>\n",
       "      <td>0</td>\n",
       "      <td>89</td>\n",
       "      <td>int64</td>\n",
       "      <td>1.0</td>\n",
       "    </tr>\n",
       "    <tr>\n",
       "      <th>1</th>\n",
       "      <td>age</td>\n",
       "      <td>100.0</td>\n",
       "      <td>0</td>\n",
       "      <td>89</td>\n",
       "      <td>int64</td>\n",
       "      <td>1.0</td>\n",
       "    </tr>\n",
       "    <tr>\n",
       "      <th>2</th>\n",
       "      <td>waste_percentage (%)</td>\n",
       "      <td>100.0</td>\n",
       "      <td>1296</td>\n",
       "      <td>1018</td>\n",
       "      <td>float64</td>\n",
       "      <td>100.0</td>\n",
       "    </tr>\n",
       "  </tbody>\n",
       "</table>\n",
       "</div>"
      ],
      "text/plain": [
       "                Columna  Completitud de Col(%)  # Unicos  # Distintos  \\\n",
       "0            shelf life                  100.0         0           89   \n",
       "1                   age                  100.0         0           89   \n",
       "2  waste_percentage (%)                  100.0      1296         1018   \n",
       "\n",
       "  Tipo de Columna   Moda  \n",
       "0           int64    1.0  \n",
       "1           int64    1.0  \n",
       "2         float64  100.0  "
      ]
     },
     "execution_count": 14,
     "metadata": {},
     "output_type": "execute_result"
    }
   ],
   "source": [
    "crear_calidad(wastePercentageAge)"
   ]
  },
  {
   "cell_type": "markdown",
   "id": "88af1a75-c6d7-4bab-89ee-99f744c41335",
   "metadata": {},
   "source": [
    "### 4. Productos"
   ]
  },
  {
   "cell_type": "code",
   "execution_count": 15,
   "id": "3007fce5-3e8e-45f4-a963-f689197fcd17",
   "metadata": {},
   "outputs": [
    {
     "data": {
      "text/html": [
       "<div>\n",
       "<style scoped>\n",
       "    .dataframe tbody tr th:only-of-type {\n",
       "        vertical-align: middle;\n",
       "    }\n",
       "\n",
       "    .dataframe tbody tr th {\n",
       "        vertical-align: top;\n",
       "    }\n",
       "\n",
       "    .dataframe thead th {\n",
       "        text-align: right;\n",
       "    }\n",
       "</style>\n",
       "<table border=\"1\" class=\"dataframe\">\n",
       "  <thead>\n",
       "    <tr style=\"text-align: right;\">\n",
       "      <th></th>\n",
       "      <th>product_id</th>\n",
       "      <th>sku</th>\n",
       "      <th>name</th>\n",
       "      <th>category</th>\n",
       "      <th>region_code</th>\n",
       "      <th>product_category_id</th>\n",
       "      <th>mean_shelf_life</th>\n",
       "      <th>promised_lead_time</th>\n",
       "      <th>purchasing_unit</th>\n",
       "      <th>buy_unit</th>\n",
       "      <th>weight_parameter_apricot</th>\n",
       "    </tr>\n",
       "  </thead>\n",
       "  <tbody>\n",
       "    <tr>\n",
       "      <th>0</th>\n",
       "      <td>660</td>\n",
       "      <td>BAQ-FRU1-CAT1-111:277:659:660</td>\n",
       "      <td>Granadilla Estándar - Kg</td>\n",
       "      <td>Frutas</td>\n",
       "      <td>BAQ</td>\n",
       "      <td>1</td>\n",
       "      <td>2</td>\n",
       "      <td>NaN</td>\n",
       "      <td>1.0</td>\n",
       "      <td>KG</td>\n",
       "      <td>1.0</td>\n",
       "    </tr>\n",
       "    <tr>\n",
       "      <th>1</th>\n",
       "      <td>676</td>\n",
       "      <td>BAQ-FRU1-CAT1-123:280:665:676</td>\n",
       "      <td>Kiwi Estándar - Kg</td>\n",
       "      <td>Frutas</td>\n",
       "      <td>BAQ</td>\n",
       "      <td>1</td>\n",
       "      <td>2</td>\n",
       "      <td>NaN</td>\n",
       "      <td>1.0</td>\n",
       "      <td>KG</td>\n",
       "      <td>1.0</td>\n",
       "    </tr>\n",
       "  </tbody>\n",
       "</table>\n",
       "</div>"
      ],
      "text/plain": [
       "   product_id                            sku                      name  \\\n",
       "0         660  BAQ-FRU1-CAT1-111:277:659:660  Granadilla Estándar - Kg   \n",
       "1         676  BAQ-FRU1-CAT1-123:280:665:676        Kiwi Estándar - Kg   \n",
       "\n",
       "  category region_code  product_category_id  mean_shelf_life  \\\n",
       "0   Frutas         BAQ                    1                2   \n",
       "1   Frutas         BAQ                    1                2   \n",
       "\n",
       "   promised_lead_time  purchasing_unit buy_unit  weight_parameter_apricot  \n",
       "0                 NaN              1.0       KG                       1.0  \n",
       "1                 NaN              1.0       KG                       1.0  "
      ]
     },
     "execution_count": 15,
     "metadata": {},
     "output_type": "execute_result"
    }
   ],
   "source": [
    "productos.head(2)"
   ]
  },
  {
   "cell_type": "code",
   "execution_count": 16,
   "id": "71bba3d8-fe34-4a8a-a69a-8b556b31bf2c",
   "metadata": {},
   "outputs": [
    {
     "name": "stdout",
     "output_type": "stream",
     "text": [
      "Dimensiones de la tabla: \n",
      "Tamaño = 1507\n",
      "Forma = (137, 11)\n",
      "Forma[0] x Forma[1] = 1507\n",
      "                 \n",
      "Dimensiones de la tabla = 2\n",
      "\n",
      "Descripcion de las columnas de la tabla:\n",
      "\n",
      "<class 'pandas.core.frame.DataFrame'>\n",
      "RangeIndex: 137 entries, 0 to 136\n",
      "Data columns (total 11 columns):\n",
      " #   Column                    Non-Null Count  Dtype  \n",
      "---  ------                    --------------  -----  \n",
      " 0   product_id                137 non-null    int64  \n",
      " 1   sku                       137 non-null    object \n",
      " 2   name                      137 non-null    object \n",
      " 3   category                  137 non-null    object \n",
      " 4   region_code               137 non-null    object \n",
      " 5   product_category_id       137 non-null    int64  \n",
      " 6   mean_shelf_life           137 non-null    int64  \n",
      " 7   promised_lead_time        32 non-null     float64\n",
      " 8   purchasing_unit           137 non-null    float64\n",
      " 9   buy_unit                  137 non-null    object \n",
      " 10  weight_parameter_apricot  137 non-null    float64\n",
      "dtypes: float64(3), int64(3), object(5)\n",
      "memory usage: 11.9+ KB\n"
     ]
    },
    {
     "data": {
      "text/plain": [
       "(None, None)"
      ]
     },
     "execution_count": 16,
     "metadata": {},
     "output_type": "execute_result"
    }
   ],
   "source": [
    "mostrar_dimensiones(productos)"
   ]
  },
  {
   "cell_type": "code",
   "execution_count": 17,
   "id": "5bccde45-2a33-4c5b-8278-b6d9d0e5c4d0",
   "metadata": {},
   "outputs": [
    {
     "data": {
      "text/html": [
       "<div>\n",
       "<style scoped>\n",
       "    .dataframe tbody tr th:only-of-type {\n",
       "        vertical-align: middle;\n",
       "    }\n",
       "\n",
       "    .dataframe tbody tr th {\n",
       "        vertical-align: top;\n",
       "    }\n",
       "\n",
       "    .dataframe thead th {\n",
       "        text-align: right;\n",
       "    }\n",
       "</style>\n",
       "<table border=\"1\" class=\"dataframe\">\n",
       "  <thead>\n",
       "    <tr style=\"text-align: right;\">\n",
       "      <th></th>\n",
       "      <th>Columna</th>\n",
       "      <th>Completitud de Col(%)</th>\n",
       "      <th># Unicos</th>\n",
       "      <th># Distintos</th>\n",
       "      <th>Tipo de Columna</th>\n",
       "      <th>Moda</th>\n",
       "    </tr>\n",
       "  </thead>\n",
       "  <tbody>\n",
       "    <tr>\n",
       "      <th>0</th>\n",
       "      <td>product_id</td>\n",
       "      <td>100.00</td>\n",
       "      <td>137</td>\n",
       "      <td>0</td>\n",
       "      <td>int64</td>\n",
       "      <td>100</td>\n",
       "    </tr>\n",
       "    <tr>\n",
       "      <th>1</th>\n",
       "      <td>sku</td>\n",
       "      <td>100.00</td>\n",
       "      <td>137</td>\n",
       "      <td>0</td>\n",
       "      <td>object</td>\n",
       "      <td>BAQ-FRU1-CAT1-111:277:659:660</td>\n",
       "    </tr>\n",
       "    <tr>\n",
       "      <th>2</th>\n",
       "      <td>name</td>\n",
       "      <td>100.00</td>\n",
       "      <td>137</td>\n",
       "      <td>0</td>\n",
       "      <td>object</td>\n",
       "      <td>Acelga Estándar - Atado</td>\n",
       "    </tr>\n",
       "    <tr>\n",
       "      <th>3</th>\n",
       "      <td>category</td>\n",
       "      <td>100.00</td>\n",
       "      <td>0</td>\n",
       "      <td>3</td>\n",
       "      <td>object</td>\n",
       "      <td>Verduras</td>\n",
       "    </tr>\n",
       "    <tr>\n",
       "      <th>4</th>\n",
       "      <td>region_code</td>\n",
       "      <td>100.00</td>\n",
       "      <td>0</td>\n",
       "      <td>1</td>\n",
       "      <td>object</td>\n",
       "      <td>BAQ</td>\n",
       "    </tr>\n",
       "    <tr>\n",
       "      <th>5</th>\n",
       "      <td>product_category_id</td>\n",
       "      <td>100.00</td>\n",
       "      <td>0</td>\n",
       "      <td>1</td>\n",
       "      <td>int64</td>\n",
       "      <td>1</td>\n",
       "    </tr>\n",
       "    <tr>\n",
       "      <th>6</th>\n",
       "      <td>mean_shelf_life</td>\n",
       "      <td>100.00</td>\n",
       "      <td>2</td>\n",
       "      <td>6</td>\n",
       "      <td>int64</td>\n",
       "      <td>2</td>\n",
       "    </tr>\n",
       "    <tr>\n",
       "      <th>7</th>\n",
       "      <td>promised_lead_time</td>\n",
       "      <td>23.36</td>\n",
       "      <td>0</td>\n",
       "      <td>4</td>\n",
       "      <td>float64</td>\n",
       "      <td>1.0</td>\n",
       "    </tr>\n",
       "    <tr>\n",
       "      <th>8</th>\n",
       "      <td>purchasing_unit</td>\n",
       "      <td>100.00</td>\n",
       "      <td>6</td>\n",
       "      <td>6</td>\n",
       "      <td>float64</td>\n",
       "      <td>1.0</td>\n",
       "    </tr>\n",
       "    <tr>\n",
       "      <th>9</th>\n",
       "      <td>buy_unit</td>\n",
       "      <td>100.00</td>\n",
       "      <td>0</td>\n",
       "      <td>2</td>\n",
       "      <td>object</td>\n",
       "      <td>KG</td>\n",
       "    </tr>\n",
       "    <tr>\n",
       "      <th>10</th>\n",
       "      <td>weight_parameter_apricot</td>\n",
       "      <td>100.00</td>\n",
       "      <td>7</td>\n",
       "      <td>10</td>\n",
       "      <td>float64</td>\n",
       "      <td>1.0</td>\n",
       "    </tr>\n",
       "  </tbody>\n",
       "</table>\n",
       "</div>"
      ],
      "text/plain": [
       "                     Columna  Completitud de Col(%)  # Unicos  # Distintos  \\\n",
       "0                 product_id                 100.00       137            0   \n",
       "1                        sku                 100.00       137            0   \n",
       "2                       name                 100.00       137            0   \n",
       "3                   category                 100.00         0            3   \n",
       "4                region_code                 100.00         0            1   \n",
       "5        product_category_id                 100.00         0            1   \n",
       "6            mean_shelf_life                 100.00         2            6   \n",
       "7         promised_lead_time                  23.36         0            4   \n",
       "8            purchasing_unit                 100.00         6            6   \n",
       "9                   buy_unit                 100.00         0            2   \n",
       "10  weight_parameter_apricot                 100.00         7           10   \n",
       "\n",
       "   Tipo de Columna                           Moda  \n",
       "0            int64                            100  \n",
       "1           object  BAQ-FRU1-CAT1-111:277:659:660  \n",
       "2           object        Acelga Estándar - Atado  \n",
       "3           object                       Verduras  \n",
       "4           object                            BAQ  \n",
       "5            int64                              1  \n",
       "6            int64                              2  \n",
       "7          float64                            1.0  \n",
       "8          float64                            1.0  \n",
       "9           object                             KG  \n",
       "10         float64                            1.0  "
      ]
     },
     "execution_count": 17,
     "metadata": {},
     "output_type": "execute_result"
    }
   ],
   "source": [
    "crear_calidad(productos)"
   ]
  },
  {
   "cell_type": "markdown",
   "id": "77a64296-ea84-430e-b11e-ab40a5c62284",
   "metadata": {},
   "source": [
    "### 5. Forecast"
   ]
  },
  {
   "cell_type": "code",
   "execution_count": 18,
   "id": "7573e00e-c6b2-4c57-beeb-881002b5b0b9",
   "metadata": {},
   "outputs": [
    {
     "data": {
      "text/html": [
       "<div>\n",
       "<style scoped>\n",
       "    .dataframe tbody tr th:only-of-type {\n",
       "        vertical-align: middle;\n",
       "    }\n",
       "\n",
       "    .dataframe tbody tr th {\n",
       "        vertical-align: top;\n",
       "    }\n",
       "\n",
       "    .dataframe thead th {\n",
       "        text-align: right;\n",
       "    }\n",
       "</style>\n",
       "<table border=\"1\" class=\"dataframe\">\n",
       "  <thead>\n",
       "    <tr style=\"text-align: right;\">\n",
       "      <th></th>\n",
       "      <th>created_at</th>\n",
       "      <th>timeframe</th>\n",
       "      <th>close_date</th>\n",
       "      <th>warehouse</th>\n",
       "      <th>product_id</th>\n",
       "      <th>forecast</th>\n",
       "    </tr>\n",
       "  </thead>\n",
       "  <tbody>\n",
       "    <tr>\n",
       "      <th>995604</th>\n",
       "      <td>2022-06-30</td>\n",
       "      <td>2</td>\n",
       "      <td>2022-07-02</td>\n",
       "      <td>BAQ</td>\n",
       "      <td>100</td>\n",
       "      <td>28.0</td>\n",
       "    </tr>\n",
       "    <tr>\n",
       "      <th>450926</th>\n",
       "      <td>2022-06-30</td>\n",
       "      <td>2</td>\n",
       "      <td>2022-07-02</td>\n",
       "      <td>BAQ</td>\n",
       "      <td>101</td>\n",
       "      <td>12.0</td>\n",
       "    </tr>\n",
       "  </tbody>\n",
       "</table>\n",
       "</div>"
      ],
      "text/plain": [
       "        created_at  timeframe  close_date warehouse  product_id  forecast\n",
       "995604  2022-06-30          2  2022-07-02       BAQ         100      28.0\n",
       "450926  2022-06-30          2  2022-07-02       BAQ         101      12.0"
      ]
     },
     "execution_count": 18,
     "metadata": {},
     "output_type": "execute_result"
    }
   ],
   "source": [
    "forecast.head(2)"
   ]
  },
  {
   "cell_type": "code",
   "execution_count": 19,
   "id": "dfb55dd3-dff7-4588-9fea-6f9adef0e750",
   "metadata": {},
   "outputs": [
    {
     "name": "stdout",
     "output_type": "stream",
     "text": [
      "Dimensiones de la tabla: \n",
      "Tamaño = 7198122\n",
      "Forma = (1199687, 6)\n",
      "Forma[0] x Forma[1] = 7198122\n",
      "                 \n",
      "Dimensiones de la tabla = 2\n",
      "\n",
      "Descripcion de las columnas de la tabla:\n",
      "\n",
      "<class 'pandas.core.frame.DataFrame'>\n",
      "Index: 1199687 entries, 995604 to 75933\n",
      "Data columns (total 6 columns):\n",
      " #   Column      Non-Null Count    Dtype  \n",
      "---  ------      --------------    -----  \n",
      " 0   created_at  1199687 non-null  object \n",
      " 1   timeframe   1199687 non-null  int64  \n",
      " 2   close_date  1199687 non-null  object \n",
      " 3   warehouse   1199687 non-null  object \n",
      " 4   product_id  1199687 non-null  int64  \n",
      " 5   forecast    1199687 non-null  float64\n",
      "dtypes: float64(1), int64(2), object(3)\n",
      "memory usage: 64.1+ MB\n"
     ]
    },
    {
     "data": {
      "text/plain": [
       "(None, None)"
      ]
     },
     "execution_count": 19,
     "metadata": {},
     "output_type": "execute_result"
    }
   ],
   "source": [
    "mostrar_dimensiones(forecast)"
   ]
  },
  {
   "cell_type": "code",
   "execution_count": 20,
   "id": "ae9b1fad-f1df-4afa-af87-de59b665d26f",
   "metadata": {},
   "outputs": [
    {
     "data": {
      "text/html": [
       "<div>\n",
       "<style scoped>\n",
       "    .dataframe tbody tr th:only-of-type {\n",
       "        vertical-align: middle;\n",
       "    }\n",
       "\n",
       "    .dataframe tbody tr th {\n",
       "        vertical-align: top;\n",
       "    }\n",
       "\n",
       "    .dataframe thead th {\n",
       "        text-align: right;\n",
       "    }\n",
       "</style>\n",
       "<table border=\"1\" class=\"dataframe\">\n",
       "  <thead>\n",
       "    <tr style=\"text-align: right;\">\n",
       "      <th></th>\n",
       "      <th>Columna</th>\n",
       "      <th>Completitud de Col(%)</th>\n",
       "      <th># Unicos</th>\n",
       "      <th># Distintos</th>\n",
       "      <th>Tipo de Columna</th>\n",
       "      <th>Moda</th>\n",
       "    </tr>\n",
       "  </thead>\n",
       "  <tbody>\n",
       "    <tr>\n",
       "      <th>0</th>\n",
       "      <td>created_at</td>\n",
       "      <td>100.0</td>\n",
       "      <td>0</td>\n",
       "      <td>308</td>\n",
       "      <td>object</td>\n",
       "      <td>2022-06-30</td>\n",
       "    </tr>\n",
       "    <tr>\n",
       "      <th>1</th>\n",
       "      <td>timeframe</td>\n",
       "      <td>100.0</td>\n",
       "      <td>1</td>\n",
       "      <td>36</td>\n",
       "      <td>int64</td>\n",
       "      <td>2</td>\n",
       "    </tr>\n",
       "    <tr>\n",
       "      <th>2</th>\n",
       "      <td>close_date</td>\n",
       "      <td>100.0</td>\n",
       "      <td>0</td>\n",
       "      <td>313</td>\n",
       "      <td>object</td>\n",
       "      <td>2022-08-18</td>\n",
       "    </tr>\n",
       "    <tr>\n",
       "      <th>3</th>\n",
       "      <td>warehouse</td>\n",
       "      <td>100.0</td>\n",
       "      <td>0</td>\n",
       "      <td>1</td>\n",
       "      <td>object</td>\n",
       "      <td>BAQ</td>\n",
       "    </tr>\n",
       "    <tr>\n",
       "      <th>4</th>\n",
       "      <td>product_id</td>\n",
       "      <td>100.0</td>\n",
       "      <td>0</td>\n",
       "      <td>149</td>\n",
       "      <td>int64</td>\n",
       "      <td>630219</td>\n",
       "    </tr>\n",
       "    <tr>\n",
       "      <th>5</th>\n",
       "      <td>forecast</td>\n",
       "      <td>100.0</td>\n",
       "      <td>2612</td>\n",
       "      <td>2448</td>\n",
       "      <td>float64</td>\n",
       "      <td>1.0</td>\n",
       "    </tr>\n",
       "  </tbody>\n",
       "</table>\n",
       "</div>"
      ],
      "text/plain": [
       "      Columna  Completitud de Col(%)  # Unicos  # Distintos Tipo de Columna  \\\n",
       "0  created_at                  100.0         0          308          object   \n",
       "1   timeframe                  100.0         1           36           int64   \n",
       "2  close_date                  100.0         0          313          object   \n",
       "3   warehouse                  100.0         0            1          object   \n",
       "4  product_id                  100.0         0          149           int64   \n",
       "5    forecast                  100.0      2612         2448         float64   \n",
       "\n",
       "         Moda  \n",
       "0  2022-06-30  \n",
       "1           2  \n",
       "2  2022-08-18  \n",
       "3         BAQ  \n",
       "4      630219  \n",
       "5         1.0  "
      ]
     },
     "execution_count": 20,
     "metadata": {},
     "output_type": "execute_result"
    }
   ],
   "source": [
    "crear_calidad(forecast)"
   ]
  },
  {
   "cell_type": "markdown",
   "id": "530a8be4-9f38-4780-b82b-68be504cc91d",
   "metadata": {},
   "source": [
    "## Transformaciones de datos"
   ]
  },
  {
   "cell_type": "markdown",
   "id": "683a8633-9206-4ccd-b01c-827c7722eb71",
   "metadata": {},
   "source": [
    "Vamos a asegurarnos de que los tipos de datos de todas las bases de datos esten bien clasificadas."
   ]
  },
  {
   "cell_type": "code",
   "execution_count": 21,
   "id": "ab95cf72-4843-4dc9-abc4-61f8909297e3",
   "metadata": {},
   "outputs": [],
   "source": [
    "ventasConvertDict = {'nro_orden': str, 'producto': str, 'cantidad': int, 'precio':float, 'descuento':float, 'customer_id' : str, 'sku' : str, \n",
    "                     'product_id': str, 'product_quantity_x_step_unit':int, 'product_step_unit':int, 'sku_parent':str}\n",
    "\n",
    "comprasConvertDict = {'warehouse_code': str, 'region_code': str, 'id' : str, 'product_id': str, 'sku': str, 'name' : str, 'supplier_id': str,\n",
    "                     'quantity' : int}\n",
    "\n",
    "productosConvertDict = {'product_id':str, 'sku':str, 'name':str, 'category':str, 'region_code':str, 'product_category_id': str, 'buy_unit': str}\n",
    "\n",
    "ventas = ventas.astype(ventasConvertDict)\n",
    "compras = compras.astype(comprasConvertDict)\n",
    "compras.delivery_date = pd.to_datetime(compras.delivery_date)\n",
    "productos = productos.astype(productosConvertDict)"
   ]
  },
  {
   "cell_type": "markdown",
   "id": "dc8594b0-a2c8-4b11-bffc-2e6ec54ff47d",
   "metadata": {},
   "source": [
    "1. Se debe encontrar la manera de costear los productos que se vendieron\n",
    "2. Se debe consolidar la base de datos de ventas con las tablas disponibles\n"
   ]
  },
  {
   "cell_type": "code",
   "execution_count": 22,
   "id": "9ebf8455-1599-4078-82ba-4ea25b92c36b",
   "metadata": {},
   "outputs": [
    {
     "data": {
      "text/plain": [
       "Timestamp('2022-07-01 00:00:00')"
      ]
     },
     "execution_count": 22,
     "metadata": {},
     "output_type": "execute_result"
    }
   ],
   "source": [
    "ventas.fecha.min()"
   ]
  },
  {
   "cell_type": "code",
   "execution_count": 23,
   "id": "feb2b91b-22c0-4f8a-b822-643c6a0f1323",
   "metadata": {},
   "outputs": [
    {
     "data": {
      "text/plain": [
       "Timestamp('2023-07-01 00:00:00')"
      ]
     },
     "execution_count": 23,
     "metadata": {},
     "output_type": "execute_result"
    }
   ],
   "source": [
    "ventas.fecha.max()"
   ]
  },
  {
   "cell_type": "markdown",
   "id": "35160069-dba8-4d98-8528-16a25b3c1654",
   "metadata": {},
   "source": [
    "Vemos que la base de datos de ventas contiene datos desde 7/1/2022 hasta 7/1/2023."
   ]
  },
  {
   "cell_type": "code",
   "execution_count": 24,
   "id": "65384f4b-2b74-4c97-9b29-eedc24cc7fb4",
   "metadata": {},
   "outputs": [
    {
     "data": {
      "text/plain": [
       "Timestamp('2022-07-26 00:00:00')"
      ]
     },
     "execution_count": 24,
     "metadata": {},
     "output_type": "execute_result"
    }
   ],
   "source": [
    "compras.delivery_date.min()"
   ]
  },
  {
   "cell_type": "code",
   "execution_count": 25,
   "id": "cf082bd7-ceb4-4965-b260-c27b41986f4c",
   "metadata": {},
   "outputs": [
    {
     "data": {
      "text/plain": [
       "Timestamp('2023-08-29 00:00:00')"
      ]
     },
     "execution_count": 25,
     "metadata": {},
     "output_type": "execute_result"
    }
   ],
   "source": [
    "compras.delivery_date.max()"
   ]
  },
  {
   "cell_type": "markdown",
   "id": "d35c248e-ab65-4075-a416-e5725650a9ae",
   "metadata": {},
   "source": [
    "Por otro lado vemos que la base de datos de compras no tiene el mismo fragmento de tiempo que nuestra base de ventas. Acá haremos una lista de supocisiones:\n",
    "1. Un producto dura en promedio 4 días inventariado desde su compra hasta su venta.\n",
    "2. Usaremos fechas cruzadas para nuestra información de ventas. Por lo que el fragmento de tiempo que usaremos para el ejercicio será desde 7/26/2022 hasta el 7/1/2023. Sin embargo, dada nuestra suposición de los 4 días entre compra y venta, la base de datos de ventas comenzará desdel el 7/30/2022.\n",
    "3. Aquellos productos de los que no tenemos información de compra (osea costo), no podrán ser costeados, y por lo tanto se retirarán de la base de datos consolidada.\n",
    "4. Los costos operacionales relacionados con el inventario, mano de obra, etc, se estiman como el 14% de compras totales del día."
   ]
  },
  {
   "cell_type": "markdown",
   "id": "82b0c022-214b-482f-94dd-1b3d931b569b",
   "metadata": {},
   "source": [
    "#### Acotemos las fechas de las bases de datos"
   ]
  },
  {
   "cell_type": "code",
   "execution_count": 26,
   "id": "53e59aec-af89-4d49-ba22-7652521f2fb1",
   "metadata": {},
   "outputs": [],
   "source": [
    "ventas = ventas[ventas.fecha>=datetime.datetime(2022,7,30)]\n",
    "compras = compras[compras.delivery_date<=datetime.datetime(2023,7,1)]"
   ]
  },
  {
   "cell_type": "markdown",
   "id": "f4e84da4-ab8a-4f0d-9c74-9e7f03bd8089",
   "metadata": {},
   "source": [
    "Ahora retiraremos de la base de datos aquellos productos que no podemos costear"
   ]
  },
  {
   "cell_type": "code",
   "execution_count": 27,
   "id": "ec457a95-378f-4fc4-9c38-a30bb0276ec0",
   "metadata": {},
   "outputs": [
    {
     "data": {
      "text/plain": [
       "array(['Ajo Estandar Kg', 'Papa Blanca Sucia Tamaño Mixto Sucia x Bulto',\n",
       "       'Guayaba Maduración Mixta Al por mayor',\n",
       "       'Repollo Blanco Pequeño Unidad',\n",
       "       'Cebollín Sucio Estándar Al por mayor',\n",
       "       'Maracuyá Mixto Media Bolsa',\n",
       "       'Cebolla Roja Mixta Mixta Desde 10kg',\n",
       "       'Limón Tahití Estándar Al por mayor',\n",
       "       'Papa Blanca Sucia Tamaño Mixto Bulto (48kg)',\n",
       "       'Piña Golden Estandar Unidad (Tamaño 🏠)',\n",
       "       'Lechuga Batavia Estandar Unidad x Canastilla',\n",
       "       'Tomate Chonto Maduración Mixta Semi (Mediano) Al por mayor',\n",
       "       'Cilantro Estandar Libra (Tamaño 🏠)',\n",
       "       'Tomate Chonto Maduración Mixta Semi (Mediano) Kg (Tamaño 🏠)',\n",
       "       'Cebolla Cabezona Blanca Sin Pelar Mixta Al por mayor',\n",
       "       'Cebolla Roja Mixta Mixta Al por mayor',\n",
       "       'Banano Criollo Estandar Kg (Tamaño 🏠)',\n",
       "       'Ajo Estandar Libra (Tamaño 🏠)',\n",
       "       'Cebolla Roja Mixta Mixta Kg (Tamaño 🏠)',\n",
       "       'Guineo Verde KG Estandar Kg (Tamaño 🏠)',\n",
       "       'Ahuyama Estándar Kg (Tamaño 🏠)',\n",
       "       'Mandarina Estandar Kg (Tamaño 🏠)',\n",
       "       'Yuca Tamaño Mixto Kg (Tamaño 🏠)', 'Zanahoria Mixta Kg (Tamaño 🏠)',\n",
       "       'Papa Pastusa Sucia Estandar Kg',\n",
       "       'Aguacate Para Guacamole Extra Maduro Kg',\n",
       "       'Yuca Tamaño Mixto Desde 1Kg',\n",
       "       'Pimentón Verde Mixto Estándar Al por mayor',\n",
       "       'Plátano Verde Estándar Mediano Estandar Kg (Tamaño 🏠)',\n",
       "       'Limón Pajarito Estándar Libra (Tamaño 🏠)',\n",
       "       'Tomate Chonto Maduración Mixta Estándar (Grande) Al por mayor',\n",
       "       'Yuca Tamaño Mixto Bulto',\n",
       "       'Plátano Verde Estándar Mediano Pequeño Maduro',\n",
       "       'Piña Golden Estandar Al por mayor',\n",
       "       'Piña Perolera Estandar Al por mayor',\n",
       "       'Lechuga Batavia Pequeña Al por mayor',\n",
       "       'Lulo Corriente (Pequeño) Al por mayor',\n",
       "       'Cebolla Cabezona Blanca Limpia Mixta Al por mayor',\n",
       "       'Plátano Hartón Verde Estandar Desde 1Kg',\n",
       "       'Ahuyama Estándar Al por mayor', 'Maracuyá Mixto Desde 5kg',\n",
       "       'Papa R-12 Lavada Estandar Al por mayor',\n",
       "       'Cebollín Limpio Atado Al por mayor', 'Cilantro Estandar Kg',\n",
       "       'Zanahoria Mixta Al por mayor', 'Piña Segunda Estándar Unidad',\n",
       "       'Cebolla Roja Mixta Mixta Desde 1Kg',\n",
       "       'Cebolla Cabezona Blanca Sin Pelar Grande Kg',\n",
       "       'Limón Pajarito Estándar Al por mayor', 'Manzana Roja Estandar Kg',\n",
       "       'Papa Criolla Estandar Libra (Tamaño 🏠)',\n",
       "       'Pepino Cohombro Estándar Al por mayor', 'Naranja  Bulto Kg',\n",
       "       'Pimentón Verde Mixto Estándar Desde 5kg',\n",
       "       'Papa R-12 Sucia Estándar Al por mayor',\n",
       "       'Yuca Tamaño Mixto Bulto (40kg)',\n",
       "       'Pimentón Cuatro Cascos Maduración Mixta(Pintón) Estándar Al por mayor',\n",
       "       'Pera Estandar Al por mayor',\n",
       "       'Naranja Valencia Maduración Mixta  Bulto Kg',\n",
       "       'Naranja Valencia Maduración Mixta  Estándar Al por mayor',\n",
       "       'Papa Criolla Estandar Al por mayor',\n",
       "       'Plátano Hartón Verde Pequeño Maduro',\n",
       "       'Mandarina Tamaño Mixto Estandar Kg (Tamaño 🏠)',\n",
       "       'Ciruela Roja Estándar Kg', 'Manzana Verde Estandar 1/4 Caja',\n",
       "       'Naranja  Estándar Al por mayor',\n",
       "       'Cebolla Cabezona Blanca Sin Pelar Mixta Kg - 🤑 (Insuperable)',\n",
       "       'Hoja de Bijao Estándar Kg',\n",
       "       'Papaya Maradol Selecta (Grande) Kg (Tamaño 🏠)',\n",
       "       'Aguacate Estándar Unidad', 'Cilantro Estándar Kg',\n",
       "       'Habichuelin Estándar Kg', 'Arveja Desgranada Estándar Kg',\n",
       "       'Pimentón Cuatro Cascos Maduración Mixta(Pintón) Pequeño Al por mayor',\n",
       "       'Papa Pastusa Sucia Estandar Bulto',\n",
       "       'Manzana Roja Estandar 1/4 Caja',\n",
       "       'Cebolla Blanca Baby Estandar Pequeña',\n",
       "       'Lulo Estándar Al por mayor', 'Cebolla Roja Mixta Estandar Grande',\n",
       "       'Zanahoria Grande Kg', 'Manzana Royal Gala Estandar 1/4 Caja',\n",
       "       'Naranja Maduración Mixta Estandar Único', 'Melón Estándar Kg',\n",
       "       'Cebolla Roja Grande  Cero (Grande) Grande',\n",
       "       'Zanahoria Grande Kg (Tamaño 🏠)', 'Zanahoria Grande Al por mayor',\n",
       "       'Cebolla Cabezona Roja Grande Cero (Grande) Kg',\n",
       "       'Tomate chonto Mixto Desde 10kg', 'Tomate chonto Mixto Desde 1Kg',\n",
       "       'Lechuga Batavia tamaño mixto Mixta Al por mayor',\n",
       "       'Lechuga Batavia tamaño mixto Mixta Unidad x Canastilla',\n",
       "       'Tomate de Árbol Estándar Desde 4kg',\n",
       "       'Tomate de Árbol Maduración Mixta Estándar Desde 4kg',\n",
       "       'Apio Estándar Al por mayor',\n",
       "       'Tomate de Árbol Corriente Tamaño Mixto Kg',\n",
       "       'Tomate Chonto Maduro Estándar (Grande) Al por mayor',\n",
       "       'Tomate Chonto Pintón Estándar (Grande) Kg (Tamaño 🏠)',\n",
       "       'Cebolla Roja Mixta Pequeña Al por mayor',\n",
       "       'Tomate Chonto Pintón Estándar (Grande) Kg',\n",
       "       'Tomate Chonto Maduro Estándar (Grande) Kg (Tamaño 🏠)',\n",
       "       'Cebolla Roja Mixta Pequeña Kg (Tamaño 🏠)', 'Mango Estándar Kg'],\n",
       "      dtype=object)"
      ]
     },
     "execution_count": 27,
     "metadata": {},
     "output_type": "execute_result"
    }
   ],
   "source": [
    "productCostList = list(compras.sku.unique())\n",
    "\n",
    "ventas.producto[~ventas.sku.isin(productCostList)].unique()"
   ]
  },
  {
   "cell_type": "code",
   "execution_count": 28,
   "id": "e2e9ef8a-9f0e-4665-8c64-483c7e83948a",
   "metadata": {},
   "outputs": [],
   "source": [
    "ventas = ventas[ventas.sku.isin(productCostList)]"
   ]
  },
  {
   "cell_type": "code",
   "execution_count": 29,
   "id": "22039106-63db-49fe-923d-8f4a0aa82af4",
   "metadata": {},
   "outputs": [
    {
     "data": {
      "text/plain": [
       "346891"
      ]
     },
     "execution_count": 29,
     "metadata": {},
     "output_type": "execute_result"
    }
   ],
   "source": [
    "len(ventas)"
   ]
  },
  {
   "cell_type": "markdown",
   "id": "e6c1c77d-099f-448f-ba50-bc6e8ef1d231",
   "metadata": {},
   "source": [
    "Ahora agregamos nuestro precio ajustado de acuerdo a los costos operacionales."
   ]
  },
  {
   "cell_type": "code",
   "execution_count": 30,
   "id": "95f4ccc1-5864-4252-855d-7d6ee7535dbc",
   "metadata": {},
   "outputs": [],
   "source": [
    "compras['total_buy'] = compras.price * compras.quantity\n",
    "compras['fix_price'] = compras.price * 1.14\n",
    "compras['fix_total_buy'] = compras.fix_price * compras.quantity"
   ]
  },
  {
   "cell_type": "code",
   "execution_count": 31,
   "id": "a67a0040-369e-44fd-bc91-221ad1991cd8",
   "metadata": {},
   "outputs": [
    {
     "data": {
      "text/html": [
       "<div>\n",
       "<style scoped>\n",
       "    .dataframe tbody tr th:only-of-type {\n",
       "        vertical-align: middle;\n",
       "    }\n",
       "\n",
       "    .dataframe tbody tr th {\n",
       "        vertical-align: top;\n",
       "    }\n",
       "\n",
       "    .dataframe thead th {\n",
       "        text-align: right;\n",
       "    }\n",
       "</style>\n",
       "<table border=\"1\" class=\"dataframe\">\n",
       "  <thead>\n",
       "    <tr style=\"text-align: right;\">\n",
       "      <th></th>\n",
       "      <th>warehouse_code</th>\n",
       "      <th>region_code</th>\n",
       "      <th>id</th>\n",
       "      <th>delivery_date</th>\n",
       "      <th>product_id</th>\n",
       "      <th>sku</th>\n",
       "      <th>name</th>\n",
       "      <th>supplier_id</th>\n",
       "      <th>price</th>\n",
       "      <th>quantity</th>\n",
       "      <th>total_buy</th>\n",
       "      <th>fix_price</th>\n",
       "      <th>fix_total_buy</th>\n",
       "    </tr>\n",
       "  </thead>\n",
       "  <tbody>\n",
       "    <tr>\n",
       "      <th>0</th>\n",
       "      <td>BAQ</td>\n",
       "      <td>BAQ</td>\n",
       "      <td>8475266</td>\n",
       "      <td>2022-09-08</td>\n",
       "      <td>660</td>\n",
       "      <td>BAQ-FRU1-CAT1-111:277:659:660</td>\n",
       "      <td>Granadilla Estándar - Kg</td>\n",
       "      <td>61</td>\n",
       "      <td>5950.0</td>\n",
       "      <td>5</td>\n",
       "      <td>29750.0</td>\n",
       "      <td>6783.0</td>\n",
       "      <td>33915.0</td>\n",
       "    </tr>\n",
       "    <tr>\n",
       "      <th>1</th>\n",
       "      <td>BAQ</td>\n",
       "      <td>BAQ</td>\n",
       "      <td>8554498</td>\n",
       "      <td>2022-09-12</td>\n",
       "      <td>660</td>\n",
       "      <td>BAQ-FRU1-CAT1-111:277:659:660</td>\n",
       "      <td>Granadilla Estándar - Kg</td>\n",
       "      <td>61</td>\n",
       "      <td>5950.0</td>\n",
       "      <td>8</td>\n",
       "      <td>47600.0</td>\n",
       "      <td>6783.0</td>\n",
       "      <td>54264.0</td>\n",
       "    </tr>\n",
       "    <tr>\n",
       "      <th>2</th>\n",
       "      <td>BAQ</td>\n",
       "      <td>BAQ</td>\n",
       "      <td>8682054</td>\n",
       "      <td>2022-09-19</td>\n",
       "      <td>660</td>\n",
       "      <td>BAQ-FRU1-CAT1-111:277:659:660</td>\n",
       "      <td>Granadilla Estándar - Kg</td>\n",
       "      <td>61</td>\n",
       "      <td>7500.0</td>\n",
       "      <td>2</td>\n",
       "      <td>15000.0</td>\n",
       "      <td>8550.0</td>\n",
       "      <td>17100.0</td>\n",
       "    </tr>\n",
       "    <tr>\n",
       "      <th>3</th>\n",
       "      <td>BAQ</td>\n",
       "      <td>BAQ</td>\n",
       "      <td>8715673</td>\n",
       "      <td>2022-09-22</td>\n",
       "      <td>660</td>\n",
       "      <td>BAQ-FRU1-CAT1-111:277:659:660</td>\n",
       "      <td>Granadilla Estándar - Kg</td>\n",
       "      <td>19</td>\n",
       "      <td>9000.0</td>\n",
       "      <td>6</td>\n",
       "      <td>54000.0</td>\n",
       "      <td>10260.0</td>\n",
       "      <td>61560.0</td>\n",
       "    </tr>\n",
       "    <tr>\n",
       "      <th>4</th>\n",
       "      <td>BAQ</td>\n",
       "      <td>BAQ</td>\n",
       "      <td>8842178</td>\n",
       "      <td>2022-09-29</td>\n",
       "      <td>660</td>\n",
       "      <td>BAQ-FRU1-CAT1-111:277:659:660</td>\n",
       "      <td>Granadilla Estándar - Kg</td>\n",
       "      <td>61</td>\n",
       "      <td>7200.0</td>\n",
       "      <td>3</td>\n",
       "      <td>21600.0</td>\n",
       "      <td>8208.0</td>\n",
       "      <td>24624.0</td>\n",
       "    </tr>\n",
       "  </tbody>\n",
       "</table>\n",
       "</div>"
      ],
      "text/plain": [
       "  warehouse_code region_code       id delivery_date product_id  \\\n",
       "0            BAQ         BAQ  8475266    2022-09-08        660   \n",
       "1            BAQ         BAQ  8554498    2022-09-12        660   \n",
       "2            BAQ         BAQ  8682054    2022-09-19        660   \n",
       "3            BAQ         BAQ  8715673    2022-09-22        660   \n",
       "4            BAQ         BAQ  8842178    2022-09-29        660   \n",
       "\n",
       "                             sku                      name supplier_id  \\\n",
       "0  BAQ-FRU1-CAT1-111:277:659:660  Granadilla Estándar - Kg          61   \n",
       "1  BAQ-FRU1-CAT1-111:277:659:660  Granadilla Estándar - Kg          61   \n",
       "2  BAQ-FRU1-CAT1-111:277:659:660  Granadilla Estándar - Kg          61   \n",
       "3  BAQ-FRU1-CAT1-111:277:659:660  Granadilla Estándar - Kg          19   \n",
       "4  BAQ-FRU1-CAT1-111:277:659:660  Granadilla Estándar - Kg          61   \n",
       "\n",
       "    price  quantity  total_buy  fix_price  fix_total_buy  \n",
       "0  5950.0         5    29750.0     6783.0        33915.0  \n",
       "1  5950.0         8    47600.0     6783.0        54264.0  \n",
       "2  7500.0         2    15000.0     8550.0        17100.0  \n",
       "3  9000.0         6    54000.0    10260.0        61560.0  \n",
       "4  7200.0         3    21600.0     8208.0        24624.0  "
      ]
     },
     "execution_count": 31,
     "metadata": {},
     "output_type": "execute_result"
    }
   ],
   "source": [
    "compras.head()"
   ]
  },
  {
   "cell_type": "markdown",
   "id": "853b2324-c434-4878-a4ce-a50f669f5dc3",
   "metadata": {},
   "source": [
    "Ahora empezaremos con el proceso para costear."
   ]
  },
  {
   "cell_type": "code",
   "execution_count": 32,
   "id": "7f323304-f251-4fa8-af92-956baf75a80d",
   "metadata": {},
   "outputs": [],
   "source": [
    "start_date = datetime.datetime(2022,7,26)\n",
    "end_date = datetime.datetime(2023,7,31)\n",
    "\n",
    "date_range = pd.date_range(start=start_date, end = end_date, freq = \"D\")\n",
    "date_table = pd.DataFrame({\"Date\": date_range})"
   ]
  },
  {
   "cell_type": "code",
   "execution_count": 33,
   "id": "f85f93f3-ed7f-40ce-9566-64d7ac647f27",
   "metadata": {},
   "outputs": [],
   "source": [
    "compras_pivot = pd.pivot_table(compras, values=['price','fix_price'], index=['delivery_date', 'sku'], aggfunc=\"mean\").reset_index()"
   ]
  },
  {
   "cell_type": "markdown",
   "id": "5e86d7ca-8732-479c-81a1-6a4add910a52",
   "metadata": {},
   "source": [
    "Nos aseguramos que todos los días tengamos un precio registrado para cada producto."
   ]
  },
  {
   "cell_type": "code",
   "execution_count": 34,
   "id": "0e466c1f-749c-4992-ae68-42244b6da523",
   "metadata": {},
   "outputs": [],
   "source": [
    "sku_list = list(compras_pivot.sku)\n",
    "costs = pd.DataFrame()\n",
    "for i in sku_list:\n",
    "    temp_costs = pd.merge(date_table, compras_pivot[compras_pivot.sku == i], how=\"left\", left_on = \"Date\", right_on = \"delivery_date\")\n",
    "    costs = pd.concat([costs, temp_costs], ignore_index=True)"
   ]
  },
  {
   "cell_type": "code",
   "execution_count": 35,
   "id": "9f949fca-3ce3-4ac8-be78-bc85f733ae3a",
   "metadata": {},
   "outputs": [],
   "source": [
    "costs = costs.ffill()"
   ]
  },
  {
   "cell_type": "code",
   "execution_count": 36,
   "id": "bd7d5642-e5ea-4a5e-be1d-21707d17a8ed",
   "metadata": {},
   "outputs": [],
   "source": [
    "costs = costs[costs.delivery_date.notnull()]"
   ]
  },
  {
   "cell_type": "code",
   "execution_count": 37,
   "id": "fbf89e97-13b7-4c52-8187-97fd289fb65e",
   "metadata": {},
   "outputs": [
    {
     "data": {
      "text/plain": [
       "Timestamp('2022-07-26 00:00:00')"
      ]
     },
     "execution_count": 37,
     "metadata": {},
     "output_type": "execute_result"
    }
   ],
   "source": [
    "costs.delivery_date.min()"
   ]
  },
  {
   "cell_type": "code",
   "execution_count": 38,
   "id": "22502938-ccb3-4203-ab91-99d0c7cbf13b",
   "metadata": {},
   "outputs": [
    {
     "data": {
      "text/plain": [
       "Timestamp('2023-07-01 00:00:00')"
      ]
     },
     "execution_count": 38,
     "metadata": {},
     "output_type": "execute_result"
    }
   ],
   "source": [
    "costs.delivery_date.max()"
   ]
  },
  {
   "cell_type": "code",
   "execution_count": 39,
   "id": "7e2b654a-c878-4d94-8dc6-6f4811bea0d9",
   "metadata": {},
   "outputs": [
    {
     "data": {
      "text/html": [
       "<div>\n",
       "<style scoped>\n",
       "    .dataframe tbody tr th:only-of-type {\n",
       "        vertical-align: middle;\n",
       "    }\n",
       "\n",
       "    .dataframe tbody tr th {\n",
       "        vertical-align: top;\n",
       "    }\n",
       "\n",
       "    .dataframe thead th {\n",
       "        text-align: right;\n",
       "    }\n",
       "</style>\n",
       "<table border=\"1\" class=\"dataframe\">\n",
       "  <thead>\n",
       "    <tr style=\"text-align: right;\">\n",
       "      <th></th>\n",
       "      <th>Date</th>\n",
       "      <th>delivery_date</th>\n",
       "      <th>sku</th>\n",
       "      <th>fix_price</th>\n",
       "      <th>price</th>\n",
       "    </tr>\n",
       "  </thead>\n",
       "  <tbody>\n",
       "    <tr>\n",
       "      <th>0</th>\n",
       "      <td>2022-07-26</td>\n",
       "      <td>2022-07-26</td>\n",
       "      <td>BAQ-FRU1-CAT1-47:67:151:152</td>\n",
       "      <td>3249.0</td>\n",
       "      <td>2850.0</td>\n",
       "    </tr>\n",
       "    <tr>\n",
       "      <th>1</th>\n",
       "      <td>2022-07-27</td>\n",
       "      <td>2022-07-26</td>\n",
       "      <td>BAQ-FRU1-CAT1-47:67:151:152</td>\n",
       "      <td>3249.0</td>\n",
       "      <td>2850.0</td>\n",
       "    </tr>\n",
       "    <tr>\n",
       "      <th>2</th>\n",
       "      <td>2022-07-28</td>\n",
       "      <td>2022-07-26</td>\n",
       "      <td>BAQ-FRU1-CAT1-47:67:151:152</td>\n",
       "      <td>3249.0</td>\n",
       "      <td>2850.0</td>\n",
       "    </tr>\n",
       "    <tr>\n",
       "      <th>3</th>\n",
       "      <td>2022-07-29</td>\n",
       "      <td>2022-07-29</td>\n",
       "      <td>BAQ-FRU1-CAT1-47:67:151:152</td>\n",
       "      <td>3249.0</td>\n",
       "      <td>2850.0</td>\n",
       "    </tr>\n",
       "    <tr>\n",
       "      <th>4</th>\n",
       "      <td>2022-07-30</td>\n",
       "      <td>2022-07-29</td>\n",
       "      <td>BAQ-FRU1-CAT1-47:67:151:152</td>\n",
       "      <td>3249.0</td>\n",
       "      <td>2850.0</td>\n",
       "    </tr>\n",
       "  </tbody>\n",
       "</table>\n",
       "</div>"
      ],
      "text/plain": [
       "        Date delivery_date                          sku  fix_price   price\n",
       "0 2022-07-26    2022-07-26  BAQ-FRU1-CAT1-47:67:151:152     3249.0  2850.0\n",
       "1 2022-07-27    2022-07-26  BAQ-FRU1-CAT1-47:67:151:152     3249.0  2850.0\n",
       "2 2022-07-28    2022-07-26  BAQ-FRU1-CAT1-47:67:151:152     3249.0  2850.0\n",
       "3 2022-07-29    2022-07-29  BAQ-FRU1-CAT1-47:67:151:152     3249.0  2850.0\n",
       "4 2022-07-30    2022-07-29  BAQ-FRU1-CAT1-47:67:151:152     3249.0  2850.0"
      ]
     },
     "execution_count": 39,
     "metadata": {},
     "output_type": "execute_result"
    }
   ],
   "source": [
    "costs.head()"
   ]
  },
  {
   "cell_type": "code",
   "execution_count": 40,
   "id": "b3f107eb-a2c5-4bb6-a1c0-0db75687f236",
   "metadata": {},
   "outputs": [],
   "source": [
    "costs_2 = costs.copy()"
   ]
  },
  {
   "cell_type": "code",
   "execution_count": 41,
   "id": "d3ea233f-b407-4b64-a41c-454e28cc17e0",
   "metadata": {},
   "outputs": [],
   "source": [
    "costs = costs[['Date','sku','price']]\n",
    "costs.drop_duplicates(inplace=True)"
   ]
  },
  {
   "cell_type": "code",
   "execution_count": 42,
   "id": "43bb4b92-0e9d-4253-a881-8e681ee94dea",
   "metadata": {},
   "outputs": [
    {
     "data": {
      "text/plain": [
       "1468789"
      ]
     },
     "execution_count": 42,
     "metadata": {},
     "output_type": "execute_result"
    }
   ],
   "source": [
    "len(costs_2)"
   ]
  },
  {
   "cell_type": "code",
   "execution_count": 43,
   "id": "dbb7c4a7-cf1a-4183-b30a-3a9d45b834f6",
   "metadata": {},
   "outputs": [
    {
     "data": {
      "text/plain": [
       "57439"
      ]
     },
     "execution_count": 43,
     "metadata": {},
     "output_type": "execute_result"
    }
   ],
   "source": [
    "len(costs)"
   ]
  },
  {
   "cell_type": "code",
   "execution_count": 44,
   "id": "e5bccf22-878b-483e-8c73-ed54d044eb38",
   "metadata": {},
   "outputs": [],
   "source": [
    "costs = costs[costs[['Date','sku']].duplicated()==False]"
   ]
  },
  {
   "cell_type": "code",
   "execution_count": 45,
   "id": "604e6282-5578-4aa3-aaba-36514fec875a",
   "metadata": {},
   "outputs": [
    {
     "data": {
      "text/plain": [
       "48768"
      ]
     },
     "execution_count": 45,
     "metadata": {},
     "output_type": "execute_result"
    }
   ],
   "source": [
    "len(costs)"
   ]
  },
  {
   "cell_type": "code",
   "execution_count": 46,
   "id": "d728e9e8-e875-4aca-8d2d-c1d9b8ee36a6",
   "metadata": {},
   "outputs": [
    {
     "data": {
      "text/html": [
       "<div>\n",
       "<style scoped>\n",
       "    .dataframe tbody tr th:only-of-type {\n",
       "        vertical-align: middle;\n",
       "    }\n",
       "\n",
       "    .dataframe tbody tr th {\n",
       "        vertical-align: top;\n",
       "    }\n",
       "\n",
       "    .dataframe thead th {\n",
       "        text-align: right;\n",
       "    }\n",
       "</style>\n",
       "<table border=\"1\" class=\"dataframe\">\n",
       "  <thead>\n",
       "    <tr style=\"text-align: right;\">\n",
       "      <th></th>\n",
       "      <th>Columna</th>\n",
       "      <th>Completitud de Col(%)</th>\n",
       "      <th># Unicos</th>\n",
       "      <th># Distintos</th>\n",
       "      <th>Tipo de Columna</th>\n",
       "      <th>Moda</th>\n",
       "    </tr>\n",
       "  </thead>\n",
       "  <tbody>\n",
       "    <tr>\n",
       "      <th>0</th>\n",
       "      <td>Date</td>\n",
       "      <td>100.0</td>\n",
       "      <td>0</td>\n",
       "      <td>371</td>\n",
       "      <td>datetime64[ns]</td>\n",
       "      <td>2023-06-08 00:00:00</td>\n",
       "    </tr>\n",
       "    <tr>\n",
       "      <th>1</th>\n",
       "      <td>sku</td>\n",
       "      <td>100.0</td>\n",
       "      <td>0</td>\n",
       "      <td>146</td>\n",
       "      <td>object</td>\n",
       "      <td>BAQ-FRU1-CAT1-14:49:115:116</td>\n",
       "    </tr>\n",
       "    <tr>\n",
       "      <th>2</th>\n",
       "      <td>price</td>\n",
       "      <td>100.0</td>\n",
       "      <td>67</td>\n",
       "      <td>529</td>\n",
       "      <td>float64</td>\n",
       "      <td>2000.0</td>\n",
       "    </tr>\n",
       "  </tbody>\n",
       "</table>\n",
       "</div>"
      ],
      "text/plain": [
       "  Columna  Completitud de Col(%)  # Unicos  # Distintos Tipo de Columna  \\\n",
       "0    Date                  100.0         0          371  datetime64[ns]   \n",
       "1     sku                  100.0         0          146          object   \n",
       "2   price                  100.0        67          529         float64   \n",
       "\n",
       "                          Moda  \n",
       "0          2023-06-08 00:00:00  \n",
       "1  BAQ-FRU1-CAT1-14:49:115:116  \n",
       "2                       2000.0  "
      ]
     },
     "execution_count": 46,
     "metadata": {},
     "output_type": "execute_result"
    }
   ],
   "source": [
    "crear_calidad(costs)"
   ]
  },
  {
   "cell_type": "markdown",
   "id": "72ffd7fc-6405-4c5e-8219-5eb024df6f57",
   "metadata": {},
   "source": [
    "Ahora que hemos creado la tabla de costos. Procederemos a hacer transformaciones adicionales en ventas para poder crear nuestra base de datos consolidada."
   ]
  },
  {
   "cell_type": "code",
   "execution_count": 47,
   "id": "888586de-68f7-48e0-bb2b-d2aa65888539",
   "metadata": {},
   "outputs": [],
   "source": [
    "ventas[\"totalVentasSinDescuento\"] = ventas.cantidad*ventas.precio\n",
    "ventas[\"totalVentasConDescuento\"] = (ventas.cantidad*ventas.precio)-ventas.descuento"
   ]
  },
  {
   "cell_type": "code",
   "execution_count": 48,
   "id": "033ee5b8-b36f-498a-b6f3-0e66e0295e91",
   "metadata": {},
   "outputs": [],
   "source": [
    "ventas[\"delivery_date\"] = ventas.fecha - pd.to_timedelta(4, unit=\"d\")"
   ]
  },
  {
   "cell_type": "code",
   "execution_count": 49,
   "id": "128185b5-af1c-4bb4-ae08-a4cf34217a09",
   "metadata": {},
   "outputs": [
    {
     "data": {
      "text/html": [
       "<div>\n",
       "<style scoped>\n",
       "    .dataframe tbody tr th:only-of-type {\n",
       "        vertical-align: middle;\n",
       "    }\n",
       "\n",
       "    .dataframe tbody tr th {\n",
       "        vertical-align: top;\n",
       "    }\n",
       "\n",
       "    .dataframe thead th {\n",
       "        text-align: right;\n",
       "    }\n",
       "</style>\n",
       "<table border=\"1\" class=\"dataframe\">\n",
       "  <thead>\n",
       "    <tr style=\"text-align: right;\">\n",
       "      <th></th>\n",
       "      <th>nro_orden</th>\n",
       "      <th>fecha</th>\n",
       "      <th>producto</th>\n",
       "      <th>cantidad</th>\n",
       "      <th>precio</th>\n",
       "      <th>descuento</th>\n",
       "      <th>customer_id</th>\n",
       "      <th>sku</th>\n",
       "      <th>product_id</th>\n",
       "      <th>product_quantity_x_step_unit</th>\n",
       "      <th>product_step_unit</th>\n",
       "      <th>product_unit</th>\n",
       "      <th>sku_parent</th>\n",
       "      <th>month</th>\n",
       "      <th>totalVentasSinDescuento</th>\n",
       "      <th>totalVentasConDescuento</th>\n",
       "      <th>delivery_date</th>\n",
       "    </tr>\n",
       "  </thead>\n",
       "  <tbody>\n",
       "    <tr>\n",
       "      <th>184</th>\n",
       "      <td>18120194</td>\n",
       "      <td>2023-01-03</td>\n",
       "      <td>Papa Blanca Sucia Tamaño Mixto Kg</td>\n",
       "      <td>10</td>\n",
       "      <td>2750.0</td>\n",
       "      <td>46750.0</td>\n",
       "      <td>1f1b98af-ee04-4849-a6cf-4fecdf7dba50</td>\n",
       "      <td>BAQ-FRU1-CAT6-234:304:750:770</td>\n",
       "      <td>770</td>\n",
       "      <td>100</td>\n",
       "      <td>10</td>\n",
       "      <td>Kilogram</td>\n",
       "      <td>No value</td>\n",
       "      <td>1</td>\n",
       "      <td>27500.0</td>\n",
       "      <td>-19250.0</td>\n",
       "      <td>2022-12-30</td>\n",
       "    </tr>\n",
       "    <tr>\n",
       "      <th>204</th>\n",
       "      <td>18131510</td>\n",
       "      <td>2023-01-03</td>\n",
       "      <td>Tomate Chonto Extramaduro Mixto Kg</td>\n",
       "      <td>1</td>\n",
       "      <td>4998.0</td>\n",
       "      <td>1499.4</td>\n",
       "      <td>8c868951-e6d6-4d63-9592-d4b08ec43f3c</td>\n",
       "      <td>BAQ-FRU1-CAT104105-73423:168376:168377:92108</td>\n",
       "      <td>92108</td>\n",
       "      <td>2</td>\n",
       "      <td>2</td>\n",
       "      <td>Kilogram</td>\n",
       "      <td>No value</td>\n",
       "      <td>1</td>\n",
       "      <td>4998.0</td>\n",
       "      <td>3498.6</td>\n",
       "      <td>2022-12-30</td>\n",
       "    </tr>\n",
       "  </tbody>\n",
       "</table>\n",
       "</div>"
      ],
      "text/plain": [
       "    nro_orden      fecha                            producto  cantidad  \\\n",
       "184  18120194 2023-01-03   Papa Blanca Sucia Tamaño Mixto Kg        10   \n",
       "204  18131510 2023-01-03  Tomate Chonto Extramaduro Mixto Kg         1   \n",
       "\n",
       "     precio  descuento                           customer_id  \\\n",
       "184  2750.0    46750.0  1f1b98af-ee04-4849-a6cf-4fecdf7dba50   \n",
       "204  4998.0     1499.4  8c868951-e6d6-4d63-9592-d4b08ec43f3c   \n",
       "\n",
       "                                              sku product_id  \\\n",
       "184                 BAQ-FRU1-CAT6-234:304:750:770        770   \n",
       "204  BAQ-FRU1-CAT104105-73423:168376:168377:92108      92108   \n",
       "\n",
       "     product_quantity_x_step_unit  product_step_unit product_unit sku_parent  \\\n",
       "184                           100                 10     Kilogram   No value   \n",
       "204                             2                  2     Kilogram   No value   \n",
       "\n",
       "     month  totalVentasSinDescuento  totalVentasConDescuento delivery_date  \n",
       "184      1                  27500.0                 -19250.0    2022-12-30  \n",
       "204      1                   4998.0                   3498.6    2022-12-30  "
      ]
     },
     "execution_count": 49,
     "metadata": {},
     "output_type": "execute_result"
    }
   ],
   "source": [
    "ventas.head(2)"
   ]
  },
  {
   "cell_type": "code",
   "execution_count": 50,
   "id": "bb1be980-6b33-41a7-8100-14ef588c2a6f",
   "metadata": {},
   "outputs": [],
   "source": [
    "ventasCopy = ventas.copy()"
   ]
  },
  {
   "cell_type": "code",
   "execution_count": 51,
   "id": "8da58f64-5120-4a80-816e-dd4218b6b718",
   "metadata": {},
   "outputs": [],
   "source": [
    "ventas = pd.merge(ventas, costs, how='left', left_on=['sku','delivery_date'], right_on=['sku','Date'])"
   ]
  },
  {
   "cell_type": "code",
   "execution_count": 52,
   "id": "2e77bd41-1b2d-4bc5-a15b-00b6baa5e704",
   "metadata": {},
   "outputs": [
    {
     "data": {
      "text/plain": [
       "346891"
      ]
     },
     "execution_count": 52,
     "metadata": {},
     "output_type": "execute_result"
    }
   ],
   "source": [
    "len(ventasCopy)"
   ]
  },
  {
   "cell_type": "code",
   "execution_count": 53,
   "id": "2c48df7d-8ed3-4a57-833e-227ddf4bc51a",
   "metadata": {},
   "outputs": [
    {
     "data": {
      "text/plain": [
       "346891"
      ]
     },
     "execution_count": 53,
     "metadata": {},
     "output_type": "execute_result"
    }
   ],
   "source": [
    "len(ventas)"
   ]
  },
  {
   "cell_type": "code",
   "execution_count": 54,
   "id": "1968b860-ecd4-4c46-8d43-12f990c6acd4",
   "metadata": {},
   "outputs": [],
   "source": [
    "ventas.rename(columns={'price':'unit cost'}, inplace=True)"
   ]
  },
  {
   "cell_type": "code",
   "execution_count": 55,
   "id": "0bfbda14-25fc-49d2-9b26-334c705db9f9",
   "metadata": {},
   "outputs": [],
   "source": [
    "ventas.drop(columns=['delivery_date', 'Date'], inplace=True)"
   ]
  },
  {
   "cell_type": "code",
   "execution_count": 56,
   "id": "5027fadb-80b4-4cab-9c6c-8de05ed515a6",
   "metadata": {},
   "outputs": [
    {
     "data": {
      "text/html": [
       "<div>\n",
       "<style scoped>\n",
       "    .dataframe tbody tr th:only-of-type {\n",
       "        vertical-align: middle;\n",
       "    }\n",
       "\n",
       "    .dataframe tbody tr th {\n",
       "        vertical-align: top;\n",
       "    }\n",
       "\n",
       "    .dataframe thead th {\n",
       "        text-align: right;\n",
       "    }\n",
       "</style>\n",
       "<table border=\"1\" class=\"dataframe\">\n",
       "  <thead>\n",
       "    <tr style=\"text-align: right;\">\n",
       "      <th></th>\n",
       "      <th>nro_orden</th>\n",
       "      <th>fecha</th>\n",
       "      <th>producto</th>\n",
       "      <th>cantidad</th>\n",
       "      <th>precio</th>\n",
       "      <th>descuento</th>\n",
       "      <th>customer_id</th>\n",
       "      <th>sku</th>\n",
       "      <th>product_id</th>\n",
       "      <th>product_quantity_x_step_unit</th>\n",
       "      <th>product_step_unit</th>\n",
       "      <th>product_unit</th>\n",
       "      <th>sku_parent</th>\n",
       "      <th>month</th>\n",
       "      <th>totalVentasSinDescuento</th>\n",
       "      <th>totalVentasConDescuento</th>\n",
       "      <th>unit cost</th>\n",
       "    </tr>\n",
       "  </thead>\n",
       "  <tbody>\n",
       "    <tr>\n",
       "      <th>0</th>\n",
       "      <td>18120194</td>\n",
       "      <td>2023-01-03</td>\n",
       "      <td>Papa Blanca Sucia Tamaño Mixto Kg</td>\n",
       "      <td>10</td>\n",
       "      <td>2750.0</td>\n",
       "      <td>46750.0</td>\n",
       "      <td>1f1b98af-ee04-4849-a6cf-4fecdf7dba50</td>\n",
       "      <td>BAQ-FRU1-CAT6-234:304:750:770</td>\n",
       "      <td>770</td>\n",
       "      <td>100</td>\n",
       "      <td>10</td>\n",
       "      <td>Kilogram</td>\n",
       "      <td>No value</td>\n",
       "      <td>1</td>\n",
       "      <td>27500.0</td>\n",
       "      <td>-19250.0</td>\n",
       "      <td>2330.0</td>\n",
       "    </tr>\n",
       "  </tbody>\n",
       "</table>\n",
       "</div>"
      ],
      "text/plain": [
       "  nro_orden      fecha                           producto  cantidad  precio  \\\n",
       "0  18120194 2023-01-03  Papa Blanca Sucia Tamaño Mixto Kg        10  2750.0   \n",
       "\n",
       "   descuento                           customer_id  \\\n",
       "0    46750.0  1f1b98af-ee04-4849-a6cf-4fecdf7dba50   \n",
       "\n",
       "                             sku product_id  product_quantity_x_step_unit  \\\n",
       "0  BAQ-FRU1-CAT6-234:304:750:770        770                           100   \n",
       "\n",
       "   product_step_unit product_unit sku_parent  month  totalVentasSinDescuento  \\\n",
       "0                 10     Kilogram   No value      1                  27500.0   \n",
       "\n",
       "   totalVentasConDescuento  unit cost  \n",
       "0                 -19250.0     2330.0  "
      ]
     },
     "execution_count": 56,
     "metadata": {},
     "output_type": "execute_result"
    }
   ],
   "source": [
    "ventas.head(1)"
   ]
  },
  {
   "cell_type": "markdown",
   "id": "27dc0e39-28b5-433d-bcc5-05328fcd8c07",
   "metadata": {},
   "source": [
    "Observemos que aun despues de el merge, existen nulos en los costos. Esto puede deberse a que estos sku fueron costeados después de la franja de tiempo acotada."
   ]
  },
  {
   "cell_type": "code",
   "execution_count": 57,
   "id": "c91ff993-63b3-4383-b60e-d8fc5623141b",
   "metadata": {},
   "outputs": [
    {
     "data": {
      "text/plain": [
       "array(['BAQ-FRU1-CAT1-59:90:201:202',\n",
       "       'BAQ-FRU1-CAT2-13447:24531:24532:16342',\n",
       "       'BAQ-FRU1-CAT1-241:367:958:959',\n",
       "       'BAQ-FRU1-CAT104105-305509:1018263:1018264:563300',\n",
       "       'BAQ-FRU1-CAT2-281:370:964:965',\n",
       "       'BAQ-FRU1-CAT2-36215:63238:63239:42882',\n",
       "       'BAQ-FRU1-CAT6-298:790:2017:2018',\n",
       "       'BAQ-FRU1-CAT1-44789:80549:80550:53091',\n",
       "       'BAQ-FRU1-CAT104111-60301:124347:124348:73260',\n",
       "       'BAQ-FRU1-CAT2-6:45:106:107',\n",
       "       'BAQ-FRU1-CAT104105-104967:239539:239540:131193',\n",
       "       'BAQ-FRU1-CAT1-208:432:1113:1114', 'BAQ-FRU1-CAT6-283:371:966:967',\n",
       "       'BAQ-FRU1-CAT1-440:579:1507:1508', 'BAQ-FRU1-CAT1-52:78:177:178',\n",
       "       'BAQ-FRU1-CAT104111-64:1114193:1114194:608238',\n",
       "       'BAQ-FRU1-CAT2-264:351:907:908', 'BAQ-FRU1-CAT1-463:720:1869:1870',\n",
       "       'BAQ-FRU1-CAT2-280:368:960:961', 'BAQ-FRU1-CAT6-658:852:2157:2158',\n",
       "       'BAQ-FRU1-CAT1-47:68:235:236', 'BAQ-FRU1-CAT1-60:91:203:204',\n",
       "       'BAQ-FRU1-CAT1-236:307:760:761', 'BAQ-FRU1-CAT2-32:65:725:726',\n",
       "       'BAQ-FRU1-CAT1-20:53:123:124', 'BAQ-FRU1-CAT1-279:366:956:957',\n",
       "       'BAQ-FRU1-CAT104107-77661:180253:180254:97944',\n",
       "       'BAQ-FRU1-CAT104107-72832:165646:165647:91444',\n",
       "       'BAQ-FRU1-CAT104107-456426:1155955:1155956:631850',\n",
       "       'BAQ-FRU1-CAT104105-73423:168376:168377:92108',\n",
       "       'BAQ-FRU1-CAT104105-73435:169267:169268:92127',\n",
       "       'BAQ-FRU1-CAT104105-154:296447:296448:160938',\n",
       "       'BAQ-FRU1-CAT1-61:92:205:229', 'BAQ-FRU1-CAT5-464:619:1598:1599',\n",
       "       'BAQ-FRU1-CAT2-395:626:1612:1613',\n",
       "       'BAQ-FRU1-CAT4-454:724:1877:1878',\n",
       "       'BAQ-FRU1-CAT2-40061:70131:70132:47269',\n",
       "       'BAQ-FRU1-CAT2-55:81:183:184',\n",
       "       'BAQ-FRU1-CAT104107-367:261835:261836:142264',\n",
       "       'BAQ-FRU1-CAT2-543:722:1873:1874', 'BAQ-FRU1-CAT1-111:277:659:660',\n",
       "       'BAQ-FRU1-CAT2-370:628:1616:1617', 'BAQ-FRU1-CAT1-123:280:665:676',\n",
       "       'BAQ-FRU1-CAT104107-16:261839:261840:142273',\n",
       "       'BAQ-FRU1-CAT1-367:488:1260:1261'], dtype=object)"
      ]
     },
     "execution_count": 57,
     "metadata": {},
     "output_type": "execute_result"
    }
   ],
   "source": [
    "ventas.sku[ventas['unit cost'].isnull()].unique()"
   ]
  },
  {
   "cell_type": "code",
   "execution_count": 58,
   "id": "964cf87f-9e51-439b-baf3-d500fe776b8f",
   "metadata": {},
   "outputs": [],
   "source": [
    "null_product = list(ventas.producto[ventas['unit cost'].isnull()].unique())"
   ]
  },
  {
   "cell_type": "code",
   "execution_count": 59,
   "id": "15fa6e6e-d7a6-4132-a184-e29716653b65",
   "metadata": {},
   "outputs": [],
   "source": [
    "ventas = ventas[ventas['unit cost'].notnull()]"
   ]
  },
  {
   "cell_type": "markdown",
   "id": "1274c237-b3da-47a6-a13d-0dafd6c29af1",
   "metadata": {},
   "source": [
    "Ahora, nos queda agregar algunos calculos adicionales."
   ]
  },
  {
   "cell_type": "code",
   "execution_count": 60,
   "id": "e07365c9-b839-4aa6-91b9-373bd90477c0",
   "metadata": {},
   "outputs": [],
   "source": [
    "ventas['totalContribucionSinDescuento'] = (ventas.precio - ventas['unit cost']) * ventas.cantidad\n",
    "ventas['totalContribucionConDescuento'] = ((ventas.precio - ventas['unit cost']) * ventas.cantidad) - ventas.descuento"
   ]
  },
  {
   "cell_type": "markdown",
   "id": "dd38570b-e200-468b-81e3-225f2fdb8857",
   "metadata": {},
   "source": [
    "Añadimos los valores de la tabla de producto"
   ]
  },
  {
   "cell_type": "code",
   "execution_count": 61,
   "id": "e4db529c-ae77-4235-9410-853f58bd66ec",
   "metadata": {},
   "outputs": [],
   "source": [
    "ventasCopy2 = ventas.copy()"
   ]
  },
  {
   "cell_type": "code",
   "execution_count": 62,
   "id": "9d8a4f4c-d25a-4bda-818e-267f4018f18b",
   "metadata": {},
   "outputs": [
    {
     "data": {
      "text/html": [
       "<div>\n",
       "<style scoped>\n",
       "    .dataframe tbody tr th:only-of-type {\n",
       "        vertical-align: middle;\n",
       "    }\n",
       "\n",
       "    .dataframe tbody tr th {\n",
       "        vertical-align: top;\n",
       "    }\n",
       "\n",
       "    .dataframe thead th {\n",
       "        text-align: right;\n",
       "    }\n",
       "</style>\n",
       "<table border=\"1\" class=\"dataframe\">\n",
       "  <thead>\n",
       "    <tr style=\"text-align: right;\">\n",
       "      <th></th>\n",
       "      <th>product_id</th>\n",
       "      <th>sku</th>\n",
       "      <th>name</th>\n",
       "      <th>category</th>\n",
       "      <th>region_code</th>\n",
       "      <th>product_category_id</th>\n",
       "      <th>mean_shelf_life</th>\n",
       "      <th>promised_lead_time</th>\n",
       "      <th>purchasing_unit</th>\n",
       "      <th>buy_unit</th>\n",
       "      <th>weight_parameter_apricot</th>\n",
       "    </tr>\n",
       "  </thead>\n",
       "  <tbody>\n",
       "    <tr>\n",
       "      <th>0</th>\n",
       "      <td>660</td>\n",
       "      <td>BAQ-FRU1-CAT1-111:277:659:660</td>\n",
       "      <td>Granadilla Estándar - Kg</td>\n",
       "      <td>Frutas</td>\n",
       "      <td>BAQ</td>\n",
       "      <td>1</td>\n",
       "      <td>2</td>\n",
       "      <td>NaN</td>\n",
       "      <td>1.0</td>\n",
       "      <td>KG</td>\n",
       "      <td>1.0</td>\n",
       "    </tr>\n",
       "    <tr>\n",
       "      <th>1</th>\n",
       "      <td>676</td>\n",
       "      <td>BAQ-FRU1-CAT1-123:280:665:676</td>\n",
       "      <td>Kiwi Estándar - Kg</td>\n",
       "      <td>Frutas</td>\n",
       "      <td>BAQ</td>\n",
       "      <td>1</td>\n",
       "      <td>2</td>\n",
       "      <td>NaN</td>\n",
       "      <td>1.0</td>\n",
       "      <td>KG</td>\n",
       "      <td>1.0</td>\n",
       "    </tr>\n",
       "  </tbody>\n",
       "</table>\n",
       "</div>"
      ],
      "text/plain": [
       "  product_id                            sku                      name  \\\n",
       "0        660  BAQ-FRU1-CAT1-111:277:659:660  Granadilla Estándar - Kg   \n",
       "1        676  BAQ-FRU1-CAT1-123:280:665:676        Kiwi Estándar - Kg   \n",
       "\n",
       "  category region_code product_category_id  mean_shelf_life  \\\n",
       "0   Frutas         BAQ                   1                2   \n",
       "1   Frutas         BAQ                   1                2   \n",
       "\n",
       "   promised_lead_time  purchasing_unit buy_unit  weight_parameter_apricot  \n",
       "0                 NaN              1.0       KG                       1.0  \n",
       "1                 NaN              1.0       KG                       1.0  "
      ]
     },
     "execution_count": 62,
     "metadata": {},
     "output_type": "execute_result"
    }
   ],
   "source": [
    "productos.head(2)"
   ]
  },
  {
   "cell_type": "code",
   "execution_count": 63,
   "id": "8ec72043-9b17-49c0-81f4-9d8a48cf1d69",
   "metadata": {},
   "outputs": [],
   "source": [
    "ventas = pd.merge(ventas, productos, how='left', on='sku')"
   ]
  },
  {
   "cell_type": "code",
   "execution_count": 64,
   "id": "e64257a7-9d49-4727-9fab-803e340e7540",
   "metadata": {},
   "outputs": [],
   "source": [
    "ventas.drop(columns=['product_id_y'], inplace=True)"
   ]
  },
  {
   "cell_type": "markdown",
   "id": "cb919af7-794e-4cf0-b692-d1eb20d19a3c",
   "metadata": {},
   "source": [
    "Al parecer la base de datos de productos no tenía información de algunos sku."
   ]
  },
  {
   "cell_type": "code",
   "execution_count": 67,
   "id": "a275df2f-06a7-4583-83a9-985c2e6b4e02",
   "metadata": {},
   "outputs": [],
   "source": [
    "ventas.to_csv('../Datos Externos/Interim/base_consolidada.csv')"
   ]
  }
 ],
 "metadata": {
  "kernelspec": {
   "display_name": "Python 3 (ipykernel)",
   "language": "python",
   "name": "python3"
  },
  "language_info": {
   "codemirror_mode": {
    "name": "ipython",
    "version": 3
   },
   "file_extension": ".py",
   "mimetype": "text/x-python",
   "name": "python",
   "nbconvert_exporter": "python",
   "pygments_lexer": "ipython3",
   "version": "3.9.11"
  }
 },
 "nbformat": 4,
 "nbformat_minor": 5
}
