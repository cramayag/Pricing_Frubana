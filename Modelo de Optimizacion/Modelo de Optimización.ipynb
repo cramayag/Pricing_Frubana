{
 "cells": [
  {
   "cell_type": "markdown",
   "id": "a217db6e-09f6-41a0-8f51-8ad575d22e7d",
   "metadata": {},
   "source": [
    "Importemos las librerías a usar"
   ]
  },
  {
   "cell_type": "code",
   "execution_count": 1,
   "id": "1f4907d2-9986-4762-86ae-46d0bb21515d",
   "metadata": {},
   "outputs": [],
   "source": [
    "import pulp as lp\n",
    "import pandas as pd\n",
    "import numpy as np\n",
    "import pickle\n",
    "import os\n",
    "import datetime\n",
    "import statsmodels.api as sm\n",
    "from pyomo.environ import ConcreteModel, Var, Objective, Constraint, SolverFactory, NonNegativeReals, value\n",
    "import itertools"
   ]
  },
  {
   "cell_type": "markdown",
   "id": "79947060-4535-4ff6-962e-9d8f822e9715",
   "metadata": {},
   "source": [
    "Llamamos los modelos predictivos a usar."
   ]
  },
  {
   "cell_type": "code",
   "execution_count": 2,
   "id": "b87dd6eb-1620-426a-bdba-c9965133272d",
   "metadata": {},
   "outputs": [],
   "source": [
    "name_path = 'Input/name.pkl'\n",
    "cebolla_path = 'Input/cebolla_cabezona.pkl'\n",
    "platano_path = 'Input/platano_verde.pkl'\n",
    "tomate_path = 'Input/tomate_chonto.pkl'\n",
    "ajo_path = 'Input/ajo.pkl'"
   ]
  },
  {
   "cell_type": "code",
   "execution_count": 3,
   "id": "0f049002-1477-4be0-92be-c7a00b1580b8",
   "metadata": {},
   "outputs": [],
   "source": [
    "import glob\n",
    "import os\n",
    "\n",
    "# Define the folder path containing the CSV files\n",
    "folder_path = 'Input/Variables/'\n",
    "\n",
    "# Use glob to get all CSV files in the folder\n",
    "csv_files = glob.glob(os.path.join(folder_path, \"*.csv\"))\n",
    "\n",
    "# Initialize an empty list to store individual DataFrames\n",
    "dfs = []\n",
    "\n",
    "# Loop over the list of CSV files and read each into a DataFrame\n",
    "for file in csv_files:\n",
    "    df = pd.read_csv(file)\n",
    "    dfs.append(df)\n",
    "    \n",
    "    \n",
    "var_sel_df = pd.concat(dfs, ignore_index=True)"
   ]
  },
  {
   "cell_type": "code",
   "execution_count": 4,
   "id": "6dc85bda-4457-4bb2-93c5-d36e87af01d1",
   "metadata": {},
   "outputs": [],
   "source": [
    "with open(name_path, 'rb') as file:\n",
    "    name_model = pickle.load(file)\n",
    "\n",
    "with open(cebolla_path, 'rb') as file:\n",
    "    cebolla_model = pickle.load(file)\n",
    "    \n",
    "with open(platano_path, 'rb') as file:\n",
    "    platano_model = pickle.load(file)\n",
    "    \n",
    "with open(tomate_path, 'rb') as file:\n",
    "    tomate_model = pickle.load(file)\n",
    "    \n",
    "with open(ajo_path, 'rb') as file:\n",
    "    ajo_model = pickle.load(file)"
   ]
  },
  {
   "cell_type": "markdown",
   "id": "168c0600-b61d-4b6f-8030-a5487a5731a2",
   "metadata": {},
   "source": [
    "Vamos a leer las datos de los parametros actuales de los productos."
   ]
  },
  {
   "cell_type": "code",
   "execution_count": 5,
   "id": "49d8bafc-b0d4-4f04-85c9-d62717953573",
   "metadata": {},
   "outputs": [],
   "source": [
    "parametros_base = pd.read_csv('Input\\\\base_de_datos.csv')"
   ]
  },
  {
   "cell_type": "code",
   "execution_count": 6,
   "id": "8149ae6c-0ec0-4bb4-8574-6a6163bdb5af",
   "metadata": {},
   "outputs": [],
   "source": [
    "parametros_pivot = pd.pivot_table(parametros_base, values=['precio','Precio medio','unit cost'], index='sku', aggfunc='last').reset_index()"
   ]
  },
  {
   "cell_type": "code",
   "execution_count": 7,
   "id": "94586c34-c6a7-4889-9179-570ad45a9b94",
   "metadata": {},
   "outputs": [],
   "source": [
    "parametros_pivot.loc[parametros_pivot['Precio medio'].isnull(),'Precio medio'] = parametros_pivot.precio\n",
    "parametros_pivot.loc[parametros_pivot['Precio medio']<parametros_pivot['unit cost'],'Precio medio'] = parametros_pivot.precio\n",
    "parametros_pivot.loc[parametros_pivot['Precio medio']<parametros_pivot['unit cost'],'Precio medio'] = parametros_pivot['unit cost']"
   ]
  },
  {
   "cell_type": "code",
   "execution_count": 8,
   "id": "52a269e4-1ae1-4786-b40e-19dc230e47ad",
   "metadata": {},
   "outputs": [],
   "source": [
    "def get_variables(sku, df=var_sel_df):\n",
    "    df_filtered = df[df.producto==sku]\n",
    "    return list(df_filtered.sku)"
   ]
  },
  {
   "cell_type": "code",
   "execution_count": 9,
   "id": "dab23295-d9c1-438a-a1e5-38b8a7e4c806",
   "metadata": {},
   "outputs": [],
   "source": [
    "def get_cost(_list,_df=parametros_pivot):\n",
    "    new_df = _df[_df.sku.isin(_list)==True]\n",
    "    new_df = new_df.set_index('sku')\n",
    "    unit_cost_dict = new_df.loc[_list,'unit cost'].to_dict()\n",
    "    \n",
    "    return unit_cost_dict\n",
    "\n",
    "def get_top_price(_list,_df=parametros_pivot):\n",
    "    new_df = _df[_df.sku.isin(_list)==True]\n",
    "    new_df = new_df.set_index('sku')\n",
    "    new_df['Precio medio'] = new_df['Precio medio']*1.2\n",
    "    unit_cost_dict = new_df.loc[_list,'Precio medio'].to_dict()\n",
    "    \n",
    "    return unit_cost_dict"
   ]
  },
  {
   "cell_type": "markdown",
   "id": "e2cf5a80-a0c7-4530-b2e3-c206a7ed49a4",
   "metadata": {},
   "source": [
    "Definimos los sku que predicen nuestros productos top 5."
   ]
  },
  {
   "cell_type": "code",
   "execution_count": 10,
   "id": "dad68ed1-31bb-4144-ba2d-621b88339d2b",
   "metadata": {},
   "outputs": [],
   "source": [
    "precios_name = get_variables('BAQ-FRU1-CAT6-64:86:193:194')\n",
    "precios_cebolla = get_variables('BAQ-FRU1-CAT104105-60271:510131:510132:258690')\n",
    "precios_platano = get_variables('BAQ-FRU1-CAT1-47:67:151:152')\n",
    "precios_tomate = get_variables('BAQ-FRU1-CAT104105-305509:1018259:1018260:563293')\n",
    "precios_ajo = get_variables('BAQ-FRU1-CAT2-346:464:1180:1181')"
   ]
  },
  {
   "cell_type": "markdown",
   "id": "7a1dcef4-e96d-41b0-a33a-4fbf32944d10",
   "metadata": {},
   "source": [
    "Definimos los parameotros de restricción de cada producto."
   ]
  },
  {
   "cell_type": "code",
   "execution_count": 11,
   "id": "2cd1ee33-96d7-4e3e-bfc7-60f6cac9ed38",
   "metadata": {},
   "outputs": [],
   "source": [
    "parametros_name = parametros_pivot[parametros_pivot.sku.isin(precios_name)==True]\n",
    "parametros_cebolla = parametros_pivot[parametros_pivot.sku.isin(precios_cebolla)==True]\n",
    "parametros_platano = parametros_pivot[parametros_pivot.sku.isin(precios_platano)==True]\n",
    "parametros_tomate = parametros_pivot[parametros_pivot.sku.isin(precios_tomate)==True]\n",
    "parametros_ajo = parametros_pivot[parametros_pivot.sku.isin(precios_ajo)==True]"
   ]
  },
  {
   "cell_type": "markdown",
   "id": "b149630e-cb3e-4ca9-8e0d-54cf49547bc3",
   "metadata": {},
   "source": [
    "Cargamos los parametros de los modelos."
   ]
  },
  {
   "cell_type": "code",
   "execution_count": 12,
   "id": "194fbf8b-1b48-47b0-929d-21cb31c95151",
   "metadata": {},
   "outputs": [],
   "source": [
    "params_name = name_model.params\n",
    "params_ajo = ajo_model.params\n",
    "params_tomate = tomate_model.coef_\n",
    "params_platano = platano_model.params\n",
    "params_cebolla = cebolla_model.params"
   ]
  },
  {
   "cell_type": "code",
   "execution_count": 13,
   "id": "446aa03f-bca5-4d4a-90cb-8ef9f0073ebe",
   "metadata": {},
   "outputs": [],
   "source": [
    "def generate_data(sku,sep):\n",
    "    precios_sku = get_variables(sku)\n",
    "    top_val = get_top_price(precios_sku)\n",
    "    low_val = get_cost(precios_sku)\n",
    "    \n",
    "    list_val = list()\n",
    "    \n",
    "    for i,j in top_val.items():\n",
    "        for m,n in low_val.items():\n",
    "            if i == m:\n",
    "                list_val.append(list(range(round(n),round(j),sep)))\n",
    "                \n",
    "    combined_list = [np.array([combination]) for combination in itertools.product(*list_val)]\n",
    "    \n",
    "    return combined_list"
   ]
  },
  {
   "cell_type": "code",
   "execution_count": 14,
   "id": "29060b8b-16c6-4e67-881c-0bf6f1ec1184",
   "metadata": {},
   "outputs": [],
   "source": [
    "def optimization(sku,sep,model,t=0):\n",
    "    entry_np = generate_data(sku,sep)\n",
    "    cost_i = list(get_cost(get_variables(sku)).values())[0]\n",
    "    df = pd.DataFrame()\n",
    "    cantidad = []\n",
    "    contribucion = []\n",
    "    \n",
    "    \n",
    "    if t == 0:\n",
    "        for i in entry_np:\n",
    "            x = np.hstack([np.ones((i.shape[0], 1)), i])\n",
    "            q = model.predict(x)\n",
    "            cantidad.append(q[0])\n",
    "            contribucion.append(q[0]*(i[0][0]-cost_i))\n",
    "    elif t == 1:\n",
    "        for i in entry_np:\n",
    "            q = model.predict(i)\n",
    "            cantidad.append(q[0])\n",
    "            contribucion.append(q[0]*(i[0][0]-cost_i))\n",
    "    elif t == 2:\n",
    "        for i in entry_np:\n",
    "            q = model.predict(i)\n",
    "            q_i = np.exp(q[0])\n",
    "            cantidad.append(q_i)\n",
    "            contribucion.append(q_i*(i[0][0]-cost_i))\n",
    "    \n",
    "    df['parametros'] = entry_np\n",
    "    df['cantidad'] = cantidad\n",
    "    df['contribucion'] = contribucion\n",
    "    \n",
    "    return df[df.contribucion==max(df.contribucion)]"
   ]
  },
  {
   "cell_type": "code",
   "execution_count": 15,
   "id": "0abe9215-323b-4e83-9267-d749d64a9c8d",
   "metadata": {},
   "outputs": [],
   "source": [
    "data_platano = generate_data('BAQ-FRU1-CAT1-47:67:151:152',500)"
   ]
  },
  {
   "cell_type": "code",
   "execution_count": 16,
   "id": "f71d4951-2d90-4897-b142-56543a121a60",
   "metadata": {},
   "outputs": [],
   "source": [
    "opt_platano = optimization('BAQ-FRU1-CAT1-47:67:151:152',500,platano_model)"
   ]
  },
  {
   "cell_type": "code",
   "execution_count": 17,
   "id": "18e7238e-b390-4aac-a632-04d85a2eca61",
   "metadata": {},
   "outputs": [],
   "source": [
    "data_tomate = generate_data('BAQ-FRU1-CAT104105-305509:1018259:1018260:563293',50)"
   ]
  },
  {
   "cell_type": "code",
   "execution_count": 18,
   "id": "0c770b3c-6eba-4440-ba01-1a3dfd6ba483",
   "metadata": {},
   "outputs": [],
   "source": [
    "opt_tomate = optimization('BAQ-FRU1-CAT104105-305509:1018259:1018260:563293',50,tomate_model,1)"
   ]
  },
  {
   "cell_type": "code",
   "execution_count": 19,
   "id": "4318cff4-146f-4972-a0de-13b2c90a3221",
   "metadata": {},
   "outputs": [],
   "source": [
    "data_ajo = generate_data('BAQ-FRU1-CAT2-346:464:1180:1181',50)"
   ]
  },
  {
   "cell_type": "code",
   "execution_count": 20,
   "id": "2a1db442-3423-459c-87cb-838210db59f0",
   "metadata": {},
   "outputs": [],
   "source": [
    "opt_ajo = optimization('BAQ-FRU1-CAT2-346:464:1180:1181',50,ajo_model,2)"
   ]
  },
  {
   "cell_type": "code",
   "execution_count": 21,
   "id": "f9ec5a20-c7d1-43be-9e4f-e227c7c2c4cf",
   "metadata": {},
   "outputs": [],
   "source": [
    "data_cebolla = generate_data('BAQ-FRU1-CAT104105-60271:510131:510132:258690',50)"
   ]
  },
  {
   "cell_type": "code",
   "execution_count": 22,
   "id": "6e5a5845-67c2-4848-99d8-e4825eb45070",
   "metadata": {},
   "outputs": [],
   "source": [
    "opt_cebolla = optimization('BAQ-FRU1-CAT104105-60271:510131:510132:258690',50,cebolla_model)"
   ]
  },
  {
   "cell_type": "code",
   "execution_count": 23,
   "id": "7f278f5b-5367-4c8f-90ae-c8e7ced8a8ba",
   "metadata": {},
   "outputs": [],
   "source": [
    "data_name = generate_data('BAQ-FRU1-CAT6-64:86:193:194',200)"
   ]
  },
  {
   "cell_type": "code",
   "execution_count": 24,
   "id": "f72b4761-0702-4d59-a3ce-bdc614e13f60",
   "metadata": {},
   "outputs": [],
   "source": [
    "opt_name = optimization('BAQ-FRU1-CAT6-64:86:193:194',200,name_model)"
   ]
  },
  {
   "cell_type": "code",
   "execution_count": 25,
   "id": "16e47354-6bb0-44fc-9d6d-62737530416b",
   "metadata": {},
   "outputs": [],
   "source": [
    "opt_platano['sku'] = 'BAQ-FRU1-CAT1-47:67:151:152'\n",
    "opt_tomate['sku'] = 'BAQ-FRU1-CAT104105-305509:1018259:1018260:563293'\n",
    "opt_ajo['sku'] = 'BAQ-FRU1-CAT2-346:464:1180:1181'\n",
    "opt_cebolla['sku'] = 'BAQ-FRU1-CAT104105-60271:510131:510132:258690'\n",
    "opt_name['sku'] = 'BAQ-FRU1-CAT6-64:86:193:194'"
   ]
  },
  {
   "cell_type": "code",
   "execution_count": 26,
   "id": "0888b406-d85f-45c0-aa28-5cdadc22717c",
   "metadata": {},
   "outputs": [],
   "source": [
    "opt_table = pd.concat([opt_ajo,opt_cebolla,opt_name,opt_platano,opt_name])"
   ]
  },
  {
   "cell_type": "code",
   "execution_count": 27,
   "id": "6986665a-1acd-4415-aea0-f8c2765be939",
   "metadata": {},
   "outputs": [
    {
     "data": {
      "text/html": [
       "<div>\n",
       "<style scoped>\n",
       "    .dataframe tbody tr th:only-of-type {\n",
       "        vertical-align: middle;\n",
       "    }\n",
       "\n",
       "    .dataframe tbody tr th {\n",
       "        vertical-align: top;\n",
       "    }\n",
       "\n",
       "    .dataframe thead th {\n",
       "        text-align: right;\n",
       "    }\n",
       "</style>\n",
       "<table border=\"1\" class=\"dataframe\">\n",
       "  <thead>\n",
       "    <tr style=\"text-align: right;\">\n",
       "      <th></th>\n",
       "      <th>parametros</th>\n",
       "      <th>cantidad</th>\n",
       "      <th>contribucion</th>\n",
       "      <th>sku</th>\n",
       "    </tr>\n",
       "  </thead>\n",
       "  <tbody>\n",
       "    <tr>\n",
       "      <th>546119</th>\n",
       "      <td>[[77950, 6200, 5000]]</td>\n",
       "      <td>46.049794</td>\n",
       "      <td>8.265938e+05</td>\n",
       "      <td>BAQ-FRU1-CAT2-346:464:1180:1181</td>\n",
       "    </tr>\n",
       "    <tr>\n",
       "      <th>2033493</th>\n",
       "      <td>[[4965, 3300, 1100, 2900]]</td>\n",
       "      <td>1935.766512</td>\n",
       "      <td>3.194015e+06</td>\n",
       "      <td>BAQ-FRU1-CAT104105-60271:510131:510132:258690</td>\n",
       "    </tr>\n",
       "    <tr>\n",
       "      <th>21908200</th>\n",
       "      <td>[[5500, 5300, 2400, 2500, 1100, 5800, 4100]]</td>\n",
       "      <td>565.423506</td>\n",
       "      <td>1.583186e+06</td>\n",
       "      <td>BAQ-FRU1-CAT6-64:86:193:194</td>\n",
       "    </tr>\n",
       "    <tr>\n",
       "      <th>9983</th>\n",
       "      <td>[[2600, 8700, 6000, 4300, 2850, 1372, 7500, 24...</td>\n",
       "      <td>1193.294657</td>\n",
       "      <td>5.966473e+05</td>\n",
       "      <td>BAQ-FRU1-CAT1-47:67:151:152</td>\n",
       "    </tr>\n",
       "    <tr>\n",
       "      <th>21908200</th>\n",
       "      <td>[[5500, 5300, 2400, 2500, 1100, 5800, 4100]]</td>\n",
       "      <td>565.423506</td>\n",
       "      <td>1.583186e+06</td>\n",
       "      <td>BAQ-FRU1-CAT6-64:86:193:194</td>\n",
       "    </tr>\n",
       "  </tbody>\n",
       "</table>\n",
       "</div>"
      ],
      "text/plain": [
       "                                                 parametros     cantidad  \\\n",
       "546119                                [[77950, 6200, 5000]]    46.049794   \n",
       "2033493                          [[4965, 3300, 1100, 2900]]  1935.766512   \n",
       "21908200       [[5500, 5300, 2400, 2500, 1100, 5800, 4100]]   565.423506   \n",
       "9983      [[2600, 8700, 6000, 4300, 2850, 1372, 7500, 24...  1193.294657   \n",
       "21908200       [[5500, 5300, 2400, 2500, 1100, 5800, 4100]]   565.423506   \n",
       "\n",
       "          contribucion                                            sku  \n",
       "546119    8.265938e+05                BAQ-FRU1-CAT2-346:464:1180:1181  \n",
       "2033493   3.194015e+06  BAQ-FRU1-CAT104105-60271:510131:510132:258690  \n",
       "21908200  1.583186e+06                    BAQ-FRU1-CAT6-64:86:193:194  \n",
       "9983      5.966473e+05                    BAQ-FRU1-CAT1-47:67:151:152  \n",
       "21908200  1.583186e+06                    BAQ-FRU1-CAT6-64:86:193:194  "
      ]
     },
     "execution_count": 27,
     "metadata": {},
     "output_type": "execute_result"
    }
   ],
   "source": [
    "opt_table"
   ]
  },
  {
   "cell_type": "code",
   "execution_count": 49,
   "id": "63975379-d1e0-4364-8805-7097b91c56b4",
   "metadata": {},
   "outputs": [],
   "source": [
    "# Define the model\n",
    "#model = ConcreteModel()\n",
    "\n",
    "# Define the variables\n",
    "#model.X = Var(I, domain=NonNegativeReals, bounds=lambda model, i: (b[i], a[i]))\n",
    "\n",
    "# Demand function\n",
    "#def demand(model):\n",
    "#    return sum(c[i] * model.X[i] for i in I) + d\n",
    "\n",
    "# Objective function\n",
    "#model.profit = Objective(expr=-demand(model) * (list(dict(model.X).values())[0] - list(b.values())[0]), sense=1)\n",
    "\n",
    "# Define the solver\n",
    "#solver = SolverFactory('ipopt')\n",
    "\n",
    "# Solve the problem\n",
    "#solver.solve(model, tee=True)"
   ]
  },
  {
   "cell_type": "code",
   "execution_count": 28,
   "id": "8a11c008-69bc-4e0b-bc74-fa85af84fae0",
   "metadata": {},
   "outputs": [
    {
     "name": "stdout",
     "output_type": "stream",
     "text": [
      "Maximum profit: 1614159.0069550672\n"
     ]
    }
   ],
   "source": [
    "print(\"Maximum profit:\", -value(model.profit))"
   ]
  },
  {
   "cell_type": "code",
   "execution_count": 152,
   "id": "07d7060c-4151-439c-a61f-757577f12c16",
   "metadata": {},
   "outputs": [
    {
     "data": {
      "text/plain": [
       "Index(['Unnamed: 0', 'Unnamed: 0_x', 'nro_orden', 'fecha', 'producto',\n",
       "       'cantidad', 'precio', 'descuento', 'customer_id', 'sku', 'product_id_x',\n",
       "       'product_quantity_x_step_unit', 'product_step_unit', 'product_unit',\n",
       "       'sku_parent', 'month', 'totalVentasSinDescuento',\n",
       "       'totalVentasConDescuento', 'unit cost', 'totalContribucionSinDescuento',\n",
       "       'totalContribucionConDescuento', 'name', 'category', 'region_code',\n",
       "       'product_category_id', 'mean_shelf_life', 'promised_lead_time',\n",
       "       'purchasing_unit', 'buy_unit', 'weight_parameter_apricot',\n",
       "       'frubana_name', 'Sipsa_name', 'Base_Sipsa', 'Beginning_week',\n",
       "       'Unnamed: 0.1', 'Producto', 'Mercado mayorista', 'Precio mínimo',\n",
       "       'Precio máximo', 'Precio medio', 'Tendencia', 'Unnamed: 6', 'Archivo',\n",
       "       'Unnamed: 0_y', 'Periodo', 'Fecha'],\n",
       "      dtype='object')"
      ]
     },
     "execution_count": 152,
     "metadata": {},
     "output_type": "execute_result"
    }
   ],
   "source": [
    "parametros_base.columns"
   ]
  },
  {
   "cell_type": "code",
   "execution_count": 163,
   "id": "90170584-2130-4708-a50b-77b241ebe11f",
   "metadata": {},
   "outputs": [],
   "source": [
    "data_real = pd.pivot_table(parametros_base, index=['fecha','sku','producto'], values = ['cantidad','totalContribucionSinDescuento'],aggfunc='sum').reset_index()"
   ]
  },
  {
   "cell_type": "code",
   "execution_count": 164,
   "id": "0d56e640-2f1e-43b4-b8b2-8f32f94fafc4",
   "metadata": {},
   "outputs": [],
   "source": [
    "top_5 = ['BAQ-FRU1-CAT2-346:464:1180:1181',\n",
    "         'BAQ-FRU1-CAT6-64:86:193:194',\n",
    "         'BAQ-FRU1-CAT1-47:67:151:152',\n",
    "         'BAQ-FRU1-CAT104105-305509:1018259:1018260:563293',\n",
    "         'BAQ-FRU1-CAT104105-60271:510131:510132:258690']\n",
    "\n",
    "data_real = data_real[data_real.sku.isin(top_5)==True]"
   ]
  },
  {
   "cell_type": "code",
   "execution_count": 165,
   "id": "6e148901-9fee-4cf8-beae-bca533ee3445",
   "metadata": {},
   "outputs": [],
   "source": [
    "#data_real = data_real[data_real.fecha == max(data_real.fecha)]"
   ]
  },
  {
   "cell_type": "code",
   "execution_count": 171,
   "id": "c6581846-97c2-42a4-a181-40c7216f6485",
   "metadata": {},
   "outputs": [
    {
     "data": {
      "text/html": [
       "<div>\n",
       "<style scoped>\n",
       "    .dataframe tbody tr th:only-of-type {\n",
       "        vertical-align: middle;\n",
       "    }\n",
       "\n",
       "    .dataframe tbody tr th {\n",
       "        vertical-align: top;\n",
       "    }\n",
       "\n",
       "    .dataframe thead th {\n",
       "        text-align: right;\n",
       "    }\n",
       "</style>\n",
       "<table border=\"1\" class=\"dataframe\">\n",
       "  <thead>\n",
       "    <tr style=\"text-align: right;\">\n",
       "      <th></th>\n",
       "      <th>fecha</th>\n",
       "      <th>sku</th>\n",
       "      <th>producto</th>\n",
       "      <th>cantidad</th>\n",
       "      <th>totalContribucionSinDescuento</th>\n",
       "    </tr>\n",
       "  </thead>\n",
       "  <tbody>\n",
       "    <tr>\n",
       "      <th>40</th>\n",
       "      <td>2022-07-30</td>\n",
       "      <td>BAQ-FRU1-CAT104105-60271:510131:510132:258690</td>\n",
       "      <td>Cebolla Cabezona Blanca Sin Pelar Mixta Kg</td>\n",
       "      <td>951</td>\n",
       "      <td>2723166.0</td>\n",
       "    </tr>\n",
       "    <tr>\n",
       "      <th>133</th>\n",
       "      <td>2022-08-01</td>\n",
       "      <td>BAQ-FRU1-CAT104105-60271:510131:510132:258690</td>\n",
       "      <td>Cebolla Cabezona Blanca Sin Pelar Mixta Kg</td>\n",
       "      <td>831</td>\n",
       "      <td>2402766.0</td>\n",
       "    </tr>\n",
       "    <tr>\n",
       "      <th>232</th>\n",
       "      <td>2022-08-02</td>\n",
       "      <td>BAQ-FRU1-CAT104105-60271:510131:510132:258690</td>\n",
       "      <td>Cebolla Cabezona Blanca Sin Pelar Mixta Kg</td>\n",
       "      <td>291</td>\n",
       "      <td>902265.0</td>\n",
       "    </tr>\n",
       "    <tr>\n",
       "      <th>332</th>\n",
       "      <td>2022-08-03</td>\n",
       "      <td>BAQ-FRU1-CAT104105-60271:510131:510132:258690</td>\n",
       "      <td>Cebolla Cabezona Blanca Sin Pelar Mixta Kg</td>\n",
       "      <td>408</td>\n",
       "      <td>1078644.0</td>\n",
       "    </tr>\n",
       "    <tr>\n",
       "      <th>433</th>\n",
       "      <td>2022-08-04</td>\n",
       "      <td>BAQ-FRU1-CAT104105-60271:510131:510132:258690</td>\n",
       "      <td>Cebolla Cabezona Blanca Sin Pelar Mixta Kg</td>\n",
       "      <td>1248</td>\n",
       "      <td>2515272.0</td>\n",
       "    </tr>\n",
       "    <tr>\n",
       "      <th>...</th>\n",
       "      <td>...</td>\n",
       "      <td>...</td>\n",
       "      <td>...</td>\n",
       "      <td>...</td>\n",
       "      <td>...</td>\n",
       "    </tr>\n",
       "    <tr>\n",
       "      <th>11988</th>\n",
       "      <td>2023-01-04</td>\n",
       "      <td>BAQ-FRU1-CAT104105-60271:510131:510132:258690</td>\n",
       "      <td>Cebolla Cabezona Blanca Sin Pelar Mixta Kg</td>\n",
       "      <td>348</td>\n",
       "      <td>112359.0</td>\n",
       "    </tr>\n",
       "    <tr>\n",
       "      <th>12066</th>\n",
       "      <td>2023-01-05</td>\n",
       "      <td>BAQ-FRU1-CAT104105-60271:510131:510132:258690</td>\n",
       "      <td>Cebolla Cabezona Blanca Sin Pelar Mixta Kg</td>\n",
       "      <td>351</td>\n",
       "      <td>115299.0</td>\n",
       "    </tr>\n",
       "    <tr>\n",
       "      <th>12154</th>\n",
       "      <td>2023-01-06</td>\n",
       "      <td>BAQ-FRU1-CAT104105-60271:510131:510132:258690</td>\n",
       "      <td>Cebolla Cabezona Blanca Sin Pelar Mixta Kg</td>\n",
       "      <td>330</td>\n",
       "      <td>-116277.0</td>\n",
       "    </tr>\n",
       "    <tr>\n",
       "      <th>12245</th>\n",
       "      <td>2023-01-07</td>\n",
       "      <td>BAQ-FRU1-CAT104105-60271:510131:510132:258690</td>\n",
       "      <td>Cebolla Cabezona Blanca Sin Pelar Mixta Kg</td>\n",
       "      <td>309</td>\n",
       "      <td>-110931.0</td>\n",
       "    </tr>\n",
       "    <tr>\n",
       "      <th>12340</th>\n",
       "      <td>2023-01-09</td>\n",
       "      <td>BAQ-FRU1-CAT104105-60271:510131:510132:258690</td>\n",
       "      <td>Cebolla Cabezona Blanca Sin Pelar Mixta Kg</td>\n",
       "      <td>168</td>\n",
       "      <td>258888.0</td>\n",
       "    </tr>\n",
       "  </tbody>\n",
       "</table>\n",
       "<p>71 rows × 5 columns</p>\n",
       "</div>"
      ],
      "text/plain": [
       "            fecha                                            sku  \\\n",
       "40     2022-07-30  BAQ-FRU1-CAT104105-60271:510131:510132:258690   \n",
       "133    2022-08-01  BAQ-FRU1-CAT104105-60271:510131:510132:258690   \n",
       "232    2022-08-02  BAQ-FRU1-CAT104105-60271:510131:510132:258690   \n",
       "332    2022-08-03  BAQ-FRU1-CAT104105-60271:510131:510132:258690   \n",
       "433    2022-08-04  BAQ-FRU1-CAT104105-60271:510131:510132:258690   \n",
       "...           ...                                            ...   \n",
       "11988  2023-01-04  BAQ-FRU1-CAT104105-60271:510131:510132:258690   \n",
       "12066  2023-01-05  BAQ-FRU1-CAT104105-60271:510131:510132:258690   \n",
       "12154  2023-01-06  BAQ-FRU1-CAT104105-60271:510131:510132:258690   \n",
       "12245  2023-01-07  BAQ-FRU1-CAT104105-60271:510131:510132:258690   \n",
       "12340  2023-01-09  BAQ-FRU1-CAT104105-60271:510131:510132:258690   \n",
       "\n",
       "                                         producto  cantidad  \\\n",
       "40     Cebolla Cabezona Blanca Sin Pelar Mixta Kg       951   \n",
       "133    Cebolla Cabezona Blanca Sin Pelar Mixta Kg       831   \n",
       "232    Cebolla Cabezona Blanca Sin Pelar Mixta Kg       291   \n",
       "332    Cebolla Cabezona Blanca Sin Pelar Mixta Kg       408   \n",
       "433    Cebolla Cabezona Blanca Sin Pelar Mixta Kg      1248   \n",
       "...                                           ...       ...   \n",
       "11988  Cebolla Cabezona Blanca Sin Pelar Mixta Kg       348   \n",
       "12066  Cebolla Cabezona Blanca Sin Pelar Mixta Kg       351   \n",
       "12154  Cebolla Cabezona Blanca Sin Pelar Mixta Kg       330   \n",
       "12245  Cebolla Cabezona Blanca Sin Pelar Mixta Kg       309   \n",
       "12340  Cebolla Cabezona Blanca Sin Pelar Mixta Kg       168   \n",
       "\n",
       "       totalContribucionSinDescuento  \n",
       "40                         2723166.0  \n",
       "133                        2402766.0  \n",
       "232                         902265.0  \n",
       "332                        1078644.0  \n",
       "433                        2515272.0  \n",
       "...                              ...  \n",
       "11988                       112359.0  \n",
       "12066                       115299.0  \n",
       "12154                      -116277.0  \n",
       "12245                      -110931.0  \n",
       "12340                       258888.0  \n",
       "\n",
       "[71 rows x 5 columns]"
      ]
     },
     "execution_count": 171,
     "metadata": {},
     "output_type": "execute_result"
    }
   ],
   "source": [
    "data_real[data_real.sku=='BAQ-FRU1-CAT104105-60271:510131:510132:258690']"
   ]
  },
  {
   "cell_type": "code",
   "execution_count": 209,
   "id": "a01fe486-4e9a-4911-af4b-d722c86936a2",
   "metadata": {},
   "outputs": [],
   "source": [
    "margen_real = pd.pivot_table(parametros_base, index=['sku', 'producto'], values=['totalVentasSinDescuento', 'totalContribucionSinDescuento'], aggfunc='sum').reset_index()"
   ]
  },
  {
   "cell_type": "code",
   "execution_count": 210,
   "id": "cee439ce-7f50-46a8-8ddf-c86c8b8efeec",
   "metadata": {},
   "outputs": [],
   "source": [
    "margen_real['Margen'] = margen_real.totalContribucionSinDescuento/margen_real.totalVentasSinDescuento"
   ]
  },
  {
   "cell_type": "code",
   "execution_count": 211,
   "id": "bf70533a-5542-4093-a377-3c97a06132db",
   "metadata": {},
   "outputs": [
    {
     "data": {
      "text/html": [
       "<div>\n",
       "<style scoped>\n",
       "    .dataframe tbody tr th:only-of-type {\n",
       "        vertical-align: middle;\n",
       "    }\n",
       "\n",
       "    .dataframe tbody tr th {\n",
       "        vertical-align: top;\n",
       "    }\n",
       "\n",
       "    .dataframe thead th {\n",
       "        text-align: right;\n",
       "    }\n",
       "</style>\n",
       "<table border=\"1\" class=\"dataframe\">\n",
       "  <thead>\n",
       "    <tr style=\"text-align: right;\">\n",
       "      <th></th>\n",
       "      <th>sku</th>\n",
       "      <th>producto</th>\n",
       "      <th>totalContribucionSinDescuento</th>\n",
       "      <th>totalVentasSinDescuento</th>\n",
       "      <th>Margen</th>\n",
       "    </tr>\n",
       "  </thead>\n",
       "  <tbody>\n",
       "    <tr>\n",
       "      <th>35</th>\n",
       "      <td>BAQ-FRU1-CAT1-47:67:151:152</td>\n",
       "      <td>Plátano Hartón Verde Estandar Desde 2Kg</td>\n",
       "      <td>3.686342e+07</td>\n",
       "      <td>2.370674e+08</td>\n",
       "      <td>0.155498</td>\n",
       "    </tr>\n",
       "    <tr>\n",
       "      <th>36</th>\n",
       "      <td>BAQ-FRU1-CAT1-47:67:151:152</td>\n",
       "      <td>Plátano Verde Estándar Mediano Estandar Verde</td>\n",
       "      <td>1.326539e+07</td>\n",
       "      <td>7.046714e+07</td>\n",
       "      <td>0.188249</td>\n",
       "    </tr>\n",
       "    <tr>\n",
       "      <th>49</th>\n",
       "      <td>BAQ-FRU1-CAT104105-305509:1018259:1018260:563293</td>\n",
       "      <td>Tomate Chonto Maduración Mixta Estándar (Grand...</td>\n",
       "      <td>6.128463e+07</td>\n",
       "      <td>2.400035e+08</td>\n",
       "      <td>0.255349</td>\n",
       "    </tr>\n",
       "    <tr>\n",
       "      <th>58</th>\n",
       "      <td>BAQ-FRU1-CAT104105-60271:510131:510132:258690</td>\n",
       "      <td>Cebolla Cabezona Blanca Sin Pelar Mixta Kg</td>\n",
       "      <td>4.476926e+07</td>\n",
       "      <td>1.362526e+08</td>\n",
       "      <td>0.328575</td>\n",
       "    </tr>\n",
       "    <tr>\n",
       "      <th>97</th>\n",
       "      <td>BAQ-FRU1-CAT2-346:464:1180:1181</td>\n",
       "      <td>Ajo Estandar Caja</td>\n",
       "      <td>2.181340e+07</td>\n",
       "      <td>4.760010e+08</td>\n",
       "      <td>0.045826</td>\n",
       "    </tr>\n",
       "    <tr>\n",
       "      <th>138</th>\n",
       "      <td>BAQ-FRU1-CAT6-64:86:193:194</td>\n",
       "      <td>Ñame Estándar Kg</td>\n",
       "      <td>9.658412e+07</td>\n",
       "      <td>4.412690e+08</td>\n",
       "      <td>0.218878</td>\n",
       "    </tr>\n",
       "  </tbody>\n",
       "</table>\n",
       "</div>"
      ],
      "text/plain": [
       "                                                  sku  \\\n",
       "35                        BAQ-FRU1-CAT1-47:67:151:152   \n",
       "36                        BAQ-FRU1-CAT1-47:67:151:152   \n",
       "49   BAQ-FRU1-CAT104105-305509:1018259:1018260:563293   \n",
       "58      BAQ-FRU1-CAT104105-60271:510131:510132:258690   \n",
       "97                    BAQ-FRU1-CAT2-346:464:1180:1181   \n",
       "138                       BAQ-FRU1-CAT6-64:86:193:194   \n",
       "\n",
       "                                              producto  \\\n",
       "35             Plátano Hartón Verde Estandar Desde 2Kg   \n",
       "36       Plátano Verde Estándar Mediano Estandar Verde   \n",
       "49   Tomate Chonto Maduración Mixta Estándar (Grand...   \n",
       "58          Cebolla Cabezona Blanca Sin Pelar Mixta Kg   \n",
       "97                                   Ajo Estandar Caja   \n",
       "138                                   Ñame Estándar Kg   \n",
       "\n",
       "     totalContribucionSinDescuento  totalVentasSinDescuento    Margen  \n",
       "35                    3.686342e+07             2.370674e+08  0.155498  \n",
       "36                    1.326539e+07             7.046714e+07  0.188249  \n",
       "49                    6.128463e+07             2.400035e+08  0.255349  \n",
       "58                    4.476926e+07             1.362526e+08  0.328575  \n",
       "97                    2.181340e+07             4.760010e+08  0.045826  \n",
       "138                   9.658412e+07             4.412690e+08  0.218878  "
      ]
     },
     "execution_count": 211,
     "metadata": {},
     "output_type": "execute_result"
    }
   ],
   "source": [
    "margen_real[margen_real.sku.isin(top_5)==True]"
   ]
  },
  {
   "cell_type": "code",
   "execution_count": 226,
   "id": "1fc6fedd-1e82-4492-afb8-ac47798a0c59",
   "metadata": {},
   "outputs": [
    {
     "data": {
      "text/plain": [
       "0.23885720076027864"
      ]
     },
     "execution_count": 226,
     "metadata": {},
     "output_type": "execute_result"
    }
   ],
   "source": [
    "((sum(parametros_base.precio)/len(parametros_base))-(sum(parametros_base['unit cost'])/len(parametros_base)))/(sum(parametros_base.precio)/len(parametros_base))"
   ]
  },
  {
   "cell_type": "code",
   "execution_count": 225,
   "id": "8702b816-6289-45d1-a5ff-cd1a600ce6d9",
   "metadata": {},
   "outputs": [
    {
     "data": {
      "text/plain": [
       "{'BAQ-FRU1-CAT104105-305509:1018259:1018260:563293': 2450.0,\n",
       " 'BAQ-FRU1-CAT6-234:304:750:770': 1372.0,\n",
       " 'BAQ-FRU1-CAT1-241:367:958:959': 3000.0}"
      ]
     },
     "execution_count": 225,
     "metadata": {},
     "output_type": "execute_result"
    }
   ],
   "source": [
    "b_tomate"
   ]
  },
  {
   "cell_type": "code",
   "execution_count": null,
   "id": "1c572735-6beb-43d7-a98a-120e355b8711",
   "metadata": {},
   "outputs": [],
   "source": []
  },
  {
   "cell_type": "raw",
   "id": "7d872afc-b496-4742-ab03-fd358a76ebd8",
   "metadata": {},
   "source": []
  },
  {
   "cell_type": "code",
   "execution_count": 229,
   "id": "006638c2-3d62-410b-900f-92fa092a1bee",
   "metadata": {},
   "outputs": [
    {
     "data": {
      "text/html": [
       "<div>\n",
       "<style scoped>\n",
       "    .dataframe tbody tr th:only-of-type {\n",
       "        vertical-align: middle;\n",
       "    }\n",
       "\n",
       "    .dataframe tbody tr th {\n",
       "        vertical-align: top;\n",
       "    }\n",
       "\n",
       "    .dataframe thead th {\n",
       "        text-align: right;\n",
       "    }\n",
       "</style>\n",
       "<table border=\"1\" class=\"dataframe\">\n",
       "  <thead>\n",
       "    <tr style=\"text-align: right;\">\n",
       "      <th></th>\n",
       "      <th>sku</th>\n",
       "      <th>producto</th>\n",
       "      <th>cantidad</th>\n",
       "      <th>totalContribucionSinDescuento</th>\n",
       "    </tr>\n",
       "  </thead>\n",
       "  <tbody>\n",
       "    <tr>\n",
       "      <th>0</th>\n",
       "      <td>BAQ-FRU1-CAT1-47:67:151:152</td>\n",
       "      <td>Plátano Hartón Verde Estandar Desde 2Kg</td>\n",
       "      <td>231.205645</td>\n",
       "      <td>148642.829073</td>\n",
       "    </tr>\n",
       "    <tr>\n",
       "      <th>1</th>\n",
       "      <td>BAQ-FRU1-CAT1-47:67:151:152</td>\n",
       "      <td>Plátano Verde Estándar Mediano Estandar Verde</td>\n",
       "      <td>314.535211</td>\n",
       "      <td>186836.450704</td>\n",
       "    </tr>\n",
       "    <tr>\n",
       "      <th>2</th>\n",
       "      <td>BAQ-FRU1-CAT104105-305509:1018259:1018260:563293</td>\n",
       "      <td>Tomate Chonto Maduración Mixta Estándar (Grand...</td>\n",
       "      <td>310.550459</td>\n",
       "      <td>281122.177370</td>\n",
       "    </tr>\n",
       "    <tr>\n",
       "      <th>3</th>\n",
       "      <td>BAQ-FRU1-CAT104105-60271:510131:510132:258690</td>\n",
       "      <td>Cebolla Cabezona Blanca Sin Pelar Mixta Kg</td>\n",
       "      <td>514.901408</td>\n",
       "      <td>630552.887324</td>\n",
       "    </tr>\n",
       "    <tr>\n",
       "      <th>4</th>\n",
       "      <td>BAQ-FRU1-CAT2-346:464:1180:1181</td>\n",
       "      <td>Ajo Estandar Caja</td>\n",
       "      <td>24.478873</td>\n",
       "      <td>76807.759190</td>\n",
       "    </tr>\n",
       "    <tr>\n",
       "      <th>5</th>\n",
       "      <td>BAQ-FRU1-CAT6-64:86:193:194</td>\n",
       "      <td>Ñame Estándar Kg</td>\n",
       "      <td>459.996466</td>\n",
       "      <td>341286.636042</td>\n",
       "    </tr>\n",
       "  </tbody>\n",
       "</table>\n",
       "</div>"
      ],
      "text/plain": [
       "                                                sku  \\\n",
       "0                       BAQ-FRU1-CAT1-47:67:151:152   \n",
       "1                       BAQ-FRU1-CAT1-47:67:151:152   \n",
       "2  BAQ-FRU1-CAT104105-305509:1018259:1018260:563293   \n",
       "3     BAQ-FRU1-CAT104105-60271:510131:510132:258690   \n",
       "4                   BAQ-FRU1-CAT2-346:464:1180:1181   \n",
       "5                       BAQ-FRU1-CAT6-64:86:193:194   \n",
       "\n",
       "                                            producto    cantidad  \\\n",
       "0            Plátano Hartón Verde Estandar Desde 2Kg  231.205645   \n",
       "1      Plátano Verde Estándar Mediano Estandar Verde  314.535211   \n",
       "2  Tomate Chonto Maduración Mixta Estándar (Grand...  310.550459   \n",
       "3         Cebolla Cabezona Blanca Sin Pelar Mixta Kg  514.901408   \n",
       "4                                  Ajo Estandar Caja   24.478873   \n",
       "5                                   Ñame Estándar Kg  459.996466   \n",
       "\n",
       "   totalContribucionSinDescuento  \n",
       "0                  148642.829073  \n",
       "1                  186836.450704  \n",
       "2                  281122.177370  \n",
       "3                  630552.887324  \n",
       "4                   76807.759190  \n",
       "5                  341286.636042  "
      ]
     },
     "execution_count": 229,
     "metadata": {},
     "output_type": "execute_result"
    }
   ],
   "source": [
    "pd.pivot_table(data_real, index= ['sku','producto'],values=['cantidad','totalContribucionSinDescuento'], aggfunc='mean' ).reset_index()"
   ]
  },
  {
   "cell_type": "code",
   "execution_count": 244,
   "id": "005ec952-20d7-4726-ae45-2819286491e9",
   "metadata": {},
   "outputs": [
    {
     "data": {
      "text/plain": [
       "array(['Papa Blanca Sucia Tamaño Mixto Kg',\n",
       "       'Plátano Verde Estándar Mediano Estandar Verde',\n",
       "       'Banano Criollo Estandar Kg', 'Zanahoria Mixta Kg',\n",
       "       'Plátano Hartón Verde Estandar Desde 2Kg',\n",
       "       'Cebollín Chino Estándar Atado', 'Durazno Estándar Kg',\n",
       "       'Lechuga Batavia tamaño mixto Mixta Unidad', 'Lulo Mixto Mixto Kg'],\n",
       "      dtype=object)"
      ]
     },
     "execution_count": 244,
     "metadata": {},
     "output_type": "execute_result"
    }
   ],
   "source": [
    "parametros_base.producto[parametros_base.sku.isin(precios_platano)==True].unique()"
   ]
  },
  {
   "cell_type": "code",
   "execution_count": null,
   "id": "f3db288a-279e-45ca-a05e-c2f4a78feb4a",
   "metadata": {},
   "outputs": [],
   "source": []
  }
 ],
 "metadata": {
  "kernelspec": {
   "display_name": "Python 3 (ipykernel)",
   "language": "python",
   "name": "python3"
  },
  "language_info": {
   "codemirror_mode": {
    "name": "ipython",
    "version": 3
   },
   "file_extension": ".py",
   "mimetype": "text/x-python",
   "name": "python",
   "nbconvert_exporter": "python",
   "pygments_lexer": "ipython3",
   "version": "3.9.11"
  }
 },
 "nbformat": 4,
 "nbformat_minor": 5
}
