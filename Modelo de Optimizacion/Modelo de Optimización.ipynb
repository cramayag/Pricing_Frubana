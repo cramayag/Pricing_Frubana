{
 "cells": [
  {
   "cell_type": "markdown",
   "id": "a217db6e-09f6-41a0-8f51-8ad575d22e7d",
   "metadata": {},
   "source": [
    "Importemos las librerías a usar"
   ]
  },
  {
   "cell_type": "code",
   "execution_count": 1,
   "id": "1f4907d2-9986-4762-86ae-46d0bb21515d",
   "metadata": {},
   "outputs": [],
   "source": [
    "import pulp as lp\n",
    "import pandas as pd\n",
    "import numpy as np\n",
    "import pickle\n",
    "import os\n",
    "import datetime\n",
    "import statsmodels.api as sm\n",
    "from pyomo.environ import ConcreteModel, Var, Objective, Constraint, SolverFactory, NonNegativeReals, value\n",
    "import itertools"
   ]
  },
  {
   "cell_type": "markdown",
   "id": "79947060-4535-4ff6-962e-9d8f822e9715",
   "metadata": {},
   "source": [
    "Llamamos los modelos predictivos a usar."
   ]
  },
  {
   "cell_type": "code",
   "execution_count": 2,
   "id": "b87dd6eb-1620-426a-bdba-c9965133272d",
   "metadata": {},
   "outputs": [],
   "source": [
    "name_path = 'Input/name.pkl'\n",
    "cebolla_path = 'Input/cebolla_cabezona.pkl'\n",
    "platano_path = 'Input/platano_verde.pkl'\n",
    "tomate_path = 'Input/tomate_chonto.pkl'\n",
    "ajo_path = 'Input/ajo.pkl'"
   ]
  },
  {
   "cell_type": "code",
   "execution_count": 3,
   "id": "0f049002-1477-4be0-92be-c7a00b1580b8",
   "metadata": {},
   "outputs": [],
   "source": [
    "import glob\n",
    "import os\n",
    "\n",
    "# Define the folder path containing the CSV files\n",
    "folder_path = 'Input/Variables/'\n",
    "\n",
    "# Use glob to get all CSV files in the folder\n",
    "csv_files = glob.glob(os.path.join(folder_path, \"*.csv\"))\n",
    "\n",
    "# Initialize an empty list to store individual DataFrames\n",
    "dfs = []\n",
    "\n",
    "# Loop over the list of CSV files and read each into a DataFrame\n",
    "for file in csv_files:\n",
    "    df = pd.read_csv(file)\n",
    "    dfs.append(df)\n",
    "    \n",
    "    \n",
    "var_sel_df = pd.concat(dfs, ignore_index=True)"
   ]
  },
  {
   "cell_type": "code",
   "execution_count": 4,
   "id": "6dc85bda-4457-4bb2-93c5-d36e87af01d1",
   "metadata": {},
   "outputs": [],
   "source": [
    "with open(name_path, 'rb') as file:\n",
    "    name_model = pickle.load(file)\n",
    "\n",
    "with open(cebolla_path, 'rb') as file:\n",
    "    cebolla_model = pickle.load(file)\n",
    "    \n",
    "with open(platano_path, 'rb') as file:\n",
    "    platano_model = pickle.load(file)\n",
    "    \n",
    "with open(tomate_path, 'rb') as file:\n",
    "    tomate_model = pickle.load(file)\n",
    "    \n",
    "with open(ajo_path, 'rb') as file:\n",
    "    ajo_model = pickle.load(file)"
   ]
  },
  {
   "cell_type": "markdown",
   "id": "168c0600-b61d-4b6f-8030-a5487a5731a2",
   "metadata": {},
   "source": [
    "Vamos a leer las datos de los parametros actuales de los productos."
   ]
  },
  {
   "cell_type": "code",
   "execution_count": 5,
   "id": "49d8bafc-b0d4-4f04-85c9-d62717953573",
   "metadata": {},
   "outputs": [],
   "source": [
    "parametros_base = pd.read_csv('Input\\\\base_de_datos.csv')"
   ]
  },
  {
   "cell_type": "code",
   "execution_count": 6,
   "id": "8149ae6c-0ec0-4bb4-8574-6a6163bdb5af",
   "metadata": {},
   "outputs": [],
   "source": [
    "parametros_pivot = pd.pivot_table(parametros_base, values=['precio','Precio medio','unit cost'], index='sku', aggfunc='last').reset_index()"
   ]
  },
  {
   "cell_type": "code",
   "execution_count": 7,
   "id": "94586c34-c6a7-4889-9179-570ad45a9b94",
   "metadata": {},
   "outputs": [],
   "source": [
    "parametros_pivot.loc[parametros_pivot['Precio medio'].isnull(),'Precio medio'] = parametros_pivot.precio\n",
    "parametros_pivot.loc[parametros_pivot['Precio medio']<parametros_pivot['unit cost'],'Precio medio'] = parametros_pivot.precio\n",
    "parametros_pivot.loc[parametros_pivot['Precio medio']<parametros_pivot['unit cost'],'Precio medio'] = parametros_pivot['unit cost']"
   ]
  },
  {
   "cell_type": "code",
   "execution_count": 8,
   "id": "52a269e4-1ae1-4786-b40e-19dc230e47ad",
   "metadata": {},
   "outputs": [],
   "source": [
    "def get_variables(sku, df=var_sel_df):\n",
    "    df_filtered = df[df.producto==sku]\n",
    "    return list(df_filtered.sku)"
   ]
  },
  {
   "cell_type": "code",
   "execution_count": 9,
   "id": "dab23295-d9c1-438a-a1e5-38b8a7e4c806",
   "metadata": {},
   "outputs": [],
   "source": [
    "def get_cost(_list,_df=parametros_pivot):\n",
    "    new_df = _df[_df.sku.isin(_list)==True]\n",
    "    new_df = new_df.set_index('sku')\n",
    "    unit_cost_dict = new_df.loc[_list,'unit cost'].to_dict()\n",
    "    \n",
    "    return unit_cost_dict\n",
    "\n",
    "def get_top_price(_list,_df=parametros_pivot):\n",
    "    new_df = _df[_df.sku.isin(_list)==True]\n",
    "    new_df = new_df.set_index('sku')\n",
    "    new_df['Precio medio'] = new_df['Precio medio']*1.2\n",
    "    unit_cost_dict = new_df.loc[_list,'Precio medio'].to_dict()\n",
    "    \n",
    "    return unit_cost_dict"
   ]
  },
  {
   "cell_type": "markdown",
   "id": "e2cf5a80-a0c7-4530-b2e3-c206a7ed49a4",
   "metadata": {},
   "source": [
    "Definimos los sku que predicen nuestros productos top 5."
   ]
  },
  {
   "cell_type": "code",
   "execution_count": 10,
   "id": "dad68ed1-31bb-4144-ba2d-621b88339d2b",
   "metadata": {},
   "outputs": [],
   "source": [
    "precios_name = get_variables('BAQ-FRU1-CAT6-64:86:193:194')\n",
    "precios_cebolla = get_variables('BAQ-FRU1-CAT104105-60271:510131:510132:258690')\n",
    "precios_platano = get_variables('BAQ-FRU1-CAT1-47:67:151:152')\n",
    "precios_tomate = get_variables('BAQ-FRU1-CAT104105-305509:1018259:1018260:563293')\n",
    "precios_ajo = get_variables('BAQ-FRU1-CAT2-346:464:1180:1181')"
   ]
  },
  {
   "cell_type": "markdown",
   "id": "7a1dcef4-e96d-41b0-a33a-4fbf32944d10",
   "metadata": {},
   "source": [
    "Definimos los parameotros de restricción de cada producto."
   ]
  },
  {
   "cell_type": "code",
   "execution_count": 11,
   "id": "2cd1ee33-96d7-4e3e-bfc7-60f6cac9ed38",
   "metadata": {},
   "outputs": [],
   "source": [
    "parametros_name = parametros_pivot[parametros_pivot.sku.isin(precios_name)==True]\n",
    "parametros_cebolla = parametros_pivot[parametros_pivot.sku.isin(precios_cebolla)==True]\n",
    "parametros_platano = parametros_pivot[parametros_pivot.sku.isin(precios_platano)==True]\n",
    "parametros_tomate = parametros_pivot[parametros_pivot.sku.isin(precios_tomate)==True]\n",
    "parametros_ajo = parametros_pivot[parametros_pivot.sku.isin(precios_ajo)==True]"
   ]
  },
  {
   "cell_type": "markdown",
   "id": "b149630e-cb3e-4ca9-8e0d-54cf49547bc3",
   "metadata": {},
   "source": [
    "Cargamos los parametros de los modelos."
   ]
  },
  {
   "cell_type": "code",
   "execution_count": 12,
   "id": "194fbf8b-1b48-47b0-929d-21cb31c95151",
   "metadata": {},
   "outputs": [],
   "source": [
    "params_name = name_model.params\n",
    "params_ajo = ajo_model.params\n",
    "params_tomate = tomate_model.coef_\n",
    "params_platano = platano_model.params\n",
    "params_cebolla = cebolla_model.params"
   ]
  },
  {
   "cell_type": "code",
   "execution_count": 13,
   "id": "446aa03f-bca5-4d4a-90cb-8ef9f0073ebe",
   "metadata": {},
   "outputs": [],
   "source": [
    "def generate_data(sku,sep):\n",
    "    precios_sku = get_variables(sku)\n",
    "    top_val = get_top_price(precios_sku)\n",
    "    low_val = get_cost(precios_sku)\n",
    "    \n",
    "    list_val = list()\n",
    "    \n",
    "    for i,j in top_val.items():\n",
    "        for m,n in low_val.items():\n",
    "            if i == m:\n",
    "                list_val.append(list(range(round(n),round(j),sep)))\n",
    "                \n",
    "    combined_list = [np.array([combination]) for combination in itertools.product(*list_val)]\n",
    "    \n",
    "    return combined_list"
   ]
  },
  {
   "cell_type": "code",
   "execution_count": 14,
   "id": "29060b8b-16c6-4e67-881c-0bf6f1ec1184",
   "metadata": {},
   "outputs": [],
   "source": [
    "def optimization(sku,sep,model,t=0):\n",
    "    entry_np = generate_data(sku,sep)\n",
    "    cost_i = list(get_cost(get_variables(sku)).values())[0]\n",
    "    df = pd.DataFrame()\n",
    "    cantidad = []\n",
    "    contribucion = []\n",
    "    \n",
    "    \n",
    "    if t == 0:\n",
    "        for i in entry_np:\n",
    "            x = np.hstack([np.ones((i.shape[0], 1)), i])\n",
    "            q = model.predict(x)\n",
    "            cantidad.append(q[0])\n",
    "            contribucion.append(q[0]*(i[0][0]-cost_i))\n",
    "    elif t == 1:\n",
    "        for i in entry_np:\n",
    "            q = model.predict(i)\n",
    "            cantidad.append(q[0])\n",
    "            contribucion.append(q[0]*(i[0][0]-cost_i))\n",
    "    elif t == 2:\n",
    "        for i in entry_np:\n",
    "            q = model.predict(i)\n",
    "            q_i = np.exp(q[0])\n",
    "            cantidad.append(q_i)\n",
    "            contribucion.append(q_i*(i[0][0]-cost_i))\n",
    "    \n",
    "    df['parametros'] = entry_np\n",
    "    df['cantidad'] = cantidad\n",
    "    df['contribucion'] = contribucion\n",
    "    \n",
    "    return df[df.contribucion==max(df.contribucion)]"
   ]
  },
  {
   "cell_type": "code",
   "execution_count": 15,
   "id": "0abe9215-323b-4e83-9267-d749d64a9c8d",
   "metadata": {},
   "outputs": [],
   "source": [
    "data_platano = generate_data('BAQ-FRU1-CAT1-47:67:151:152',500)"
   ]
  },
  {
   "cell_type": "code",
   "execution_count": 16,
   "id": "f71d4951-2d90-4897-b142-56543a121a60",
   "metadata": {},
   "outputs": [],
   "source": [
    "opt_platano = optimization('BAQ-FRU1-CAT1-47:67:151:152',500,platano_model)"
   ]
  },
  {
   "cell_type": "code",
   "execution_count": 17,
   "id": "18e7238e-b390-4aac-a632-04d85a2eca61",
   "metadata": {},
   "outputs": [],
   "source": [
    "data_tomate = generate_data('BAQ-FRU1-CAT104105-305509:1018259:1018260:563293',50)"
   ]
  },
  {
   "cell_type": "code",
   "execution_count": 18,
   "id": "0c770b3c-6eba-4440-ba01-1a3dfd6ba483",
   "metadata": {},
   "outputs": [],
   "source": [
    "opt_tomate = optimization('BAQ-FRU1-CAT104105-305509:1018259:1018260:563293',50,tomate_model,1)"
   ]
  },
  {
   "cell_type": "code",
   "execution_count": 19,
   "id": "4318cff4-146f-4972-a0de-13b2c90a3221",
   "metadata": {},
   "outputs": [],
   "source": [
    "data_ajo = generate_data('BAQ-FRU1-CAT2-346:464:1180:1181',50)"
   ]
  },
  {
   "cell_type": "code",
   "execution_count": 20,
   "id": "2a1db442-3423-459c-87cb-838210db59f0",
   "metadata": {},
   "outputs": [],
   "source": [
    "opt_ajo = optimization('BAQ-FRU1-CAT2-346:464:1180:1181',50,ajo_model,2)"
   ]
  },
  {
   "cell_type": "code",
   "execution_count": 21,
   "id": "f9ec5a20-c7d1-43be-9e4f-e227c7c2c4cf",
   "metadata": {},
   "outputs": [],
   "source": [
    "data_cebolla = generate_data('BAQ-FRU1-CAT104105-60271:510131:510132:258690',50)"
   ]
  },
  {
   "cell_type": "code",
   "execution_count": 22,
   "id": "6e5a5845-67c2-4848-99d8-e4825eb45070",
   "metadata": {},
   "outputs": [],
   "source": [
    "opt_cebolla = optimization('BAQ-FRU1-CAT104105-60271:510131:510132:258690',50,cebolla_model)"
   ]
  },
  {
   "cell_type": "code",
   "execution_count": 23,
   "id": "7f278f5b-5367-4c8f-90ae-c8e7ced8a8ba",
   "metadata": {},
   "outputs": [],
   "source": [
    "data_name = generate_data('BAQ-FRU1-CAT6-64:86:193:194',200)"
   ]
  },
  {
   "cell_type": "code",
   "execution_count": 24,
   "id": "f72b4761-0702-4d59-a3ce-bdc614e13f60",
   "metadata": {},
   "outputs": [],
   "source": [
    "opt_name = optimization('BAQ-FRU1-CAT6-64:86:193:194',200,name_model)"
   ]
  },
  {
   "cell_type": "code",
   "execution_count": 25,
   "id": "16e47354-6bb0-44fc-9d6d-62737530416b",
   "metadata": {},
   "outputs": [],
   "source": [
    "opt_platano['sku'] = 'BAQ-FRU1-CAT1-47:67:151:152'\n",
    "opt_tomate['sku'] = 'BAQ-FRU1-CAT104105-305509:1018259:1018260:563293'\n",
    "opt_ajo['sku'] = 'BAQ-FRU1-CAT2-346:464:1180:1181'\n",
    "opt_cebolla['sku'] = 'BAQ-FRU1-CAT104105-60271:510131:510132:258690'\n",
    "opt_name['sku'] = 'BAQ-FRU1-CAT6-64:86:193:194'"
   ]
  },
  {
   "cell_type": "code",
   "execution_count": 26,
   "id": "0888b406-d85f-45c0-aa28-5cdadc22717c",
   "metadata": {},
   "outputs": [],
   "source": [
    "opt_table = pd.concat([opt_ajo,opt_cebolla,opt_name,opt_platano,opt_name])"
   ]
  },
  {
   "cell_type": "code",
   "execution_count": 34,
   "id": "2c412005-2a4b-4315-8f1f-2ee6100a22e4",
   "metadata": {},
   "outputs": [],
   "source": [
    "precio_sug = list()\n",
    "for i in list(opt_table.parametros):\n",
    "    precio_sug.append(i[0][0])"
   ]
  },
  {
   "cell_type": "code",
   "execution_count": 43,
   "id": "751d0bea-87bb-4e0a-8547-035388449628",
   "metadata": {},
   "outputs": [],
   "source": [
    "sku_sub = list()\n",
    "for i in list(opt_table.sku):\n",
    "    temp = get_variables(i)\n",
    "    for j in temp:\n",
    "        sku_sub.append(j)"
   ]
  },
  {
   "cell_type": "code",
   "execution_count": 46,
   "id": "275195c7-feba-4e4b-ab97-3b82d925a95c",
   "metadata": {},
   "outputs": [],
   "source": [
    "precios_sub = list()\n",
    "for i in list(opt_table.parametros):\n",
    "    for j in i:\n",
    "        for k in j:\n",
    "            precios_sub.append(k)"
   ]
  },
  {
   "cell_type": "code",
   "execution_count": 48,
   "id": "20d1da8f-155c-4893-bb1f-4bde9218838d",
   "metadata": {},
   "outputs": [],
   "source": [
    "sku_sub_df = pd.DataFrame()\n",
    "sku_sub_df['sku'] = sku_sub\n",
    "sku_sub_df['precio_sugerido'] = precios_sub"
   ]
  },
  {
   "cell_type": "code",
   "execution_count": 35,
   "id": "6986665a-1acd-4415-aea0-f8c2765be939",
   "metadata": {},
   "outputs": [],
   "source": [
    "opt_table['precio_sugerido'] = precio_sug"
   ]
  },
  {
   "cell_type": "code",
   "execution_count": 50,
   "id": "577b7f00-38c5-40a5-b987-1cb3a5de4cd5",
   "metadata": {},
   "outputs": [],
   "source": [
    "new_opt_table = pd.concat([opt_table.drop(columns=['parametros']),sku_sub_df])"
   ]
  },
  {
   "cell_type": "code",
   "execution_count": 53,
   "id": "10979a92-379b-48ad-b68e-8c366c8f8195",
   "metadata": {},
   "outputs": [],
   "source": [
    "new_opt_table = new_opt_table[new_opt_table.sku.duplicated()==False]"
   ]
  },
  {
   "cell_type": "code",
   "execution_count": 54,
   "id": "90170584-2130-4708-a50b-77b241ebe11f",
   "metadata": {},
   "outputs": [],
   "source": [
    "data_real = pd.pivot_table(parametros_base, index=['fecha','sku','producto'], values = ['cantidad','totalContribucionSinDescuento'],aggfunc='sum').reset_index()"
   ]
  },
  {
   "cell_type": "code",
   "execution_count": 55,
   "id": "1449ec56-7e9a-4277-9b31-e6839b4b24cd",
   "metadata": {},
   "outputs": [],
   "source": [
    "data_real = pd.pivot_table(data_real,index=['sku'],values = ['cantidad','totalContribucionSinDescuento'], aggfunc='mean').reset_index()"
   ]
  },
  {
   "cell_type": "code",
   "execution_count": 59,
   "id": "b74b1936-25b8-45e4-81a2-1156c6b61ca4",
   "metadata": {},
   "outputs": [
    {
     "name": "stderr",
     "output_type": "stream",
     "text": [
      "C:\\Users\\crama\\AppData\\Local\\Temp\\ipykernel_2608\\3189512080.py:2: SettingWithCopyWarning: \n",
      "A value is trying to be set on a copy of a slice from a DataFrame\n",
      "\n",
      "See the caveats in the documentation: https://pandas.pydata.org/pandas-docs/stable/user_guide/indexing.html#returning-a-view-versus-a-copy\n",
      "  sku_data.drop_duplicates(inplace=True)\n"
     ]
    }
   ],
   "source": [
    "sku_data = parametros_base[['sku','producto']]\n",
    "sku_data.drop_duplicates(inplace=True)"
   ]
  },
  {
   "cell_type": "code",
   "execution_count": 57,
   "id": "374bf169-ae0a-4315-8067-0b7f9081515e",
   "metadata": {},
   "outputs": [],
   "source": [
    "to_export = pd.merge(new_opt_table,data_real, on='sku', how='left')"
   ]
  },
  {
   "cell_type": "code",
   "execution_count": 61,
   "id": "ef2700ae-d388-4573-8685-fa92cbfba100",
   "metadata": {},
   "outputs": [],
   "source": [
    "to_export = pd.merge(to_export, sku_data, on='sku', how='left')"
   ]
  },
  {
   "cell_type": "code",
   "execution_count": 65,
   "id": "69da29dd-6e30-41d8-be47-9a92978c0857",
   "metadata": {},
   "outputs": [],
   "source": [
    "replacements = {'cantidad_x':'Cantidad Estimada',\n",
    "               'contribucion':'Contribución Estimada',\n",
    "               'precio_sugerido':'Precio Sugerido',\n",
    "               'cantidad_y':'Cantidad Real',\n",
    "               'totalContribucionSinDescuento':'Contribución Real',\n",
    "               'producto':'Producto'}\n",
    "\n",
    "to_export.rename(columns=replacements, inplace=True)"
   ]
  },
  {
   "cell_type": "code",
   "execution_count": 67,
   "id": "6c881d6b-ee55-4090-a126-a1ffc07c6eb8",
   "metadata": {},
   "outputs": [],
   "source": [
    "to_export['Diff Cantidad'] = to_export['Cantidad Estimada']/to_export['Cantidad Real'] -1\n",
    "to_export['Diff Contribución'] = to_export['Contribución Estimada']/to_export['Contribución Real'] -1"
   ]
  },
  {
   "cell_type": "code",
   "execution_count": 68,
   "id": "655eaa9b-de59-4f1f-8f74-f3dd276263fe",
   "metadata": {},
   "outputs": [],
   "source": [
    "to_export = to_export[['Producto','Precio Sugerido','Cantidad Estimada','Cantidad Real','Diff Cantidad',\n",
    "                       'Contribución Estimada','Contribución Real','Diff Contribución']]"
   ]
  },
  {
   "cell_type": "code",
   "execution_count": 70,
   "id": "6e148901-9fee-4cf8-beae-bca533ee3445",
   "metadata": {},
   "outputs": [],
   "source": [
    "to_export.to_csv('../Dashboard/data/resultados.csv')"
   ]
  }
 ],
 "metadata": {
  "kernelspec": {
   "display_name": "Python 3 (ipykernel)",
   "language": "python",
   "name": "python3"
  },
  "language_info": {
   "codemirror_mode": {
    "name": "ipython",
    "version": 3
   },
   "file_extension": ".py",
   "mimetype": "text/x-python",
   "name": "python",
   "nbconvert_exporter": "python",
   "pygments_lexer": "ipython3",
   "version": "3.9.11"
  }
 },
 "nbformat": 4,
 "nbformat_minor": 5
}
