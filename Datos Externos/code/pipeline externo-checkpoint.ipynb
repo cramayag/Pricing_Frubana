{
 "cells": [
  {
   "cell_type": "code",
   "execution_count": 2,
   "id": "99e32eb8-9a6b-4969-bc05-712f41e9f834",
   "metadata": {
    "tags": []
   },
   "outputs": [],
   "source": [
    "import unificar_semanas_sipsa"
   ]
  },
  {
   "cell_type": "code",
   "execution_count": 3,
   "id": "d631d182-398a-4aa4-8713-62ca9ed244d1",
   "metadata": {
    "tags": []
   },
   "outputs": [],
   "source": [
    "import pandas as pd\n",
    "import pickle\n",
    "import glob"
   ]
  },
  {
   "cell_type": "markdown",
   "id": "e8f60545-f272-4240-a12a-dec407845a5e",
   "metadata": {},
   "source": [
    "### etapa 0. Unificación de semanas"
   ]
  },
  {
   "cell_type": "markdown",
   "id": "9f3e22c3-5d93-44ab-998b-5a0862524374",
   "metadata": {},
   "source": [
    "El objetivo de la función sipsa es unificar y almacenar las información de las bases de datos del SIPSA Y unificarlas para su posterior uso, guardandolas en la carpeta Interim."
   ]
  },
  {
   "cell_type": "code",
   "execution_count": 4,
   "id": "732d9b6d-6b6d-4d51-8057-d2d7cdded37b",
   "metadata": {
    "tags": []
   },
   "outputs": [
    {
     "name": "stdout",
     "output_type": "stream",
     "text": [
      "finalizado concatenado de la base 1\n",
      "Guadando información\n",
      "finalizado 1 de 3\n",
      "finalizado concatenado de la base 2\n",
      "Guadando información\n",
      "finalizado 2 de 3\n",
      "finalizado concatenado de la base 3\n",
      "Guadando información\n",
      "finalizado 3 de 3\n"
     ]
    }
   ],
   "source": [
    "unificar_semanas_sipsa.sipsa()"
   ]
  },
  {
   "cell_type": "markdown",
   "id": "0c133672-b45c-4850-933c-7f1c19b26ccb",
   "metadata": {},
   "source": [
    "### etapa 1. Analisis de información externa"
   ]
  },
  {
   "cell_type": "code",
   "execution_count": 1,
   "id": "24b0f666-569f-45ac-9c8b-1a2dfa8439c4",
   "metadata": {
    "tags": []
   },
   "outputs": [],
   "source": [
    "import pandas as pd\n",
    "import plotly.express as px\n",
    "import ipywidgets as widgets\n",
    "from ipywidgets import interact\n"
   ]
  },
  {
   "cell_type": "code",
   "execution_count": 2,
   "id": "14ef1a79-1130-4bf6-9036-7f643a5be0f3",
   "metadata": {
    "tags": []
   },
   "outputs": [],
   "source": [
    "df_productos1 = pd.read_excel(\"../interim/data1.xlsx\")"
   ]
  },
  {
   "cell_type": "code",
   "execution_count": 3,
   "id": "6fc7cf86-3d29-4e45-bc78-d83077295d02",
   "metadata": {
    "tags": []
   },
   "outputs": [
    {
     "data": {
      "text/html": [
       "<div>\n",
       "<style scoped>\n",
       "    .dataframe tbody tr th:only-of-type {\n",
       "        vertical-align: middle;\n",
       "    }\n",
       "\n",
       "    .dataframe tbody tr th {\n",
       "        vertical-align: top;\n",
       "    }\n",
       "\n",
       "    .dataframe thead th {\n",
       "        text-align: right;\n",
       "    }\n",
       "</style>\n",
       "<table border=\"1\" class=\"dataframe\">\n",
       "  <thead>\n",
       "    <tr style=\"text-align: right;\">\n",
       "      <th></th>\n",
       "      <th>Unnamed: 0.1</th>\n",
       "      <th>Producto</th>\n",
       "      <th>Mercado mayorista</th>\n",
       "      <th>Precio mínimo</th>\n",
       "      <th>Precio máximo</th>\n",
       "      <th>Precio medio</th>\n",
       "      <th>Tendencia</th>\n",
       "      <th>Unnamed: 6</th>\n",
       "      <th>Archivo</th>\n",
       "      <th>Unnamed: 0</th>\n",
       "      <th>Periodo</th>\n",
       "      <th>Fecha</th>\n",
       "    </tr>\n",
       "  </thead>\n",
       "  <tbody>\n",
       "    <tr>\n",
       "      <th>0</th>\n",
       "      <td>0</td>\n",
       "      <td>Acelga</td>\n",
       "      <td>Bogotá, D.C., Corabastos</td>\n",
       "      <td>400.0</td>\n",
       "      <td>1333.0</td>\n",
       "      <td>719.0</td>\n",
       "      <td>+++</td>\n",
       "      <td>NaN</td>\n",
       "      <td>Semanal-01jul-07jul-2023.xlsx</td>\n",
       "      <td>71</td>\n",
       "      <td>72</td>\n",
       "      <td>2023-07-01</td>\n",
       "    </tr>\n",
       "    <tr>\n",
       "      <th>1</th>\n",
       "      <td>1</td>\n",
       "      <td>Acelga</td>\n",
       "      <td>Bucaramanga, Centroabastos</td>\n",
       "      <td>2000.0</td>\n",
       "      <td>2000.0</td>\n",
       "      <td>2000.0</td>\n",
       "      <td>=</td>\n",
       "      <td>NaN</td>\n",
       "      <td>Semanal-01jul-07jul-2023.xlsx</td>\n",
       "      <td>71</td>\n",
       "      <td>72</td>\n",
       "      <td>2023-07-01</td>\n",
       "    </tr>\n",
       "  </tbody>\n",
       "</table>\n",
       "</div>"
      ],
      "text/plain": [
       "   Unnamed: 0.1 Producto           Mercado mayorista  Precio mínimo  \\\n",
       "0             0   Acelga    Bogotá, D.C., Corabastos          400.0   \n",
       "1             1   Acelga  Bucaramanga, Centroabastos         2000.0   \n",
       "\n",
       "   Precio máximo  Precio medio Tendencia  Unnamed: 6  \\\n",
       "0         1333.0         719.0       +++         NaN   \n",
       "1         2000.0        2000.0         =         NaN   \n",
       "\n",
       "                         Archivo  Unnamed: 0  Periodo      Fecha  \n",
       "0  Semanal-01jul-07jul-2023.xlsx          71       72 2023-07-01  \n",
       "1  Semanal-01jul-07jul-2023.xlsx          71       72 2023-07-01  "
      ]
     },
     "execution_count": 3,
     "metadata": {},
     "output_type": "execute_result"
    }
   ],
   "source": [
    "df_productos1.head(2)"
   ]
  },
  {
   "cell_type": "code",
   "execution_count": 7,
   "id": "6ace574c-b7f9-4fe3-a08e-159337c1bbe5",
   "metadata": {
    "tags": []
   },
   "outputs": [
    {
     "data": {
      "application/vnd.jupyter.widget-view+json": {
       "model_id": "c3f05d01b7b14e3e92f51fe7a5d3c719",
       "version_major": 2,
       "version_minor": 0
      },
      "text/plain": [
       "interactive(children=(Dropdown(description='Producto:', options=('Fríjol verde cargamanto', 'Acelga', 'Ahuyama…"
      ]
     },
     "metadata": {},
     "output_type": "display_data"
    },
    {
     "data": {
      "text/plain": [
       "<function __main__.plot_filtered_graph(tipo_producto, marca)>"
      ]
     },
     "execution_count": 7,
     "metadata": {},
     "output_type": "execute_result"
    }
   ],
   "source": [
    "# Función para graficar y filtrar\n",
    "df_productos1 = df_productos1.sort_values(by='Fecha')\n",
    "def plot_filtered_graph(tipo_producto,marca):\n",
    "    filtered_df = df_productos1[(df_productos1['Producto'] == tipo_producto) & (df_productos1['Mercado mayorista'] == marca)]\n",
    "    fig = px.line(filtered_df, x='Fecha', y='Precio medio', title=f'Precios Promedio - Tipo {tipo_producto}')\n",
    "    fig.show()\n",
    "\n",
    "# Widget de selección\n",
    "tipo_producto_widget = widgets.Dropdown(\n",
    "    options=df_productos1['Producto'].unique(),\n",
    "    value=df_productos1['Producto'].unique()[0],\n",
    "    description='Producto:'\n",
    ")\n",
    "\n",
    "tipo_marcador= widgets.Dropdown(\n",
    "    options=df_productos1['Mercado mayorista'].unique(),\n",
    "    value=df_productos1['Mercado mayorista'].unique()[0],\n",
    "    description='Mercado mayorista:'\n",
    ")\n",
    "\n",
    "# Interactividad\n",
    "interact(plot_filtered_graph, tipo_producto=tipo_producto_widget ,marca = tipo_marcador)"
   ]
  },
  {
   "cell_type": "code",
   "execution_count": 8,
   "id": "bcc91b2c-8213-48e7-ad05-f9901b16a2a7",
   "metadata": {
    "tags": []
   },
   "outputs": [],
   "source": [
    "# Calcular la correlación por cada producto\n",
    "df_productos1_filtrado = df_productos1[[\"Producto\",\"Mercado mayorista\",\"Precio medio\"]]\n",
    "# Calcular la correlación por cada producto"
   ]
  },
  {
   "cell_type": "code",
   "execution_count": 9,
   "id": "e2a676af-1c2f-4784-acd4-8db12d62c830",
   "metadata": {
    "tags": []
   },
   "outputs": [
    {
     "ename": "NameError",
     "evalue": "name 'correlation_by_product' is not defined",
     "output_type": "error",
     "traceback": [
      "\u001b[1;31m---------------------------------------------------------------------------\u001b[0m",
      "\u001b[1;31mNameError\u001b[0m                                 Traceback (most recent call last)",
      "Cell \u001b[1;32mIn[9], line 6\u001b[0m\n\u001b[0;32m      3\u001b[0m \u001b[38;5;28;01mimport\u001b[39;00m \u001b[38;5;21;01mmatplotlib\u001b[39;00m\u001b[38;5;21;01m.\u001b[39;00m\u001b[38;5;21;01mpyplot\u001b[39;00m \u001b[38;5;28;01mas\u001b[39;00m \u001b[38;5;21;01mplt\u001b[39;00m\n\u001b[0;32m      5\u001b[0m \u001b[38;5;66;03m# Crear una matriz de correlación a partir de correlation_by_product\u001b[39;00m\n\u001b[1;32m----> 6\u001b[0m correlation_matrix \u001b[38;5;241m=\u001b[39m pd\u001b[38;5;241m.\u001b[39mDataFrame\u001b[38;5;241m.\u001b[39mfrom_dict(correlation_by_product, orient\u001b[38;5;241m=\u001b[39m\u001b[38;5;124m'\u001b[39m\u001b[38;5;124mindex\u001b[39m\u001b[38;5;124m'\u001b[39m, columns\u001b[38;5;241m=\u001b[39m[\u001b[38;5;124m'\u001b[39m\u001b[38;5;124mCorrelación\u001b[39m\u001b[38;5;124m'\u001b[39m])\n\u001b[0;32m      8\u001b[0m \u001b[38;5;66;03m# Graficar el mapa de calor\u001b[39;00m\n\u001b[0;32m      9\u001b[0m plt\u001b[38;5;241m.\u001b[39mfigure(figsize\u001b[38;5;241m=\u001b[39m(\u001b[38;5;241m8\u001b[39m, \u001b[38;5;241m6\u001b[39m))\n",
      "\u001b[1;31mNameError\u001b[0m: name 'correlation_by_product' is not defined"
     ]
    }
   ],
   "source": [
    "import pandas as pd\n",
    "import seaborn as sns\n",
    "import matplotlib.pyplot as plt\n",
    "\n",
    "# Crear una matriz de correlación a partir de correlation_by_product\n",
    "correlation_matrix = pd.DataFrame.from_dict(correlation_by_product, orient='index', columns=['Correlación'])\n",
    "\n",
    "# Graficar el mapa de calor\n",
    "plt.figure(figsize=(8, 6))\n",
    "sns.heatmap(correlation_matrix, annot=True, cmap='coolwarm', fmt=\".2f\")\n",
    "plt.title('Matriz de Correlación por Producto')\n",
    "plt.xlabel('Producto')\n",
    "plt.ylabel('Producto')\n",
    "plt.show()\n"
   ]
  },
  {
   "cell_type": "markdown",
   "id": "98ed90a4-26df-4495-8aca-5ef77ce07204",
   "metadata": {},
   "source": [
    "### etapa 2. Extraer información de análisis de costos"
   ]
  },
  {
   "cell_type": "code",
   "execution_count": null,
   "id": "202a38be-056c-4032-b55a-3d2f583b6327",
   "metadata": {},
   "outputs": [],
   "source": []
  },
  {
   "cell_type": "code",
   "execution_count": null,
   "id": "4d492a9c-ca54-4451-ba1e-46761f59d675",
   "metadata": {},
   "outputs": [],
   "source": []
  }
 ],
 "metadata": {
  "kernelspec": {
   "display_name": "Python 3 (ipykernel)",
   "language": "python",
   "name": "python3"
  },
  "language_info": {
   "codemirror_mode": {
    "name": "ipython",
    "version": 3
   },
   "file_extension": ".py",
   "mimetype": "text/x-python",
   "name": "python",
   "nbconvert_exporter": "python",
   "pygments_lexer": "ipython3",
   "version": "3.11.4"
  }
 },
 "nbformat": 4,
 "nbformat_minor": 5
}
