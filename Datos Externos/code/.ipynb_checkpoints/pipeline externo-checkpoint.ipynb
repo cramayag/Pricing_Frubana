{
 "cells": [
  {
   "cell_type": "code",
   "execution_count": 4,
   "id": "99e32eb8-9a6b-4969-bc05-712f41e9f834",
   "metadata": {
    "tags": []
   },
   "outputs": [],
   "source": [
    "import unificar_semanas_sipsa"
   ]
  },
  {
   "cell_type": "code",
   "execution_count": 5,
   "id": "d631d182-398a-4aa4-8713-62ca9ed244d1",
   "metadata": {
    "tags": []
   },
   "outputs": [],
   "source": [
    "import pandas as pd\n",
    "import pickle\n",
    "import glob"
   ]
  },
  {
   "cell_type": "markdown",
   "id": "e8f60545-f272-4240-a12a-dec407845a5e",
   "metadata": {},
   "source": [
    "### etapa 0. Unificación de semanas"
   ]
  },
  {
   "cell_type": "markdown",
   "id": "9f3e22c3-5d93-44ab-998b-5a0862524374",
   "metadata": {},
   "source": [
    "El objetivo de la función sipsa es unificar y almacenar las información de las bases de datos del SIPSA Y unificarlas para su posterior uso, guardandolas en la carpeta Interim."
   ]
  },
  {
   "cell_type": "code",
   "execution_count": 16,
   "id": "732d9b6d-6b6d-4d51-8057-d2d7cdded37b",
   "metadata": {
    "tags": []
   },
   "outputs": [
    {
     "name": "stdout",
     "output_type": "stream",
     "text": [
      "finalizado concatenado de la base 1\n",
      "Guadando información\n",
      "finalizado 1 de 3\n",
      "finalizado concatenado de la base 2\n",
      "Guadando información\n",
      "finalizado 2 de 3\n",
      "finalizado concatenado de la base 3\n",
      "Guadando información\n",
      "finalizado 3 de 3\n"
     ]
    }
   ],
   "source": [
    "unificar_semanas_sipsa.sipsa()"
   ]
  },
  {
   "cell_type": "markdown",
   "id": "0c133672-b45c-4850-933c-7f1c19b26ccb",
   "metadata": {},
   "source": [
    "### etapa 1. Analisis de información externa"
   ]
  },
  {
   "cell_type": "code",
   "execution_count": 6,
   "id": "24b0f666-569f-45ac-9c8b-1a2dfa8439c4",
   "metadata": {
    "tags": []
   },
   "outputs": [],
   "source": [
    "import pandas as pd\n",
    "import plotly.express as px\n",
    "import ipywidgets as widgets\n",
    "from ipywidgets import interact\n",
    "import seaborn as sns\n",
    "import matplotlib.pyplot as plt"
   ]
  },
  {
   "cell_type": "code",
   "execution_count": 17,
   "id": "14ef1a79-1130-4bf6-9036-7f643a5be0f3",
   "metadata": {
    "tags": []
   },
   "outputs": [],
   "source": [
    "df_productos1 = pd.read_excel(\"../interim/data1.xlsx\")\n",
    "df_productos2 = pd.read_excel(\"../interim/data2.xlsx\")\n",
    "df_productos3 = pd.read_excel(\"../interim/data3.xlsx\")"
   ]
  },
  {
   "cell_type": "code",
   "execution_count": 18,
   "id": "6fc7cf86-3d29-4e45-bc78-d83077295d02",
   "metadata": {
    "tags": []
   },
   "outputs": [
    {
     "data": {
      "text/html": [
       "<div>\n",
       "<style scoped>\n",
       "    .dataframe tbody tr th:only-of-type {\n",
       "        vertical-align: middle;\n",
       "    }\n",
       "\n",
       "    .dataframe tbody tr th {\n",
       "        vertical-align: top;\n",
       "    }\n",
       "\n",
       "    .dataframe thead th {\n",
       "        text-align: right;\n",
       "    }\n",
       "</style>\n",
       "<table border=\"1\" class=\"dataframe\">\n",
       "  <thead>\n",
       "    <tr style=\"text-align: right;\">\n",
       "      <th></th>\n",
       "      <th>Unnamed: 0.1</th>\n",
       "      <th>Producto</th>\n",
       "      <th>Mercado mayorista</th>\n",
       "      <th>Precio mínimo</th>\n",
       "      <th>Precio máximo</th>\n",
       "      <th>Precio medio</th>\n",
       "      <th>Tendencia</th>\n",
       "      <th>Unnamed: 6</th>\n",
       "      <th>Archivo</th>\n",
       "      <th>Unnamed: 0</th>\n",
       "      <th>Periodo</th>\n",
       "      <th>Fecha</th>\n",
       "    </tr>\n",
       "  </thead>\n",
       "  <tbody>\n",
       "    <tr>\n",
       "      <th>0</th>\n",
       "      <td>0</td>\n",
       "      <td>Acelga</td>\n",
       "      <td>Bogotá, D.C., Corabastos</td>\n",
       "      <td>400.0</td>\n",
       "      <td>1333.0</td>\n",
       "      <td>719.0</td>\n",
       "      <td>+++</td>\n",
       "      <td>NaN</td>\n",
       "      <td>Semanal-01jul-07jul-2023.xlsx</td>\n",
       "      <td>71</td>\n",
       "      <td>72</td>\n",
       "      <td>2023-07-01</td>\n",
       "    </tr>\n",
       "    <tr>\n",
       "      <th>1</th>\n",
       "      <td>1</td>\n",
       "      <td>Acelga</td>\n",
       "      <td>Bucaramanga, Centroabastos</td>\n",
       "      <td>2000.0</td>\n",
       "      <td>2000.0</td>\n",
       "      <td>2000.0</td>\n",
       "      <td>=</td>\n",
       "      <td>NaN</td>\n",
       "      <td>Semanal-01jul-07jul-2023.xlsx</td>\n",
       "      <td>71</td>\n",
       "      <td>72</td>\n",
       "      <td>2023-07-01</td>\n",
       "    </tr>\n",
       "  </tbody>\n",
       "</table>\n",
       "</div>"
      ],
      "text/plain": [
       "   Unnamed: 0.1 Producto           Mercado mayorista  Precio mínimo  \\\n",
       "0             0   Acelga    Bogotá, D.C., Corabastos          400.0   \n",
       "1             1   Acelga  Bucaramanga, Centroabastos         2000.0   \n",
       "\n",
       "   Precio máximo  Precio medio Tendencia  Unnamed: 6  \\\n",
       "0         1333.0         719.0       +++         NaN   \n",
       "1         2000.0        2000.0         =         NaN   \n",
       "\n",
       "                         Archivo  Unnamed: 0  Periodo      Fecha  \n",
       "0  Semanal-01jul-07jul-2023.xlsx          71       72 2023-07-01  \n",
       "1  Semanal-01jul-07jul-2023.xlsx          71       72 2023-07-01  "
      ]
     },
     "execution_count": 18,
     "metadata": {},
     "output_type": "execute_result"
    }
   ],
   "source": [
    "df_productos1 = pd.concat([df_productos1, df_productos2, df_productos3], ignore_index=True)\n",
    "df_productos1.head(2)"
   ]
  },
  {
   "cell_type": "code",
   "execution_count": 19,
   "id": "6ace574c-b7f9-4fe3-a08e-159337c1bbe5",
   "metadata": {
    "tags": []
   },
   "outputs": [
    {
     "data": {
      "application/vnd.jupyter.widget-view+json": {
       "model_id": "2a0956856d3f456d94b25e35ad6b5fdb",
       "version_major": 2,
       "version_minor": 0
      },
      "text/plain": [
       "interactive(children=(Dropdown(description='Producto:', options=('Cebolla junca', 'Haba verde', 'Habichuela', …"
      ]
     },
     "metadata": {},
     "output_type": "display_data"
    },
    {
     "data": {
      "text/plain": [
       "<function __main__.plot_filtered_graph(tipo_producto, marca)>"
      ]
     },
     "execution_count": 19,
     "metadata": {},
     "output_type": "execute_result"
    }
   ],
   "source": [
    "# Función para graficar y filtrar\n",
    "df_productos1 = df_productos1.sort_values(by='Fecha')\n",
    "def plot_filtered_graph(tipo_producto,marca):\n",
    "    filtered_df = df_productos1[(df_productos1['Producto'] == tipo_producto) & (df_productos1['Mercado mayorista'] == marca)]\n",
    "    fig = px.line(filtered_df, x='Fecha', y='Precio medio', title=f'Precios Promedio - Tipo {tipo_producto}')\n",
    "    fig.show()\n",
    "\n",
    "# Widget de selección\n",
    "tipo_producto_widget = widgets.Dropdown(\n",
    "    options=df_productos1['Producto'].unique(),\n",
    "    value=df_productos1['Producto'].unique()[0],\n",
    "    description='Producto:'\n",
    ")\n",
    "\n",
    "tipo_marcador= widgets.Dropdown(\n",
    "    options=df_productos1['Mercado mayorista'].unique(),\n",
    "    value=df_productos1['Mercado mayorista'].unique()[0],\n",
    "    description='Mercado mayorista:'\n",
    ")\n",
    "\n",
    "# Interactividad\n",
    "interact(plot_filtered_graph, tipo_producto=tipo_producto_widget ,marca = tipo_marcador)"
   ]
  },
  {
   "cell_type": "markdown",
   "id": "98ed90a4-26df-4495-8aca-5ef77ce07204",
   "metadata": {},
   "source": [
    "### etapa 2. Extraer información de análisis de costos"
   ]
  },
  {
   "cell_type": "code",
   "execution_count": null,
   "id": "202a38be-056c-4032-b55a-3d2f583b6327",
   "metadata": {},
   "outputs": [],
   "source": []
  },
  {
   "cell_type": "markdown",
   "id": "aa3caf94-6f40-4c43-9d58-446fcda4ac55",
   "metadata": {
    "tags": []
   },
   "source": [
    "### etapa 3. Extraer información de análisis de costos"
   ]
  },
  {
   "cell_type": "code",
   "execution_count": 21,
   "id": "15377107-d9dc-4e2f-ae7f-822b7e17462b",
   "metadata": {
    "tags": []
   },
   "outputs": [],
   "source": [
    "bases = pd.read_csv(\"../interim/base_consolidada.csv\")"
   ]
  },
  {
   "cell_type": "code",
   "execution_count": 22,
   "id": "968d7f60-39da-408e-8a4a-1afb5b8c3e0e",
   "metadata": {
    "tags": []
   },
   "outputs": [
    {
     "data": {
      "text/html": [
       "<div>\n",
       "<style scoped>\n",
       "    .dataframe tbody tr th:only-of-type {\n",
       "        vertical-align: middle;\n",
       "    }\n",
       "\n",
       "    .dataframe tbody tr th {\n",
       "        vertical-align: top;\n",
       "    }\n",
       "\n",
       "    .dataframe thead th {\n",
       "        text-align: right;\n",
       "    }\n",
       "</style>\n",
       "<table border=\"1\" class=\"dataframe\">\n",
       "  <thead>\n",
       "    <tr style=\"text-align: right;\">\n",
       "      <th></th>\n",
       "      <th>Unnamed: 0</th>\n",
       "      <th>nro_orden</th>\n",
       "      <th>fecha</th>\n",
       "      <th>producto</th>\n",
       "      <th>cantidad</th>\n",
       "      <th>precio</th>\n",
       "      <th>descuento</th>\n",
       "      <th>customer_id</th>\n",
       "      <th>sku</th>\n",
       "      <th>product_id_x</th>\n",
       "      <th>...</th>\n",
       "      <th>totalContribucionConDescuento</th>\n",
       "      <th>name</th>\n",
       "      <th>category</th>\n",
       "      <th>region_code</th>\n",
       "      <th>product_category_id</th>\n",
       "      <th>mean_shelf_life</th>\n",
       "      <th>promised_lead_time</th>\n",
       "      <th>purchasing_unit</th>\n",
       "      <th>buy_unit</th>\n",
       "      <th>weight_parameter_apricot</th>\n",
       "    </tr>\n",
       "  </thead>\n",
       "  <tbody>\n",
       "    <tr>\n",
       "      <th>0</th>\n",
       "      <td>0</td>\n",
       "      <td>18120194</td>\n",
       "      <td>2023-01-03</td>\n",
       "      <td>Papa Blanca Sucia Tamaño Mixto Kg</td>\n",
       "      <td>10</td>\n",
       "      <td>2750.0</td>\n",
       "      <td>46750.0</td>\n",
       "      <td>1f1b98af-ee04-4849-a6cf-4fecdf7dba50</td>\n",
       "      <td>BAQ-FRU1-CAT6-234:304:750:770</td>\n",
       "      <td>770</td>\n",
       "      <td>...</td>\n",
       "      <td>-42550.0</td>\n",
       "      <td>Papa Blanca Sucia Tamaño Mixto - KG</td>\n",
       "      <td>Tubérculos</td>\n",
       "      <td>BAQ</td>\n",
       "      <td>1.0</td>\n",
       "      <td>3.0</td>\n",
       "      <td>0.0</td>\n",
       "      <td>48.0</td>\n",
       "      <td>KG</td>\n",
       "      <td>1.0</td>\n",
       "    </tr>\n",
       "  </tbody>\n",
       "</table>\n",
       "<p>1 rows × 29 columns</p>\n",
       "</div>"
      ],
      "text/plain": [
       "   Unnamed: 0  nro_orden       fecha                           producto  \\\n",
       "0           0   18120194  2023-01-03  Papa Blanca Sucia Tamaño Mixto Kg   \n",
       "\n",
       "   cantidad  precio  descuento                           customer_id  \\\n",
       "0        10  2750.0    46750.0  1f1b98af-ee04-4849-a6cf-4fecdf7dba50   \n",
       "\n",
       "                             sku  product_id_x  ...  \\\n",
       "0  BAQ-FRU1-CAT6-234:304:750:770           770  ...   \n",
       "\n",
       "   totalContribucionConDescuento                                 name  \\\n",
       "0                       -42550.0  Papa Blanca Sucia Tamaño Mixto - KG   \n",
       "\n",
       "     category region_code  product_category_id  mean_shelf_life  \\\n",
       "0  Tubérculos         BAQ                  1.0              3.0   \n",
       "\n",
       "   promised_lead_time  purchasing_unit  buy_unit  weight_parameter_apricot  \n",
       "0                 0.0             48.0        KG                       1.0  \n",
       "\n",
       "[1 rows x 29 columns]"
      ]
     },
     "execution_count": 22,
     "metadata": {},
     "output_type": "execute_result"
    }
   ],
   "source": [
    "bases.head(1)"
   ]
  },
  {
   "cell_type": "code",
   "execution_count": 23,
   "id": "6a995bd1-71af-4d6a-ac4a-e9ca14590b4e",
   "metadata": {
    "tags": []
   },
   "outputs": [],
   "source": [
    "homologacion = pd.read_excel(\"../input/homologación_sipsa_frubana_1.xlsx\")"
   ]
  },
  {
   "cell_type": "code",
   "execution_count": 24,
   "id": "73c4129d-5532-4c85-ad0a-623ff34ee25f",
   "metadata": {
    "tags": []
   },
   "outputs": [
    {
     "data": {
      "text/html": [
       "<div>\n",
       "<style scoped>\n",
       "    .dataframe tbody tr th:only-of-type {\n",
       "        vertical-align: middle;\n",
       "    }\n",
       "\n",
       "    .dataframe tbody tr th {\n",
       "        vertical-align: top;\n",
       "    }\n",
       "\n",
       "    .dataframe thead th {\n",
       "        text-align: right;\n",
       "    }\n",
       "</style>\n",
       "<table border=\"1\" class=\"dataframe\">\n",
       "  <thead>\n",
       "    <tr style=\"text-align: right;\">\n",
       "      <th></th>\n",
       "      <th>frubana_name</th>\n",
       "      <th>Sipsa_name</th>\n",
       "      <th>Base_Sipsa</th>\n",
       "    </tr>\n",
       "  </thead>\n",
       "  <tbody>\n",
       "    <tr>\n",
       "      <th>0</th>\n",
       "      <td>Ñame Estándar Kg</td>\n",
       "      <td>Ñame criollo</td>\n",
       "      <td>3.0</td>\n",
       "    </tr>\n",
       "  </tbody>\n",
       "</table>\n",
       "</div>"
      ],
      "text/plain": [
       "       frubana_name    Sipsa_name  Base_Sipsa\n",
       "0  Ñame Estándar Kg  Ñame criollo         3.0"
      ]
     },
     "execution_count": 24,
     "metadata": {},
     "output_type": "execute_result"
    }
   ],
   "source": [
    "homologacion.head(1)"
   ]
  },
  {
   "cell_type": "code",
   "execution_count": 25,
   "id": "3901e554-9341-495d-806a-2bc56476ae7a",
   "metadata": {
    "tags": []
   },
   "outputs": [
    {
     "data": {
      "text/plain": [
       "141"
      ]
     },
     "execution_count": 25,
     "metadata": {},
     "output_type": "execute_result"
    }
   ],
   "source": [
    "len(homologacion.frubana_name.unique())"
   ]
  },
  {
   "cell_type": "code",
   "execution_count": 26,
   "id": "38c2a196-7ce6-43cf-87ac-4a8ebcc9205c",
   "metadata": {
    "tags": []
   },
   "outputs": [
    {
     "data": {
      "text/html": [
       "<div>\n",
       "<style scoped>\n",
       "    .dataframe tbody tr th:only-of-type {\n",
       "        vertical-align: middle;\n",
       "    }\n",
       "\n",
       "    .dataframe tbody tr th {\n",
       "        vertical-align: top;\n",
       "    }\n",
       "\n",
       "    .dataframe thead th {\n",
       "        text-align: right;\n",
       "    }\n",
       "</style>\n",
       "<table border=\"1\" class=\"dataframe\">\n",
       "  <thead>\n",
       "    <tr style=\"text-align: right;\">\n",
       "      <th></th>\n",
       "      <th>Unnamed: 0</th>\n",
       "      <th>nro_orden</th>\n",
       "      <th>fecha</th>\n",
       "      <th>producto</th>\n",
       "      <th>cantidad</th>\n",
       "      <th>precio</th>\n",
       "      <th>descuento</th>\n",
       "      <th>customer_id</th>\n",
       "      <th>sku</th>\n",
       "      <th>product_id_x</th>\n",
       "      <th>...</th>\n",
       "      <th>region_code</th>\n",
       "      <th>product_category_id</th>\n",
       "      <th>mean_shelf_life</th>\n",
       "      <th>promised_lead_time</th>\n",
       "      <th>purchasing_unit</th>\n",
       "      <th>buy_unit</th>\n",
       "      <th>weight_parameter_apricot</th>\n",
       "      <th>frubana_name</th>\n",
       "      <th>Sipsa_name</th>\n",
       "      <th>Base_Sipsa</th>\n",
       "    </tr>\n",
       "  </thead>\n",
       "  <tbody>\n",
       "    <tr>\n",
       "      <th>0</th>\n",
       "      <td>0</td>\n",
       "      <td>18120194</td>\n",
       "      <td>2023-01-03</td>\n",
       "      <td>Papa Blanca Sucia Tamaño Mixto Kg</td>\n",
       "      <td>10</td>\n",
       "      <td>2750.0</td>\n",
       "      <td>46750.0</td>\n",
       "      <td>1f1b98af-ee04-4849-a6cf-4fecdf7dba50</td>\n",
       "      <td>BAQ-FRU1-CAT6-234:304:750:770</td>\n",
       "      <td>770</td>\n",
       "      <td>...</td>\n",
       "      <td>BAQ</td>\n",
       "      <td>1.0</td>\n",
       "      <td>3.0</td>\n",
       "      <td>0.0</td>\n",
       "      <td>48.0</td>\n",
       "      <td>KG</td>\n",
       "      <td>1.0</td>\n",
       "      <td>Papa Blanca Sucia Tamaño Mixto Kg</td>\n",
       "      <td>Papa nevada</td>\n",
       "      <td>3.0</td>\n",
       "    </tr>\n",
       "  </tbody>\n",
       "</table>\n",
       "<p>1 rows × 32 columns</p>\n",
       "</div>"
      ],
      "text/plain": [
       "   Unnamed: 0  nro_orden       fecha                           producto  \\\n",
       "0           0   18120194  2023-01-03  Papa Blanca Sucia Tamaño Mixto Kg   \n",
       "\n",
       "   cantidad  precio  descuento                           customer_id  \\\n",
       "0        10  2750.0    46750.0  1f1b98af-ee04-4849-a6cf-4fecdf7dba50   \n",
       "\n",
       "                             sku  product_id_x  ...  region_code  \\\n",
       "0  BAQ-FRU1-CAT6-234:304:750:770           770  ...          BAQ   \n",
       "\n",
       "   product_category_id mean_shelf_life promised_lead_time  purchasing_unit  \\\n",
       "0                  1.0             3.0                0.0             48.0   \n",
       "\n",
       "   buy_unit  weight_parameter_apricot                       frubana_name  \\\n",
       "0        KG                       1.0  Papa Blanca Sucia Tamaño Mixto Kg   \n",
       "\n",
       "    Sipsa_name  Base_Sipsa  \n",
       "0  Papa nevada         3.0  \n",
       "\n",
       "[1 rows x 32 columns]"
      ]
     },
     "execution_count": 26,
     "metadata": {},
     "output_type": "execute_result"
    }
   ],
   "source": [
    "merged_df = pd.merge(bases, homologacion, left_on='producto', right_on='frubana_name', how='inner')\n",
    "merged_df.head(1)"
   ]
  },
  {
   "cell_type": "code",
   "execution_count": 27,
   "id": "f2cc94d3-3634-4bc5-a599-5fa202b46f68",
   "metadata": {
    "tags": []
   },
   "outputs": [
    {
     "data": {
      "text/html": [
       "<div>\n",
       "<style scoped>\n",
       "    .dataframe tbody tr th:only-of-type {\n",
       "        vertical-align: middle;\n",
       "    }\n",
       "\n",
       "    .dataframe tbody tr th {\n",
       "        vertical-align: top;\n",
       "    }\n",
       "\n",
       "    .dataframe thead th {\n",
       "        text-align: right;\n",
       "    }\n",
       "</style>\n",
       "<table border=\"1\" class=\"dataframe\">\n",
       "  <thead>\n",
       "    <tr style=\"text-align: right;\">\n",
       "      <th></th>\n",
       "      <th>Unnamed: 0</th>\n",
       "      <th>nro_orden</th>\n",
       "      <th>fecha</th>\n",
       "      <th>producto</th>\n",
       "      <th>cantidad</th>\n",
       "      <th>precio</th>\n",
       "      <th>descuento</th>\n",
       "      <th>customer_id</th>\n",
       "      <th>sku</th>\n",
       "      <th>product_id_x</th>\n",
       "      <th>...</th>\n",
       "      <th>product_category_id</th>\n",
       "      <th>mean_shelf_life</th>\n",
       "      <th>promised_lead_time</th>\n",
       "      <th>purchasing_unit</th>\n",
       "      <th>buy_unit</th>\n",
       "      <th>weight_parameter_apricot</th>\n",
       "      <th>frubana_name</th>\n",
       "      <th>Sipsa_name</th>\n",
       "      <th>Base_Sipsa</th>\n",
       "      <th>Beginning_week</th>\n",
       "    </tr>\n",
       "  </thead>\n",
       "  <tbody>\n",
       "    <tr>\n",
       "      <th>0</th>\n",
       "      <td>0</td>\n",
       "      <td>18120194</td>\n",
       "      <td>2023-01-03</td>\n",
       "      <td>Papa Blanca Sucia Tamaño Mixto Kg</td>\n",
       "      <td>10</td>\n",
       "      <td>2750.0</td>\n",
       "      <td>46750.0</td>\n",
       "      <td>1f1b98af-ee04-4849-a6cf-4fecdf7dba50</td>\n",
       "      <td>BAQ-FRU1-CAT6-234:304:750:770</td>\n",
       "      <td>770</td>\n",
       "      <td>...</td>\n",
       "      <td>1.0</td>\n",
       "      <td>3.0</td>\n",
       "      <td>0.0</td>\n",
       "      <td>48.0</td>\n",
       "      <td>KG</td>\n",
       "      <td>1.0</td>\n",
       "      <td>Papa Blanca Sucia Tamaño Mixto Kg</td>\n",
       "      <td>Papa nevada</td>\n",
       "      <td>3.0</td>\n",
       "      <td>2023-01-07</td>\n",
       "    </tr>\n",
       "  </tbody>\n",
       "</table>\n",
       "<p>1 rows × 33 columns</p>\n",
       "</div>"
      ],
      "text/plain": [
       "   Unnamed: 0  nro_orden      fecha                           producto  \\\n",
       "0           0   18120194 2023-01-03  Papa Blanca Sucia Tamaño Mixto Kg   \n",
       "\n",
       "   cantidad  precio  descuento                           customer_id  \\\n",
       "0        10  2750.0    46750.0  1f1b98af-ee04-4849-a6cf-4fecdf7dba50   \n",
       "\n",
       "                             sku  product_id_x  ...  product_category_id  \\\n",
       "0  BAQ-FRU1-CAT6-234:304:750:770           770  ...                  1.0   \n",
       "\n",
       "   mean_shelf_life promised_lead_time purchasing_unit  buy_unit  \\\n",
       "0              3.0                0.0            48.0        KG   \n",
       "\n",
       "   weight_parameter_apricot                       frubana_name   Sipsa_name  \\\n",
       "0                       1.0  Papa Blanca Sucia Tamaño Mixto Kg  Papa nevada   \n",
       "\n",
       "   Base_Sipsa  Beginning_week  \n",
       "0         3.0      2023-01-07  \n",
       "\n",
       "[1 rows x 33 columns]"
      ]
     },
     "execution_count": 27,
     "metadata": {},
     "output_type": "execute_result"
    }
   ],
   "source": [
    "# Function to calculate the beginning of the week (Sunday)\n",
    "def beginning_of_week(date):\n",
    "# Calculate the difference in days between the current day and Saturday (5: Saturday)\n",
    "    days_to_saturday = (5 - date.weekday()) % 7\n",
    "    # Add the days to get the date of the Saturday of the week\n",
    "    return date + pd.Timedelta(days=days_to_saturday)\n",
    "\n",
    "# Apply the function to the 'Date' column to create the 'Beginning_week' column\n",
    "merged_df['fecha'] = pd.to_datetime(merged_df['fecha'])\n",
    "merged_df['Beginning_week'] = merged_df['fecha'].apply(beginning_of_week)\n",
    "# Display the dataframe\n",
    "merged_df.head(1)"
   ]
  },
  {
   "cell_type": "code",
   "execution_count": 28,
   "id": "75bff210-0aaf-4386-9817-579f684c486f",
   "metadata": {
    "tags": []
   },
   "outputs": [],
   "source": [
    "df_productos1= df_productos1[df_productos1[\"Mercado mayorista\"]=='Barranquilla, Barranquillita']"
   ]
  },
  {
   "cell_type": "code",
   "execution_count": 29,
   "id": "712797ad-6eb0-4873-a60a-05430d6ec357",
   "metadata": {
    "tags": []
   },
   "outputs": [
    {
     "data": {
      "text/html": [
       "<div>\n",
       "<style scoped>\n",
       "    .dataframe tbody tr th:only-of-type {\n",
       "        vertical-align: middle;\n",
       "    }\n",
       "\n",
       "    .dataframe tbody tr th {\n",
       "        vertical-align: top;\n",
       "    }\n",
       "\n",
       "    .dataframe thead th {\n",
       "        text-align: right;\n",
       "    }\n",
       "</style>\n",
       "<table border=\"1\" class=\"dataframe\">\n",
       "  <thead>\n",
       "    <tr style=\"text-align: right;\">\n",
       "      <th></th>\n",
       "      <th>Unnamed: 0_x</th>\n",
       "      <th>nro_orden</th>\n",
       "      <th>fecha</th>\n",
       "      <th>producto</th>\n",
       "      <th>cantidad</th>\n",
       "      <th>precio</th>\n",
       "      <th>descuento</th>\n",
       "      <th>customer_id</th>\n",
       "      <th>sku</th>\n",
       "      <th>product_id_x</th>\n",
       "      <th>...</th>\n",
       "      <th>Mercado mayorista</th>\n",
       "      <th>Precio mínimo</th>\n",
       "      <th>Precio máximo</th>\n",
       "      <th>Precio medio</th>\n",
       "      <th>Tendencia</th>\n",
       "      <th>Unnamed: 6</th>\n",
       "      <th>Archivo</th>\n",
       "      <th>Unnamed: 0_y</th>\n",
       "      <th>Periodo</th>\n",
       "      <th>Fecha</th>\n",
       "    </tr>\n",
       "  </thead>\n",
       "  <tbody>\n",
       "    <tr>\n",
       "      <th>0</th>\n",
       "      <td>0</td>\n",
       "      <td>18120194</td>\n",
       "      <td>2023-01-03</td>\n",
       "      <td>Papa Blanca Sucia Tamaño Mixto Kg</td>\n",
       "      <td>10</td>\n",
       "      <td>2750.0</td>\n",
       "      <td>46750.0</td>\n",
       "      <td>1f1b98af-ee04-4849-a6cf-4fecdf7dba50</td>\n",
       "      <td>BAQ-FRU1-CAT6-234:304:750:770</td>\n",
       "      <td>770</td>\n",
       "      <td>...</td>\n",
       "      <td>NaN</td>\n",
       "      <td>NaN</td>\n",
       "      <td>NaN</td>\n",
       "      <td>NaN</td>\n",
       "      <td>NaN</td>\n",
       "      <td>NaN</td>\n",
       "      <td>NaN</td>\n",
       "      <td>NaN</td>\n",
       "      <td>NaN</td>\n",
       "      <td>NaT</td>\n",
       "    </tr>\n",
       "  </tbody>\n",
       "</table>\n",
       "<p>1 rows × 45 columns</p>\n",
       "</div>"
      ],
      "text/plain": [
       "   Unnamed: 0_x  nro_orden      fecha                           producto  \\\n",
       "0             0   18120194 2023-01-03  Papa Blanca Sucia Tamaño Mixto Kg   \n",
       "\n",
       "   cantidad  precio  descuento                           customer_id  \\\n",
       "0        10  2750.0    46750.0  1f1b98af-ee04-4849-a6cf-4fecdf7dba50   \n",
       "\n",
       "                             sku  product_id_x  ...  Mercado mayorista  \\\n",
       "0  BAQ-FRU1-CAT6-234:304:750:770           770  ...                NaN   \n",
       "\n",
       "   Precio mínimo Precio máximo Precio medio  Tendencia  Unnamed: 6  Archivo  \\\n",
       "0            NaN           NaN          NaN        NaN         NaN      NaN   \n",
       "\n",
       "   Unnamed: 0_y  Periodo  Fecha  \n",
       "0           NaN      NaN    NaT  \n",
       "\n",
       "[1 rows x 45 columns]"
      ]
     },
     "execution_count": 29,
     "metadata": {},
     "output_type": "execute_result"
    }
   ],
   "source": [
    "df_productos1['Fecha'] = pd.to_datetime(df_productos1['Fecha'])\n",
    "\n",
    "# Realizar el merge utilizando las columnas convertidas a datetime64[ns]\n",
    "merged_df2 = pd.merge(merged_df,df_productos1, left_on=['Sipsa_name', 'Beginning_week'], right_on=['Producto', 'Fecha'], how='left')\n",
    "\n",
    "# Mostrar las primeras filas del DataFrame resultante\n",
    "merged_df2.head(1)"
   ]
  },
  {
   "cell_type": "code",
   "execution_count": 30,
   "id": "52ce6de1-11c7-4497-a448-6fd24d22b4b4",
   "metadata": {
    "tags": []
   },
   "outputs": [
    {
     "data": {
      "text/html": [
       "<div>\n",
       "<style scoped>\n",
       "    .dataframe tbody tr th:only-of-type {\n",
       "        vertical-align: middle;\n",
       "    }\n",
       "\n",
       "    .dataframe tbody tr th {\n",
       "        vertical-align: top;\n",
       "    }\n",
       "\n",
       "    .dataframe thead th {\n",
       "        text-align: right;\n",
       "    }\n",
       "</style>\n",
       "<table border=\"1\" class=\"dataframe\">\n",
       "  <thead>\n",
       "    <tr style=\"text-align: right;\">\n",
       "      <th></th>\n",
       "      <th>Unnamed: 0</th>\n",
       "      <th>nro_orden</th>\n",
       "      <th>fecha</th>\n",
       "      <th>producto</th>\n",
       "      <th>cantidad</th>\n",
       "      <th>precio</th>\n",
       "      <th>descuento</th>\n",
       "      <th>customer_id</th>\n",
       "      <th>sku</th>\n",
       "      <th>product_id_x</th>\n",
       "      <th>...</th>\n",
       "      <th>product_category_id</th>\n",
       "      <th>mean_shelf_life</th>\n",
       "      <th>promised_lead_time</th>\n",
       "      <th>purchasing_unit</th>\n",
       "      <th>buy_unit</th>\n",
       "      <th>weight_parameter_apricot</th>\n",
       "      <th>frubana_name</th>\n",
       "      <th>Sipsa_name</th>\n",
       "      <th>Base_Sipsa</th>\n",
       "      <th>Beginning_week</th>\n",
       "    </tr>\n",
       "  </thead>\n",
       "  <tbody>\n",
       "    <tr>\n",
       "      <th>0</th>\n",
       "      <td>0</td>\n",
       "      <td>18120194</td>\n",
       "      <td>2023-01-03</td>\n",
       "      <td>Papa Blanca Sucia Tamaño Mixto Kg</td>\n",
       "      <td>10</td>\n",
       "      <td>2750.0</td>\n",
       "      <td>46750.0</td>\n",
       "      <td>1f1b98af-ee04-4849-a6cf-4fecdf7dba50</td>\n",
       "      <td>BAQ-FRU1-CAT6-234:304:750:770</td>\n",
       "      <td>770</td>\n",
       "      <td>...</td>\n",
       "      <td>1.0</td>\n",
       "      <td>3.0</td>\n",
       "      <td>0.0</td>\n",
       "      <td>48.0</td>\n",
       "      <td>KG</td>\n",
       "      <td>1.0</td>\n",
       "      <td>Papa Blanca Sucia Tamaño Mixto Kg</td>\n",
       "      <td>Papa nevada</td>\n",
       "      <td>3.0</td>\n",
       "      <td>2023-01-07</td>\n",
       "    </tr>\n",
       "  </tbody>\n",
       "</table>\n",
       "<p>1 rows × 33 columns</p>\n",
       "</div>"
      ],
      "text/plain": [
       "   Unnamed: 0  nro_orden      fecha                           producto  \\\n",
       "0           0   18120194 2023-01-03  Papa Blanca Sucia Tamaño Mixto Kg   \n",
       "\n",
       "   cantidad  precio  descuento                           customer_id  \\\n",
       "0        10  2750.0    46750.0  1f1b98af-ee04-4849-a6cf-4fecdf7dba50   \n",
       "\n",
       "                             sku  product_id_x  ...  product_category_id  \\\n",
       "0  BAQ-FRU1-CAT6-234:304:750:770           770  ...                  1.0   \n",
       "\n",
       "   mean_shelf_life promised_lead_time purchasing_unit  buy_unit  \\\n",
       "0              3.0                0.0            48.0        KG   \n",
       "\n",
       "   weight_parameter_apricot                       frubana_name   Sipsa_name  \\\n",
       "0                       1.0  Papa Blanca Sucia Tamaño Mixto Kg  Papa nevada   \n",
       "\n",
       "   Base_Sipsa  Beginning_week  \n",
       "0         3.0      2023-01-07  \n",
       "\n",
       "[1 rows x 33 columns]"
      ]
     },
     "execution_count": 30,
     "metadata": {},
     "output_type": "execute_result"
    }
   ],
   "source": [
    "merged_df.head(1)"
   ]
  },
  {
   "cell_type": "code",
   "execution_count": 31,
   "id": "a104cc9b-9f33-40fe-bd82-a7c0005acc1f",
   "metadata": {
    "tags": []
   },
   "outputs": [
    {
     "data": {
      "text/plain": [
       "(314571, 45)"
      ]
     },
     "execution_count": 31,
     "metadata": {},
     "output_type": "execute_result"
    }
   ],
   "source": [
    "merged_df2.shape"
   ]
  },
  {
   "cell_type": "code",
   "execution_count": 32,
   "id": "eb560845-d6f6-488b-a3bf-5b883dda002d",
   "metadata": {
    "tags": []
   },
   "outputs": [],
   "source": [
    "merged_df2.to_csv(\"../output/base_de_datos.csv\")"
   ]
  },
  {
   "cell_type": "markdown",
   "id": "c8d3570c-7270-4e9b-9fd8-d5aef4ca2a72",
   "metadata": {},
   "source": [
    "### etapa 4. Correlaciones"
   ]
  },
  {
   "cell_type": "code",
   "execution_count": 45,
   "id": "a54e50bb-9ed1-43bc-9b12-e06ff4be4e15",
   "metadata": {
    "tags": []
   },
   "outputs": [],
   "source": [
    "Base_total = merged_df2[['nro_orden', 'fecha', 'producto', 'cantidad', 'precio',\n",
    "       'descuento', 'customer_id', 'sku', 'product_id_x',\n",
    "       'product_quantity_x_step_unit', 'product_step_unit', 'product_unit',\n",
    "       'sku_parent', 'month', 'totalVentasSinDescuento',\n",
    "       'totalVentasConDescuento', 'unit cost', 'totalContribucionSinDescuento',\n",
    "       'totalContribucionConDescuento', 'name', 'category', 'region_code',\n",
    "       'product_category_id', 'mean_shelf_life', 'promised_lead_time',\n",
    "       'purchasing_unit', 'buy_unit', 'weight_parameter_apricot',\n",
    "       'frubana_name', 'Sipsa_name', 'Base_Sipsa', 'Beginning_week',\n",
    "       'Unnamed: 0.1', 'Producto', 'Mercado mayorista', 'Precio mínimo',\n",
    "       'Precio máximo', 'Precio medio','Periodo', 'Fecha']].copy()"
   ]
  },
  {
   "cell_type": "code",
   "execution_count": 46,
   "id": "284920aa-262d-45bb-a049-9d4f3318abe9",
   "metadata": {
    "tags": []
   },
   "outputs": [
    {
     "data": {
      "text/html": [
       "<div>\n",
       "<style scoped>\n",
       "    .dataframe tbody tr th:only-of-type {\n",
       "        vertical-align: middle;\n",
       "    }\n",
       "\n",
       "    .dataframe tbody tr th {\n",
       "        vertical-align: top;\n",
       "    }\n",
       "\n",
       "    .dataframe thead th {\n",
       "        text-align: right;\n",
       "    }\n",
       "</style>\n",
       "<table border=\"1\" class=\"dataframe\">\n",
       "  <thead>\n",
       "    <tr style=\"text-align: right;\">\n",
       "      <th></th>\n",
       "      <th>fecha</th>\n",
       "      <th>producto</th>\n",
       "      <th>sku</th>\n",
       "      <th>precio</th>\n",
       "      <th>Precio medio</th>\n",
       "    </tr>\n",
       "  </thead>\n",
       "  <tbody>\n",
       "    <tr>\n",
       "      <th>0</th>\n",
       "      <td>2023-01-03</td>\n",
       "      <td>Papa Blanca Sucia Tamaño Mixto Kg</td>\n",
       "      <td>BAQ-FRU1-CAT6-234:304:750:770</td>\n",
       "      <td>2750.0</td>\n",
       "      <td>NaN</td>\n",
       "    </tr>\n",
       "  </tbody>\n",
       "</table>\n",
       "</div>"
      ],
      "text/plain": [
       "       fecha                           producto  \\\n",
       "0 2023-01-03  Papa Blanca Sucia Tamaño Mixto Kg   \n",
       "\n",
       "                             sku  precio  Precio medio  \n",
       "0  BAQ-FRU1-CAT6-234:304:750:770  2750.0           NaN  "
      ]
     },
     "execution_count": 46,
     "metadata": {},
     "output_type": "execute_result"
    }
   ],
   "source": [
    "Base_total_sliced = merged_df2[['fecha', 'producto','sku','precio','Precio medio']].copy()\n",
    "Base_total_sliced.head(1)"
   ]
  },
  {
   "cell_type": "code",
   "execution_count": 47,
   "id": "a799b7f3-c7b7-4be8-a7d6-4faa8e0b78d8",
   "metadata": {
    "tags": []
   },
   "outputs": [
    {
     "name": "stderr",
     "output_type": "stream",
     "text": [
      "C:\\Users\\aabv1\\AppData\\Local\\Temp\\ipykernel_2300\\1681482821.py:2: FutureWarning:\n",
      "\n",
      "The default value of numeric_only in DataFrameGroupBy.mean is deprecated. In a future version, numeric_only will default to False. Either specify numeric_only or select only columns which should be valid for the function.\n",
      "\n"
     ]
    },
    {
     "data": {
      "text/html": [
       "<div>\n",
       "<style scoped>\n",
       "    .dataframe tbody tr th:only-of-type {\n",
       "        vertical-align: middle;\n",
       "    }\n",
       "\n",
       "    .dataframe tbody tr th {\n",
       "        vertical-align: top;\n",
       "    }\n",
       "\n",
       "    .dataframe thead th {\n",
       "        text-align: right;\n",
       "    }\n",
       "</style>\n",
       "<table border=\"1\" class=\"dataframe\">\n",
       "  <thead>\n",
       "    <tr style=\"text-align: right;\">\n",
       "      <th></th>\n",
       "      <th>fecha</th>\n",
       "      <th>precio_BAQ-FRU1-CAT1-111:277:659:660</th>\n",
       "      <th>precio_BAQ-FRU1-CAT1-14:49:115:116</th>\n",
       "      <th>precio_BAQ-FRU1-CAT1-157:273:651:652</th>\n",
       "      <th>precio_BAQ-FRU1-CAT1-15:50:117:118</th>\n",
       "      <th>precio_BAQ-FRU1-CAT1-16:51:119:120</th>\n",
       "      <th>precio_BAQ-FRU1-CAT1-19:52:121:122</th>\n",
       "      <th>precio_BAQ-FRU1-CAT1-205:306:758:759</th>\n",
       "      <th>precio_BAQ-FRU1-CAT1-208:432:1113:1114</th>\n",
       "      <th>precio_BAQ-FRU1-CAT1-20:53:123:124</th>\n",
       "      <th>...</th>\n",
       "      <th>precio_BAQ-FRU1-CAT6-26:59:135:136</th>\n",
       "      <th>precio_BAQ-FRU1-CAT6-283:371:966:967</th>\n",
       "      <th>precio_BAQ-FRU1-CAT6-298:790:2017:2018</th>\n",
       "      <th>precio_BAQ-FRU1-CAT6-43:73:164:863</th>\n",
       "      <th>precio_BAQ-FRU1-CAT6-46:61:139:140</th>\n",
       "      <th>precio_BAQ-FRU1-CAT6-46:61:239:240</th>\n",
       "      <th>precio_BAQ-FRU1-CAT6-46:61:727:728</th>\n",
       "      <th>precio_BAQ-FRU1-CAT6-64:86:193:194</th>\n",
       "      <th>precio_BAQ-FRU1-CAT6-658:852:2157:2158</th>\n",
       "      <th>precio_BAQ-FRU1-CAT6-82:276:657:658</th>\n",
       "    </tr>\n",
       "  </thead>\n",
       "  <tbody>\n",
       "    <tr>\n",
       "      <th>0</th>\n",
       "      <td>2022-07-30</td>\n",
       "      <td>NaN</td>\n",
       "      <td>3192.0</td>\n",
       "      <td>3398.076923</td>\n",
       "      <td>3101.0</td>\n",
       "      <td>11271.0</td>\n",
       "      <td>11730.0</td>\n",
       "      <td>5100.000000</td>\n",
       "      <td>7160.0</td>\n",
       "      <td>12255.0</td>\n",
       "      <td>...</td>\n",
       "      <td>6610.0</td>\n",
       "      <td>2600.0</td>\n",
       "      <td>3400.0</td>\n",
       "      <td>2400.0</td>\n",
       "      <td>4420.0</td>\n",
       "      <td>NaN</td>\n",
       "      <td>3690.0</td>\n",
       "      <td>3530.0</td>\n",
       "      <td>1090.0</td>\n",
       "      <td>7790.0</td>\n",
       "    </tr>\n",
       "    <tr>\n",
       "      <th>1</th>\n",
       "      <td>2022-08-01</td>\n",
       "      <td>20173.333333</td>\n",
       "      <td>3192.0</td>\n",
       "      <td>3646.842105</td>\n",
       "      <td>3101.0</td>\n",
       "      <td>11271.0</td>\n",
       "      <td>NaN</td>\n",
       "      <td>5526.666667</td>\n",
       "      <td>6920.0</td>\n",
       "      <td>NaN</td>\n",
       "      <td>...</td>\n",
       "      <td>6610.0</td>\n",
       "      <td>NaN</td>\n",
       "      <td>3400.0</td>\n",
       "      <td>2400.0</td>\n",
       "      <td>4335.0</td>\n",
       "      <td>NaN</td>\n",
       "      <td>4510.0</td>\n",
       "      <td>3530.0</td>\n",
       "      <td>1090.0</td>\n",
       "      <td>7790.0</td>\n",
       "    </tr>\n",
       "  </tbody>\n",
       "</table>\n",
       "<p>2 rows × 133 columns</p>\n",
       "</div>"
      ],
      "text/plain": [
       "       fecha  precio_BAQ-FRU1-CAT1-111:277:659:660  \\\n",
       "0 2022-07-30                                   NaN   \n",
       "1 2022-08-01                          20173.333333   \n",
       "\n",
       "   precio_BAQ-FRU1-CAT1-14:49:115:116  precio_BAQ-FRU1-CAT1-157:273:651:652  \\\n",
       "0                              3192.0                           3398.076923   \n",
       "1                              3192.0                           3646.842105   \n",
       "\n",
       "   precio_BAQ-FRU1-CAT1-15:50:117:118  precio_BAQ-FRU1-CAT1-16:51:119:120  \\\n",
       "0                              3101.0                             11271.0   \n",
       "1                              3101.0                             11271.0   \n",
       "\n",
       "   precio_BAQ-FRU1-CAT1-19:52:121:122  precio_BAQ-FRU1-CAT1-205:306:758:759  \\\n",
       "0                             11730.0                           5100.000000   \n",
       "1                                 NaN                           5526.666667   \n",
       "\n",
       "   precio_BAQ-FRU1-CAT1-208:432:1113:1114  precio_BAQ-FRU1-CAT1-20:53:123:124  \\\n",
       "0                                  7160.0                             12255.0   \n",
       "1                                  6920.0                                 NaN   \n",
       "\n",
       "   ...  precio_BAQ-FRU1-CAT6-26:59:135:136  \\\n",
       "0  ...                              6610.0   \n",
       "1  ...                              6610.0   \n",
       "\n",
       "   precio_BAQ-FRU1-CAT6-283:371:966:967  \\\n",
       "0                                2600.0   \n",
       "1                                   NaN   \n",
       "\n",
       "   precio_BAQ-FRU1-CAT6-298:790:2017:2018  precio_BAQ-FRU1-CAT6-43:73:164:863  \\\n",
       "0                                  3400.0                              2400.0   \n",
       "1                                  3400.0                              2400.0   \n",
       "\n",
       "   precio_BAQ-FRU1-CAT6-46:61:139:140  precio_BAQ-FRU1-CAT6-46:61:239:240  \\\n",
       "0                              4420.0                                 NaN   \n",
       "1                              4335.0                                 NaN   \n",
       "\n",
       "   precio_BAQ-FRU1-CAT6-46:61:727:728  precio_BAQ-FRU1-CAT6-64:86:193:194  \\\n",
       "0                              3690.0                              3530.0   \n",
       "1                              4510.0                              3530.0   \n",
       "\n",
       "   precio_BAQ-FRU1-CAT6-658:852:2157:2158  precio_BAQ-FRU1-CAT6-82:276:657:658  \n",
       "0                                  1090.0                               7790.0  \n",
       "1                                  1090.0                               7790.0  \n",
       "\n",
       "[2 rows x 133 columns]"
      ]
     },
     "execution_count": 47,
     "metadata": {},
     "output_type": "execute_result"
    }
   ],
   "source": [
    "# Calcular la matriz de correlaciones\n",
    "grouped_df = Base_total_sliced.groupby(['fecha', 'sku']).mean().reset_index()\n",
    "\n",
    "# Pivotar el DataFrame para obtener las columnas deseadas\n",
    "pivoted_df = grouped_df.pivot(index='fecha', columns='sku', values=['precio'])\n",
    "\n",
    "# Renombrar las columnas para que tengan el formato deseado\n",
    "pivoted_df.columns = [f'{col[0]}_{col[1]}' for col in pivoted_df.columns]\n",
    "\n",
    "# Reiniciar el índice para tener una estructura más limpia\n",
    "pivoted_df.reset_index(inplace=True)\n",
    "\n",
    "# Mostrar el DataFrame resultante\n",
    "pivoted_df.head(2)"
   ]
  },
  {
   "cell_type": "code",
   "execution_count": 48,
   "id": "4fa1f5f9-1fdd-488e-b4fe-b28a3751f1a6",
   "metadata": {
    "tags": []
   },
   "outputs": [
    {
     "name": "stderr",
     "output_type": "stream",
     "text": [
      "C:\\Users\\aabv1\\AppData\\Local\\Temp\\ipykernel_2300\\205485597.py:1: FutureWarning:\n",
      "\n",
      "The default value of numeric_only in DataFrame.corr is deprecated. In a future version, it will default to False. Select only valid columns or specify the value of numeric_only to silence this warning.\n",
      "\n"
     ]
    },
    {
     "data": {
      "text/html": [
       "<div>\n",
       "<style scoped>\n",
       "    .dataframe tbody tr th:only-of-type {\n",
       "        vertical-align: middle;\n",
       "    }\n",
       "\n",
       "    .dataframe tbody tr th {\n",
       "        vertical-align: top;\n",
       "    }\n",
       "\n",
       "    .dataframe thead th {\n",
       "        text-align: right;\n",
       "    }\n",
       "</style>\n",
       "<table border=\"1\" class=\"dataframe\">\n",
       "  <thead>\n",
       "    <tr style=\"text-align: right;\">\n",
       "      <th></th>\n",
       "      <th>precio_BAQ-FRU1-CAT1-111:277:659:660</th>\n",
       "      <th>precio_BAQ-FRU1-CAT1-14:49:115:116</th>\n",
       "      <th>precio_BAQ-FRU1-CAT1-157:273:651:652</th>\n",
       "      <th>precio_BAQ-FRU1-CAT1-15:50:117:118</th>\n",
       "      <th>precio_BAQ-FRU1-CAT1-16:51:119:120</th>\n",
       "      <th>precio_BAQ-FRU1-CAT1-19:52:121:122</th>\n",
       "      <th>precio_BAQ-FRU1-CAT1-205:306:758:759</th>\n",
       "      <th>precio_BAQ-FRU1-CAT1-208:432:1113:1114</th>\n",
       "      <th>precio_BAQ-FRU1-CAT1-20:53:123:124</th>\n",
       "      <th>precio_BAQ-FRU1-CAT1-21:54:125:126</th>\n",
       "      <th>...</th>\n",
       "      <th>precio_BAQ-FRU1-CAT6-26:59:135:136</th>\n",
       "      <th>precio_BAQ-FRU1-CAT6-283:371:966:967</th>\n",
       "      <th>precio_BAQ-FRU1-CAT6-298:790:2017:2018</th>\n",
       "      <th>precio_BAQ-FRU1-CAT6-43:73:164:863</th>\n",
       "      <th>precio_BAQ-FRU1-CAT6-46:61:139:140</th>\n",
       "      <th>precio_BAQ-FRU1-CAT6-46:61:239:240</th>\n",
       "      <th>precio_BAQ-FRU1-CAT6-46:61:727:728</th>\n",
       "      <th>precio_BAQ-FRU1-CAT6-64:86:193:194</th>\n",
       "      <th>precio_BAQ-FRU1-CAT6-658:852:2157:2158</th>\n",
       "      <th>precio_BAQ-FRU1-CAT6-82:276:657:658</th>\n",
       "    </tr>\n",
       "  </thead>\n",
       "  <tbody>\n",
       "    <tr>\n",
       "      <th>precio_BAQ-FRU1-CAT1-111:277:659:660</th>\n",
       "      <td>1.0</td>\n",
       "      <td>-0.076165</td>\n",
       "      <td>0.161556</td>\n",
       "      <td>0.017318</td>\n",
       "      <td>0.333696</td>\n",
       "      <td>0.11259</td>\n",
       "      <td>-0.083723</td>\n",
       "      <td>-0.517114</td>\n",
       "      <td>-0.025076</td>\n",
       "      <td>0.3686</td>\n",
       "      <td>...</td>\n",
       "      <td>0.357747</td>\n",
       "      <td>-0.446773</td>\n",
       "      <td>-0.482203</td>\n",
       "      <td>0.211428</td>\n",
       "      <td>0.30016</td>\n",
       "      <td>0.491666</td>\n",
       "      <td>-0.102345</td>\n",
       "      <td>0.299227</td>\n",
       "      <td>-0.361294</td>\n",
       "      <td>0.203081</td>\n",
       "    </tr>\n",
       "  </tbody>\n",
       "</table>\n",
       "<p>1 rows × 132 columns</p>\n",
       "</div>"
      ],
      "text/plain": [
       "                                      precio_BAQ-FRU1-CAT1-111:277:659:660  \\\n",
       "precio_BAQ-FRU1-CAT1-111:277:659:660                                   1.0   \n",
       "\n",
       "                                      precio_BAQ-FRU1-CAT1-14:49:115:116  \\\n",
       "precio_BAQ-FRU1-CAT1-111:277:659:660                           -0.076165   \n",
       "\n",
       "                                      precio_BAQ-FRU1-CAT1-157:273:651:652  \\\n",
       "precio_BAQ-FRU1-CAT1-111:277:659:660                              0.161556   \n",
       "\n",
       "                                      precio_BAQ-FRU1-CAT1-15:50:117:118  \\\n",
       "precio_BAQ-FRU1-CAT1-111:277:659:660                            0.017318   \n",
       "\n",
       "                                      precio_BAQ-FRU1-CAT1-16:51:119:120  \\\n",
       "precio_BAQ-FRU1-CAT1-111:277:659:660                            0.333696   \n",
       "\n",
       "                                      precio_BAQ-FRU1-CAT1-19:52:121:122  \\\n",
       "precio_BAQ-FRU1-CAT1-111:277:659:660                             0.11259   \n",
       "\n",
       "                                      precio_BAQ-FRU1-CAT1-205:306:758:759  \\\n",
       "precio_BAQ-FRU1-CAT1-111:277:659:660                             -0.083723   \n",
       "\n",
       "                                      precio_BAQ-FRU1-CAT1-208:432:1113:1114  \\\n",
       "precio_BAQ-FRU1-CAT1-111:277:659:660                               -0.517114   \n",
       "\n",
       "                                      precio_BAQ-FRU1-CAT1-20:53:123:124  \\\n",
       "precio_BAQ-FRU1-CAT1-111:277:659:660                           -0.025076   \n",
       "\n",
       "                                      precio_BAQ-FRU1-CAT1-21:54:125:126  ...  \\\n",
       "precio_BAQ-FRU1-CAT1-111:277:659:660                              0.3686  ...   \n",
       "\n",
       "                                      precio_BAQ-FRU1-CAT6-26:59:135:136  \\\n",
       "precio_BAQ-FRU1-CAT1-111:277:659:660                            0.357747   \n",
       "\n",
       "                                      precio_BAQ-FRU1-CAT6-283:371:966:967  \\\n",
       "precio_BAQ-FRU1-CAT1-111:277:659:660                             -0.446773   \n",
       "\n",
       "                                      precio_BAQ-FRU1-CAT6-298:790:2017:2018  \\\n",
       "precio_BAQ-FRU1-CAT1-111:277:659:660                               -0.482203   \n",
       "\n",
       "                                      precio_BAQ-FRU1-CAT6-43:73:164:863  \\\n",
       "precio_BAQ-FRU1-CAT1-111:277:659:660                            0.211428   \n",
       "\n",
       "                                      precio_BAQ-FRU1-CAT6-46:61:139:140  \\\n",
       "precio_BAQ-FRU1-CAT1-111:277:659:660                             0.30016   \n",
       "\n",
       "                                      precio_BAQ-FRU1-CAT6-46:61:239:240  \\\n",
       "precio_BAQ-FRU1-CAT1-111:277:659:660                            0.491666   \n",
       "\n",
       "                                      precio_BAQ-FRU1-CAT6-46:61:727:728  \\\n",
       "precio_BAQ-FRU1-CAT1-111:277:659:660                           -0.102345   \n",
       "\n",
       "                                      precio_BAQ-FRU1-CAT6-64:86:193:194  \\\n",
       "precio_BAQ-FRU1-CAT1-111:277:659:660                            0.299227   \n",
       "\n",
       "                                      precio_BAQ-FRU1-CAT6-658:852:2157:2158  \\\n",
       "precio_BAQ-FRU1-CAT1-111:277:659:660                               -0.361294   \n",
       "\n",
       "                                      precio_BAQ-FRU1-CAT6-82:276:657:658  \n",
       "precio_BAQ-FRU1-CAT1-111:277:659:660                             0.203081  \n",
       "\n",
       "[1 rows x 132 columns]"
      ]
     },
     "execution_count": 48,
     "metadata": {},
     "output_type": "execute_result"
    }
   ],
   "source": [
    "corr_matrix = pivoted_df.corr()\n",
    "corr_matrix.head(1)"
   ]
  },
  {
   "cell_type": "code",
   "execution_count": 49,
   "id": "9d083d18-798f-400a-8ee6-b46f551ff331",
   "metadata": {
    "tags": []
   },
   "outputs": [
    {
     "data": {
      "text/html": [
       "<div>\n",
       "<style scoped>\n",
       "    .dataframe tbody tr th:only-of-type {\n",
       "        vertical-align: middle;\n",
       "    }\n",
       "\n",
       "    .dataframe tbody tr th {\n",
       "        vertical-align: top;\n",
       "    }\n",
       "\n",
       "    .dataframe thead th {\n",
       "        text-align: right;\n",
       "    }\n",
       "</style>\n",
       "<table border=\"1\" class=\"dataframe\">\n",
       "  <thead>\n",
       "    <tr style=\"text-align: right;\">\n",
       "      <th></th>\n",
       "      <th>Producto1</th>\n",
       "      <th>Producto2</th>\n",
       "      <th>Correlacion</th>\n",
       "    </tr>\n",
       "  </thead>\n",
       "  <tbody>\n",
       "    <tr>\n",
       "      <th>1</th>\n",
       "      <td>precio_BAQ-FRU1-CAT1-111:277:659:660</td>\n",
       "      <td>precio_BAQ-FRU1-CAT1-14:49:115:116</td>\n",
       "      <td>-0.076165</td>\n",
       "    </tr>\n",
       "  </tbody>\n",
       "</table>\n",
       "</div>"
      ],
      "text/plain": [
       "                              Producto1                           Producto2  \\\n",
       "1  precio_BAQ-FRU1-CAT1-111:277:659:660  precio_BAQ-FRU1-CAT1-14:49:115:116   \n",
       "\n",
       "   Correlacion  \n",
       "1    -0.076165  "
      ]
     },
     "execution_count": 49,
     "metadata": {},
     "output_type": "execute_result"
    }
   ],
   "source": [
    "stacked_corr = corr_matrix.stack().reset_index()\n",
    "stacked_corr.columns = ['Producto1', 'Producto2', 'Correlacion']\n",
    "stacked_corr\n",
    "filtered_df = stacked_corr[stacked_corr['Producto1'].str.contains('precio')]\n",
    "filtered_df = filtered_df[filtered_df[\"Correlacion\"] != 1]\n",
    "filtered_df.head(1)"
   ]
  },
  {
   "cell_type": "code",
   "execution_count": 60,
   "id": "36e7d5c2-ad5e-4077-9508-dd9b58ed6e0c",
   "metadata": {},
   "outputs": [],
   "source": [
    "filtered_df.to_csv(\"../interim/correlaciones_precios.csv\")"
   ]
  },
  {
   "cell_type": "code",
   "execution_count": 61,
   "id": "6521ae28",
   "metadata": {},
   "outputs": [
    {
     "name": "stderr",
     "output_type": "stream",
     "text": [
      "C:\\Users\\aabv1\\AppData\\Local\\Temp\\ipykernel_2300\\1598374383.py:5: FutureWarning:\n",
      "\n",
      "The default value of numeric_only in DataFrameGroupBy.mean is deprecated. In a future version, numeric_only will default to False. Either specify numeric_only or select only columns which should be valid for the function.\n",
      "\n",
      "C:\\Users\\aabv1\\AppData\\Local\\Temp\\ipykernel_2300\\1598374383.py:17: FutureWarning:\n",
      "\n",
      "The default value of numeric_only in DataFrame.corr is deprecated. In a future version, it will default to False. Select only valid columns or specify the value of numeric_only to silence this warning.\n",
      "\n"
     ]
    },
    {
     "data": {
      "text/html": [
       "<div>\n",
       "<style scoped>\n",
       "    .dataframe tbody tr th:only-of-type {\n",
       "        vertical-align: middle;\n",
       "    }\n",
       "\n",
       "    .dataframe tbody tr th {\n",
       "        vertical-align: top;\n",
       "    }\n",
       "\n",
       "    .dataframe thead th {\n",
       "        text-align: right;\n",
       "    }\n",
       "</style>\n",
       "<table border=\"1\" class=\"dataframe\">\n",
       "  <thead>\n",
       "    <tr style=\"text-align: right;\">\n",
       "      <th></th>\n",
       "      <th>cantidad_BAQ-FRU1-CAT1-111:277:659:660</th>\n",
       "      <th>cantidad_BAQ-FRU1-CAT1-14:49:115:116</th>\n",
       "      <th>cantidad_BAQ-FRU1-CAT1-157:273:651:652</th>\n",
       "      <th>cantidad_BAQ-FRU1-CAT1-15:50:117:118</th>\n",
       "      <th>cantidad_BAQ-FRU1-CAT1-16:51:119:120</th>\n",
       "      <th>cantidad_BAQ-FRU1-CAT1-19:52:121:122</th>\n",
       "      <th>cantidad_BAQ-FRU1-CAT1-205:306:758:759</th>\n",
       "      <th>cantidad_BAQ-FRU1-CAT1-208:432:1113:1114</th>\n",
       "      <th>cantidad_BAQ-FRU1-CAT1-20:53:123:124</th>\n",
       "      <th>cantidad_BAQ-FRU1-CAT1-21:54:125:126</th>\n",
       "      <th>...</th>\n",
       "      <th>cantidad_BAQ-FRU1-CAT6-26:59:135:136</th>\n",
       "      <th>cantidad_BAQ-FRU1-CAT6-283:371:966:967</th>\n",
       "      <th>cantidad_BAQ-FRU1-CAT6-298:790:2017:2018</th>\n",
       "      <th>cantidad_BAQ-FRU1-CAT6-43:73:164:863</th>\n",
       "      <th>cantidad_BAQ-FRU1-CAT6-46:61:139:140</th>\n",
       "      <th>cantidad_BAQ-FRU1-CAT6-46:61:239:240</th>\n",
       "      <th>cantidad_BAQ-FRU1-CAT6-46:61:727:728</th>\n",
       "      <th>cantidad_BAQ-FRU1-CAT6-64:86:193:194</th>\n",
       "      <th>cantidad_BAQ-FRU1-CAT6-658:852:2157:2158</th>\n",
       "      <th>cantidad_BAQ-FRU1-CAT6-82:276:657:658</th>\n",
       "    </tr>\n",
       "  </thead>\n",
       "  <tbody>\n",
       "    <tr>\n",
       "      <th>cantidad_BAQ-FRU1-CAT1-111:277:659:660</th>\n",
       "      <td>1.0</td>\n",
       "      <td>-0.039558</td>\n",
       "      <td>-0.091036</td>\n",
       "      <td>-0.023699</td>\n",
       "      <td>0.063767</td>\n",
       "      <td>0.090429</td>\n",
       "      <td>0.03692</td>\n",
       "      <td>-0.023119</td>\n",
       "      <td>0.181888</td>\n",
       "      <td>-0.000177</td>\n",
       "      <td>...</td>\n",
       "      <td>-0.063246</td>\n",
       "      <td>-0.111847</td>\n",
       "      <td>-0.062049</td>\n",
       "      <td>-0.075137</td>\n",
       "      <td>-0.071414</td>\n",
       "      <td>0.11249</td>\n",
       "      <td>-0.071032</td>\n",
       "      <td>0.04816</td>\n",
       "      <td>0.061956</td>\n",
       "      <td>0.005426</td>\n",
       "    </tr>\n",
       "  </tbody>\n",
       "</table>\n",
       "<p>1 rows × 132 columns</p>\n",
       "</div>"
      ],
      "text/plain": [
       "                                        cantidad_BAQ-FRU1-CAT1-111:277:659:660  \\\n",
       "cantidad_BAQ-FRU1-CAT1-111:277:659:660                                     1.0   \n",
       "\n",
       "                                        cantidad_BAQ-FRU1-CAT1-14:49:115:116  \\\n",
       "cantidad_BAQ-FRU1-CAT1-111:277:659:660                             -0.039558   \n",
       "\n",
       "                                        cantidad_BAQ-FRU1-CAT1-157:273:651:652  \\\n",
       "cantidad_BAQ-FRU1-CAT1-111:277:659:660                               -0.091036   \n",
       "\n",
       "                                        cantidad_BAQ-FRU1-CAT1-15:50:117:118  \\\n",
       "cantidad_BAQ-FRU1-CAT1-111:277:659:660                             -0.023699   \n",
       "\n",
       "                                        cantidad_BAQ-FRU1-CAT1-16:51:119:120  \\\n",
       "cantidad_BAQ-FRU1-CAT1-111:277:659:660                              0.063767   \n",
       "\n",
       "                                        cantidad_BAQ-FRU1-CAT1-19:52:121:122  \\\n",
       "cantidad_BAQ-FRU1-CAT1-111:277:659:660                              0.090429   \n",
       "\n",
       "                                        cantidad_BAQ-FRU1-CAT1-205:306:758:759  \\\n",
       "cantidad_BAQ-FRU1-CAT1-111:277:659:660                                 0.03692   \n",
       "\n",
       "                                        cantidad_BAQ-FRU1-CAT1-208:432:1113:1114  \\\n",
       "cantidad_BAQ-FRU1-CAT1-111:277:659:660                                 -0.023119   \n",
       "\n",
       "                                        cantidad_BAQ-FRU1-CAT1-20:53:123:124  \\\n",
       "cantidad_BAQ-FRU1-CAT1-111:277:659:660                              0.181888   \n",
       "\n",
       "                                        cantidad_BAQ-FRU1-CAT1-21:54:125:126  \\\n",
       "cantidad_BAQ-FRU1-CAT1-111:277:659:660                             -0.000177   \n",
       "\n",
       "                                        ...  \\\n",
       "cantidad_BAQ-FRU1-CAT1-111:277:659:660  ...   \n",
       "\n",
       "                                        cantidad_BAQ-FRU1-CAT6-26:59:135:136  \\\n",
       "cantidad_BAQ-FRU1-CAT1-111:277:659:660                             -0.063246   \n",
       "\n",
       "                                        cantidad_BAQ-FRU1-CAT6-283:371:966:967  \\\n",
       "cantidad_BAQ-FRU1-CAT1-111:277:659:660                               -0.111847   \n",
       "\n",
       "                                        cantidad_BAQ-FRU1-CAT6-298:790:2017:2018  \\\n",
       "cantidad_BAQ-FRU1-CAT1-111:277:659:660                                 -0.062049   \n",
       "\n",
       "                                        cantidad_BAQ-FRU1-CAT6-43:73:164:863  \\\n",
       "cantidad_BAQ-FRU1-CAT1-111:277:659:660                             -0.075137   \n",
       "\n",
       "                                        cantidad_BAQ-FRU1-CAT6-46:61:139:140  \\\n",
       "cantidad_BAQ-FRU1-CAT1-111:277:659:660                             -0.071414   \n",
       "\n",
       "                                        cantidad_BAQ-FRU1-CAT6-46:61:239:240  \\\n",
       "cantidad_BAQ-FRU1-CAT1-111:277:659:660                               0.11249   \n",
       "\n",
       "                                        cantidad_BAQ-FRU1-CAT6-46:61:727:728  \\\n",
       "cantidad_BAQ-FRU1-CAT1-111:277:659:660                             -0.071032   \n",
       "\n",
       "                                        cantidad_BAQ-FRU1-CAT6-64:86:193:194  \\\n",
       "cantidad_BAQ-FRU1-CAT1-111:277:659:660                               0.04816   \n",
       "\n",
       "                                        cantidad_BAQ-FRU1-CAT6-658:852:2157:2158  \\\n",
       "cantidad_BAQ-FRU1-CAT1-111:277:659:660                                  0.061956   \n",
       "\n",
       "                                        cantidad_BAQ-FRU1-CAT6-82:276:657:658  \n",
       "cantidad_BAQ-FRU1-CAT1-111:277:659:660                               0.005426  \n",
       "\n",
       "[1 rows x 132 columns]"
      ]
     },
     "execution_count": 61,
     "metadata": {},
     "output_type": "execute_result"
    }
   ],
   "source": [
    "Base_total_sliced2 = merged_df2[['fecha', 'producto','sku','cantidad','Precio medio']].copy()\n",
    "Base_total_sliced2.head(1)\n",
    "\n",
    "# Calcular la matriz de correlaciones\n",
    "grouped_df = Base_total_sliced2.groupby(['fecha', 'sku']).mean().reset_index()\n",
    "\n",
    "# Pivotar el DataFrame para obtener las columnas deseadas\n",
    "pivoted_df = grouped_df.pivot(index='fecha', columns='sku', values=['cantidad'])\n",
    "\n",
    "# Renombrar las columnas para que tengan el formato deseado\n",
    "pivoted_df.columns = [f'{col[0]}_{col[1]}' for col in pivoted_df.columns]\n",
    "\n",
    "# Reiniciar el índice para tener una estructura más limpia\n",
    "pivoted_df.reset_index(inplace=True)\n",
    "\n",
    "# Mostrar el DataFrame resultante\n",
    "corr_matrix = pivoted_df.corr()\n",
    "corr_matrix.head(1)"
   ]
  },
  {
   "cell_type": "code",
   "execution_count": 66,
   "id": "521b41da",
   "metadata": {},
   "outputs": [],
   "source": [
    "stacked_corr = corr_matrix.stack().reset_index()\n",
    "stacked_corr.columns = ['Producto1', 'Producto2', 'Correlacion']\n",
    "stacked_corr\n",
    "stacked_corr.head(1)\n",
    "stacked_corr.to_csv(\"../interim/correlaciones_cantidad.csv\")"
   ]
  },
  {
   "cell_type": "code",
   "execution_count": 67,
   "id": "eac13870",
   "metadata": {
    "scrolled": true
   },
   "outputs": [
    {
     "data": {
      "text/html": [
       "<div>\n",
       "<style scoped>\n",
       "    .dataframe tbody tr th:only-of-type {\n",
       "        vertical-align: middle;\n",
       "    }\n",
       "\n",
       "    .dataframe tbody tr th {\n",
       "        vertical-align: top;\n",
       "    }\n",
       "\n",
       "    .dataframe thead th {\n",
       "        text-align: right;\n",
       "    }\n",
       "</style>\n",
       "<table border=\"1\" class=\"dataframe\">\n",
       "  <thead>\n",
       "    <tr style=\"text-align: right;\">\n",
       "      <th></th>\n",
       "      <th>Producto1</th>\n",
       "      <th>Producto2</th>\n",
       "      <th>Correlacion</th>\n",
       "    </tr>\n",
       "  </thead>\n",
       "  <tbody>\n",
       "    <tr>\n",
       "      <th>0</th>\n",
       "      <td>cantidad_BAQ-FRU1-CAT1-111:277:659:660</td>\n",
       "      <td>cantidad_BAQ-FRU1-CAT1-111:277:659:660</td>\n",
       "      <td>1.000000</td>\n",
       "    </tr>\n",
       "    <tr>\n",
       "      <th>1</th>\n",
       "      <td>cantidad_BAQ-FRU1-CAT1-111:277:659:660</td>\n",
       "      <td>cantidad_BAQ-FRU1-CAT1-14:49:115:116</td>\n",
       "      <td>-0.039558</td>\n",
       "    </tr>\n",
       "    <tr>\n",
       "      <th>2</th>\n",
       "      <td>cantidad_BAQ-FRU1-CAT1-111:277:659:660</td>\n",
       "      <td>cantidad_BAQ-FRU1-CAT1-157:273:651:652</td>\n",
       "      <td>-0.091036</td>\n",
       "    </tr>\n",
       "    <tr>\n",
       "      <th>3</th>\n",
       "      <td>cantidad_BAQ-FRU1-CAT1-111:277:659:660</td>\n",
       "      <td>cantidad_BAQ-FRU1-CAT1-15:50:117:118</td>\n",
       "      <td>-0.023699</td>\n",
       "    </tr>\n",
       "  </tbody>\n",
       "</table>\n",
       "</div>"
      ],
      "text/plain": [
       "                                Producto1  \\\n",
       "0  cantidad_BAQ-FRU1-CAT1-111:277:659:660   \n",
       "1  cantidad_BAQ-FRU1-CAT1-111:277:659:660   \n",
       "2  cantidad_BAQ-FRU1-CAT1-111:277:659:660   \n",
       "3  cantidad_BAQ-FRU1-CAT1-111:277:659:660   \n",
       "\n",
       "                                Producto2  Correlacion  \n",
       "0  cantidad_BAQ-FRU1-CAT1-111:277:659:660     1.000000  \n",
       "1    cantidad_BAQ-FRU1-CAT1-14:49:115:116    -0.039558  \n",
       "2  cantidad_BAQ-FRU1-CAT1-157:273:651:652    -0.091036  \n",
       "3    cantidad_BAQ-FRU1-CAT1-15:50:117:118    -0.023699  "
      ]
     },
     "execution_count": 67,
     "metadata": {},
     "output_type": "execute_result"
    }
   ],
   "source": [
    "stacked_corr.head(4)"
   ]
  },
  {
   "cell_type": "code",
   "execution_count": null,
   "id": "34655bbd",
   "metadata": {},
   "outputs": [],
   "source": []
  }
 ],
 "metadata": {
  "kernelspec": {
   "display_name": "Python 3 (ipykernel)",
   "language": "python",
   "name": "python3"
  },
  "language_info": {
   "codemirror_mode": {
    "name": "ipython",
    "version": 3
   },
   "file_extension": ".py",
   "mimetype": "text/x-python",
   "name": "python",
   "nbconvert_exporter": "python",
   "pygments_lexer": "ipython3",
   "version": "3.11.4"
  }
 },
 "nbformat": 4,
 "nbformat_minor": 5
}
